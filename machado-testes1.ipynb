{
 "cells": [
  {
   "cell_type": "markdown",
   "metadata": {
    "id": "Mb6ouoNoNaPi"
   },
   "source": [
    "# INSTRUÇÕES INICIAIS\n",
    "\n",
    "> ### 1. Acessar https://colab.google/\n",
    "> ### 2. Fazer login com Gmail\n",
    "> ### 3. Deixar Bing, Bard ou ChatGPT disponível em aba do Firefox/Chrome/Edge"
   ]
  },
  {
   "cell_type": "markdown",
   "metadata": {
    "id": "jqduRNBwQyIz"
   },
   "source": [
    "# 'SABER PROGRAMAR' É O NOVO 'SABER INGLÊS'\n",
    "\n",
    "> A habilidade de programar, assim como o domínio do idioma inglês, tornou-se essencial em um mundo cada vez mais digital e tecnológico, abrindo portas para oportunidades educacionais e de carreira."
   ]
  },
  {
   "cell_type": "markdown",
   "metadata": {
    "id": "1X_uxGAvMDKZ"
   },
   "source": [
    "# O QUE É PYTHON?\n",
    "\n",
    "> Python é uma linguagem de programação de **alto nível** criada por Guido van Rossum em 1991. Sua simplicidade, legibilidade e vasta biblioteca padrão a tornam amplamente utilizada em desenvolvimento web, científico, automação, IA, e muito mais. É reconhecida por sua **fácil aprendizagem**, o que a torna uma escolha popular para **programadores iniciantes** e experientes.\n",
    "\n",
    "Documentação em português: https://docs.python.org/pt-br/3/library/"
   ]
  },
  {
   "cell_type": "markdown",
   "metadata": {
    "id": "DIdx8F19NJNi"
   },
   "source": [
    "# BAIXO NÍVEL vs. ALTO NÍVEL\n",
    "\n",
    "> Linguagens de **alto nível** são mais humanamente compreensíveis, facilitando a escrita de código, enquanto linguagens de baixo nível são mais próximas do código de máquina, mais complexas e envolvem detalhes de hardware. Códigos de alto nível tendem a ser mais concisos devido a abstrações, enquanto códigos de **baixo nível** requerem escrita de mais linhas para detalhes específicos.\n",
    "\n",
    "\n",
    "\n",
    "\n",
    "\n"
   ]
  },
  {
   "cell_type": "markdown",
   "metadata": {
    "id": "2ZSDb-r3Ojcs"
   },
   "source": [
    "#LINGUÍSTICA DE CORPUS\n",
    "\n",
    "> A Linguística de Corpus é uma disciplina linguística que se baseia na análise de grandes coleções de textos (**corpora**) para identificar padrões linguísticos, tendências e regularidades na língua. Ela utiliza métodos computacionais para extrair informações e insights sobre a linguagem, auxiliando na compreensão de como as palavras e as estruturas linguísticas são usadas em contextos reais de comunicação. Essa abordagem é valiosa para estudos linguísticos, lexicografia, tradução, **processamento de linguagem natural** e muitas outras aplicações relacionadas à linguagem."
   ]
  },
  {
   "cell_type": "markdown",
   "metadata": {
    "id": "pIAesKcYLKcK"
   },
   "source": [
    "# CORPUS EM PORTUGUÊS DO BRASIL\n",
    "\n",
    "> [Projeto AC/DC - Acesso a corpora/Disponibilização de corpora](https://www.linguateca.pt/acesso/corpus.php?corpus=CBRAS)\n",
    "\n",
    "> [Corpus Brasileiro](http://corpusbrasileiro.pucsp.br/cb/Inicial.html)\n",
    "\n",
    "> [Aelius Brazilian Portuguese POS-Tagger / Python, NLTK-based package for shallow parsing of Brazilian Portuguese](https://sourceforge.net/projects/aelius/)\n",
    "\n",
    "> [Sketch Engine | contains 600 ready-to-use corpora in 90+ languages, each having a size of up to 60 billion words to provide a truly representative sample of language.](https://www.sketchengine.eu/)\n",
    "\n",
    "> [Machado de Assis - Corpus e Catálogo](https://macc.fflch.usp.br/)"
   ]
  },
  {
   "cell_type": "markdown",
   "metadata": {
    "id": "d2zhd_vTOEKI"
   },
   "source": [
    "# PYTHON NA LINGUÍSTICA DE CORPUS\n",
    "\n",
    "> Python é altamente vantajoso na Linguística de Corpus. Ele facilita a programação de análises de texto, criação de programas específicos e oferece ferramentas para coleta, organização e processamento de textos. Bibliotecas como NLTK e spaCy são essenciais. Além disso, Python é útil para análises estatísticas e até mesmo para aplicar aprendizado de máquina (machine learning) na exploração de corpora, contribuindo muito para estudos em Linguística de Corpus."
   ]
  },
  {
   "cell_type": "markdown",
   "metadata": {
    "id": "vqbzjUiJOomi"
   },
   "source": [
    "#LINGUÍSTICA COMPUTACIONAL\n",
    "\n",
    "> A Linguística Computacional é um campo interdisciplinar que combina linguística e ciência da computação para desenvolver algoritmos, modelos e ferramentas computacionais para analisar, processar e entender a linguagem humana. Ela abrange áreas como processamento de linguagem natural, tradução automática, síntese de voz, análise de sentimentos e muito mais, com o objetivo de criar sistemas que interajam com a linguagem de maneira inteligente e automatizada."
   ]
  },
  {
   "cell_type": "markdown",
   "metadata": {
    "id": "43hRYc5MO6I1"
   },
   "source": [
    "# SUGESTÕES DE LIVROS\n",
    "![Python Para Linguística de Cprpus](https://images-na.ssl-images-amazon.com/images/I/41MwBwrqyuL._SX384_BO1,204,203,200_.jpg)\n",
    "![Para conhecer linguística computacional](https://images-na.ssl-images-amazon.com/images/I/4196l1AmoTL._SX346_BO1,204,203,200_.jpg)"
   ]
  },
  {
   "cell_type": "markdown",
   "metadata": {
    "id": "pshgLMS_SrVo"
   },
   "source": [
    "# LINGUAGEM NATURAL VS. LINGUAGEM DE PROGRAMAÇÃO\n",
    "As **linguagens naturais** e as **linguagens de programação** são sistemas de comunicação que compartilham semelhanças e diferenças.\n",
    "\n",
    "### Semelhanças\n",
    "\n",
    "* Ambos os sistemas são usados para comunicar ideias e informações. As línguas naturais são usadas para comunicar ideias e informações de forma oral ou escrita, enquanto as linguagens de programação são usadas para comunicar instruções a um computador.\n",
    "* Ambos os sistemas usam regras para estruturar a comunicação. As línguas naturais usam regras gramaticais, enquanto as linguagens de programação usam regras sintáticas e semânticas.\n",
    "* Ambos os sistemas são **dinâmicos e evoluem ao longo do tempo**. As línguas naturais evoluem à medida que são **usadas por pessoas diferentes**, enquanto as linguagens de programação evoluem à medida que são **usadas por programadores diferentes**.\n",
    "\n",
    "### Diferenças\n",
    "\n",
    "* O propósito dos sistemas é diferente. As línguas naturais são usadas para comunicação humana, enquanto as linguagens de programação são usadas para controlar o comportamento de um computador.\n",
    "* O nível de abstração dos sistemas é diferente. As línguas naturais são um sistema de comunicação de baixo nível que representa o mundo da forma como é percebido pelos humanos. As linguagens de programação são um sistema de comunicação de alto nível que representa o mundo da forma como é percebido pelos computadores.\n",
    "* O nível de formalização dos sistemas é diferente. As línguas naturais são um sistema de comunicação informal que permite **ambiguidade e interpretação**. As linguagens de programação são um sistema de comunicação formal que requer **precisão e clareza**."
   ]
  },
  {
   "cell_type": "markdown",
   "metadata": {
    "id": "Hq0YAs9Zpw9b"
   },
   "source": [
    "#PLN (PROCESSAMENTO DE LINGUAGEM NATURAL)\n",
    "### NLP (NATURAL LANGUAGE PROCESSING)\n",
    "\n",
    "O Processamento de Linguagem Natural (PLN) é um ramo da inteligência artificial que visa dar ao computador a capacidade de processar linguagem humana. Esse campo de estudo é interdisciplinar e por esse motivo ele pode ser denominado por outros nomes, tais como: processamento de fala e linguagem, tecnologia da linguagem, linguística computacional e reconhecimento e síntese de fala. O objetivo é fazer com que os computadores possam executar tarefas envolvendo linguagem humana, possibilitando a comunicação humano-máquina, melhorando a comunicação entre humanos ou simplesmente fazendo processamento útil de texto e/ou fala."
   ]
  },
  {
   "cell_type": "markdown",
   "metadata": {
    "id": "iEL28rl2VlrU"
   },
   "source": [
    "## PIRÂMIDE DO PLN\n",
    "\n",
    "> As abordagens linguísticas dentro do PLN podem ser divididas em tarefas ou níveis de conhecimento, representadas por uma pirâmide. O topo mostra as tarefas de maior dificuldade para **ensinar à máquina** e a base as de menor dificuldade, como pode ser visto na figura a seguir:\n",
    "\n",
    "![Relação entre Linguística e Processamento de Linguagem Natural](https://www.alura.com.br/artigos/assets/relacao-linguistica-processamento-de-linguagem-natural/imagem1.png)\n",
    "\n",
    "> [Relação entre Linguística e Processamento de Linguagem Natural](https://www.alura.com.br/artigos/relacao-linguistica-processamento-de-linguagem-natural)"
   ]
  },
  {
   "cell_type": "markdown",
   "metadata": {
    "id": "yc5PHs9kQEty"
   },
   "source": [
    "# GOOGLE COLAB\n",
    "\n",
    "> O Google Colab é uma plataforma de pesquisa online que permite aos usuários escrever e executar código Python no navegador. Oferece acesso gratuito a máquinas virtuais com GPUs, suporta notebooks Jupyter, possui bibliotecas pré-instaladas e facilita a colaboração em tempo real. É amplamente usado para desenvolvimento em aprendizado de máquina e análise de dados."
   ]
  },
  {
   "cell_type": "markdown",
   "metadata": {
    "id": "dBMjYvUneeH3"
   },
   "source": [
    "# HORA DE PROGRAMAR!"
   ]
  },
  {
   "cell_type": "markdown",
   "metadata": {
    "id": "PN9eACQFQzdq"
   },
   "source": [
    "# HELLO, WORLD!\n",
    "\n",
    "A expressão \"Hello, World\" tem uma origem interessante na programação de computadores. Ela foi popularizada por Brian Kernighan em 1972, quando ele escreveu um código em C em seu livro \"A Linguagem de Programação C\" (The C Programming Language). O código era o seguinte:\n",
    "<br><br>\n",
    "> int main () {<br>\n",
    "         printf (\"Hello World!\\\\n\");<br>\n",
    "         return 0;<br>\n",
    "}\n",
    "<br><br>\n",
    "\n",
    "Este código simplesmente imprime a frase \"Hello, World!\". Desde então, \"Hello, World\" tem sido amplamente utilizado como o primeiro programa que os novos programadores escrevem ao aprender uma nova linguagem de programação. É uma maneira simples de verificar se o ambiente de programação está configurado corretamente e se o código básico pode ser executado sem erros.\n",
    "\n",
    "Existe até uma lenda que diz que os desenvolvedores que não utilizam \"Hello, World\" terão muitos bugs pela frente com a linguagem escolhida. Portanto, \"Hello, World\" é mais do que apenas uma frase - é um rito de passagem no mundo da programação."
   ]
  },
  {
   "cell_type": "markdown",
   "metadata": {
    "id": "asGcYJX9T-gh"
   },
   "source": [
    "# OLARRR!!"
   ]
  },
  {
   "cell_type": "code",
   "execution_count": null,
   "metadata": {
    "colab": {
     "base_uri": "https://localhost:8080/"
    },
    "id": "HSg5gitsPlo1",
    "outputId": "b94523ec-228a-4003-d1bd-df1626918066"
   },
   "outputs": [],
   "source": [
    "# Este programa imprime a mensagem \"Hello, world!\"\n",
    "\n",
    "print(\"Hello, world!\")"
   ]
  },
  {
   "cell_type": "markdown",
   "metadata": {
    "id": "eAPcO4RNQ6EL"
   },
   "source": [
    "## Exercício 1: Escreva um programa que leia uma string e imprima o seu comprimento."
   ]
  },
  {
   "cell_type": "code",
   "execution_count": null,
   "metadata": {
    "colab": {
     "base_uri": "https://localhost:8080/"
    },
    "id": "_hk5byqtPsh2",
    "outputId": "05b07588-e1ec-400d-9e00-4a9af14ec0e4"
   },
   "outputs": [],
   "source": [
    "# Este programa lê uma string e imprime o seu comprimento\n",
    "\n",
    "string = input(\"Digite uma string: \")\n",
    "\n",
    "print(\"O comprimento da string é\", len(string))"
   ]
  },
  {
   "cell_type": "markdown",
   "metadata": {
    "id": "UVtTtXRnRl6P"
   },
   "source": [
    "## Exercício 2: Escreva um programa que leia uma string e imprima a primeira e a última letra da string."
   ]
  },
  {
   "cell_type": "code",
   "execution_count": null,
   "metadata": {
    "colab": {
     "base_uri": "https://localhost:8080/"
    },
    "id": "jOnO4SZNP95D",
    "outputId": "78ddfe7f-864f-449a-80e4-96cdab478b25"
   },
   "outputs": [],
   "source": [
    "# Este programa lê uma string e imprime a primeira e a última letra da string\n",
    "\n",
    "string = input(\"Digite uma string: \")\n",
    "\n",
    "print(\"A primeira letra da string é\", string[0])\n",
    "print(\"A última letra da string é\", string[-1])"
   ]
  },
  {
   "cell_type": "markdown",
   "metadata": {
    "id": "y4nIp3CpVnkv"
   },
   "source": [
    "## Exercício 3: Escreva um programa que leia uma string e imprima a string invertida."
   ]
  },
  {
   "cell_type": "code",
   "execution_count": null,
   "metadata": {
    "colab": {
     "base_uri": "https://localhost:8080/"
    },
    "id": "dDIM_iDKQGJv",
    "outputId": "22a3f403-cc91-4bca-debd-656340005ef7"
   },
   "outputs": [],
   "source": [
    "# Este programa lê uma string e imprime a string invertida\n",
    "\n",
    "string = input(\"Digite uma string: \")\n",
    "\n",
    "print(string[::-1])"
   ]
  },
  {
   "cell_type": "markdown",
   "metadata": {
    "id": "fHH6J5oAVusS"
   },
   "source": [
    "## Exercício 4: Escreva um programa que leia uma string e imprima a quantidade de ocorrências de uma letra na string."
   ]
  },
  {
   "cell_type": "code",
   "execution_count": null,
   "metadata": {
    "colab": {
     "base_uri": "https://localhost:8080/"
    },
    "id": "RD4lePKSQN_7",
    "outputId": "840e6d49-bedc-44b1-b71a-89e970860107"
   },
   "outputs": [],
   "source": [
    "# Este programa lê uma string e imprime a quantidade de ocorrências de uma letra na string\n",
    "\n",
    "string = input(\"Digite uma string: \")\n",
    "letra = input(\"Digite uma letra: \")\n",
    "\n",
    "ocorrencias = 0\n",
    "for caractere in string:\n",
    "    if caractere == letra:\n",
    "        ocorrencias += 1\n",
    "\n",
    "print(\"A letra\", letra, \"aparece\", ocorrencias, \"vezes na string.\")\n",
    "\n",
    "# ATENÇÃO!! PYTHON DIFERENCIA LETRA MAIÚSCULA E MINÚSCULA!!"
   ]
  },
  {
   "cell_type": "markdown",
   "metadata": {
    "id": "3NzF1dmeWI3y"
   },
   "source": [
    "## Exercício 5: Escreva um programa que leia uma string e imprima as palavras da string."
   ]
  },
  {
   "cell_type": "code",
   "execution_count": null,
   "metadata": {
    "colab": {
     "base_uri": "https://localhost:8080/"
    },
    "id": "A_AwQt-GQYgY",
    "outputId": "91c6199a-729e-49f6-c0b4-4e29da5ee2e1"
   },
   "outputs": [],
   "source": [
    "# Este programa lê uma string e imprime as palavras da string\n",
    "\n",
    "string = input(\"Digite uma string: \")\n",
    "\n",
    "palavras = string.split()\n",
    "\n",
    "for palavra in palavras:\n",
    "    print(palavra)"
   ]
  },
  {
   "cell_type": "code",
   "execution_count": null,
   "metadata": {
    "id": "HxP0279CXh1p"
   },
   "outputs": [],
   "source": []
  },
  {
   "cell_type": "markdown",
   "metadata": {
    "id": "ilJ39o7eXi1l"
   },
   "source": [
    "# DESAFIO 1\n",
    "## Através do ChatGPT, Google, etc., descubra como printar uma string originalmente minúscula como MAIÚSCULA. Crie um campo de código abaixo para escrever a solução."
   ]
  },
  {
   "cell_type": "markdown",
   "metadata": {
    "id": "La6RcIJpYMvM"
   },
   "source": [
    "# DESAFIO 2\n",
    "\n",
    "## Através do ChatGPT, Google, etc., descubra como printar uma string originalmente MAIÚSCULA como minúscula. Crie um campo de código abaixo para escrever a solução."
   ]
  },
  {
   "cell_type": "markdown",
   "metadata": {
    "id": "w44jW6GJokua"
   },
   "source": [
    "# 100% GRATUITO, 100% ONLINE\n",
    "\n",
    "## Excelente curso gratuito de Python da Data Science Academy, com 72 horas de conteúdo!!!\n",
    "\n",
    "https://www.datascienceacademy.com.br/cursosgratuitos"
   ]
  },
  {
   "cell_type": "markdown",
   "metadata": {
    "id": "1u1WlDcbPZT0"
   },
   "source": [
    "#NLTK\n",
    "O NLTK (Natural Language Toolkit) é uma biblioteca Python amplamente utilizada para o processamento de linguagem natural. Ela fornece ferramentas e recursos para tarefas como tokenização, análise gramatical, extração de informações, análise de sentimentos e muito mais. O NLTK é fundamental para pesquisadores e desenvolvedores que trabalham com texto e linguagem, permitindo a implementação de soluções de processamento de linguagem natural de maneira eficaz e eficiente."
   ]
  },
  {
   "cell_type": "code",
   "execution_count": 1,
   "metadata": {
    "colab": {
     "base_uri": "https://localhost:8080/"
    },
    "id": "z29G7ju5E0cU",
    "outputId": "cb052de5-196b-4ed9-9987-6e8aaf9c41eb"
   },
   "outputs": [
    {
     "name": "stdout",
     "output_type": "stream",
     "text": [
      "Requirement already satisfied: nltk in c:\\python312\\lib\\site-packages (3.9.1)\n",
      "Requirement already satisfied: click in c:\\python312\\lib\\site-packages (from nltk) (8.1.8)\n",
      "Requirement already satisfied: joblib in c:\\python312\\lib\\site-packages (from nltk) (1.5.0)\n",
      "Requirement already satisfied: regex>=2021.8.3 in c:\\python312\\lib\\site-packages (from nltk) (2024.11.6)\n",
      "Requirement already satisfied: tqdm in c:\\python312\\lib\\site-packages (from nltk) (4.67.1)\n",
      "Requirement already satisfied: colorama in c:\\python312\\lib\\site-packages (from click->nltk) (0.4.6)\n"
     ]
    },
    {
     "name": "stderr",
     "output_type": "stream",
     "text": [
      "\n",
      "[notice] A new release of pip is available: 24.0 -> 25.1.1\n",
      "[notice] To update, run: python.exe -m pip install --upgrade pip\n"
     ]
    }
   ],
   "source": [
    "# INSTALAÇÃO DA BIBLIOTECA\n",
    "!pip install nltk"
   ]
  },
  {
   "cell_type": "code",
   "execution_count": 2,
   "metadata": {
    "id": "9YDfY9XZcJVa"
   },
   "outputs": [],
   "source": [
    "# IMPORTAÇÃO - ISTO É, VAMOS 'CHAMAR' A(S) BIBLIOTECA(S) NECESSÁRIAS PARA A ANÁLISE\n",
    "import nltk\n",
    "import re # regular expressions / expressões regulares\n",
    "import string # pontuações existentes"
   ]
  },
  {
   "cell_type": "code",
   "execution_count": null,
   "metadata": {
    "colab": {
     "base_uri": "https://localhost:8080/"
    },
    "id": "ST2n01H0nU7a",
    "outputId": "31d727ab-8463-47fd-b23b-a93abc1f0f4d"
   },
   "outputs": [],
   "source": [
    "print(string.punctuation)"
   ]
  },
  {
   "cell_type": "markdown",
   "metadata": {
    "id": "NhdHwpmgdVbd"
   },
   "source": [
    "# STOPWORDS\n",
    "\n",
    "> Existem palavras na construção textual chamadas de stopwords, tais palavras, dentro de uma abordagem de NLP, são irrelevantes e sua remoção colaboram com a analise textual. Alguns exemplos de stopwords comuns no português são preposições (em, na, no, etc), artigos (a, o,os, etc), conjunções (e, mas, etc), entre outras. Quando analisadas pela máquina, essas palavras não possuem significância, podendo apenas atrapalhar os processos de aprendizado de máquina. Por esse motivo, geralmente, no pré-processamento removemos essas palavras. A biblioteca NLTK mais uma vez auxilia nesse processo, pois fornece as stopwords de uma língua."
   ]
  },
  {
   "cell_type": "code",
   "execution_count": 3,
   "metadata": {
    "colab": {
     "base_uri": "https://localhost:8080/"
    },
    "id": "CbFgWRzJnQ75",
    "outputId": "08e244b3-a9a1-4481-9ac0-2ed0eb5ba3fd"
   },
   "outputs": [
    {
     "name": "stderr",
     "output_type": "stream",
     "text": [
      "[nltk_data] Downloading package stopwords to\n",
      "[nltk_data]     C:\\Users\\miche\\AppData\\Roaming\\nltk_data...\n",
      "[nltk_data]   Package stopwords is already up-to-date!\n"
     ]
    }
   ],
   "source": [
    "nltk.download('stopwords')\n",
    "stopwords = nltk.corpus.stopwords.words('portuguese')"
   ]
  },
  {
   "cell_type": "code",
   "execution_count": 4,
   "metadata": {
    "colab": {
     "base_uri": "https://localhost:8080/"
    },
    "id": "pd0I__DPd6gq",
    "outputId": "ebd8f5ff-dfee-457a-9955-e1c9b40a3f24"
   },
   "outputs": [
    {
     "name": "stdout",
     "output_type": "stream",
     "text": [
      "['a', 'à', 'ao', 'aos', 'aquela', 'aquelas', 'aquele', 'aqueles', 'aquilo', 'as', 'às', 'até', 'com', 'como', 'da', 'das', 'de', 'dela', 'delas', 'dele', 'deles', 'depois', 'do', 'dos', 'e', 'é', 'ela', 'elas', 'ele', 'eles', 'em', 'entre', 'era', 'eram', 'éramos', 'essa', 'essas', 'esse', 'esses', 'esta', 'está', 'estamos', 'estão', 'estar', 'estas', 'estava', 'estavam', 'estávamos', 'este', 'esteja', 'estejam', 'estejamos', 'estes', 'esteve', 'estive', 'estivemos', 'estiver', 'estivera', 'estiveram', 'estivéramos', 'estiverem', 'estivermos', 'estivesse', 'estivessem', 'estivéssemos', 'estou', 'eu', 'foi', 'fomos', 'for', 'fora', 'foram', 'fôramos', 'forem', 'formos', 'fosse', 'fossem', 'fôssemos', 'fui', 'há', 'haja', 'hajam', 'hajamos', 'hão', 'havemos', 'haver', 'hei', 'houve', 'houvemos', 'houver', 'houvera', 'houverá', 'houveram', 'houvéramos', 'houverão', 'houverei', 'houverem', 'houveremos', 'houveria', 'houveriam', 'houveríamos', 'houvermos', 'houvesse', 'houvessem', 'houvéssemos', 'isso', 'isto', 'já', 'lhe', 'lhes', 'mais', 'mas', 'me', 'mesmo', 'meu', 'meus', 'minha', 'minhas', 'muito', 'na', 'não', 'nas', 'nem', 'no', 'nos', 'nós', 'nossa', 'nossas', 'nosso', 'nossos', 'num', 'numa', 'o', 'os', 'ou', 'para', 'pela', 'pelas', 'pelo', 'pelos', 'por', 'qual', 'quando', 'que', 'quem', 'são', 'se', 'seja', 'sejam', 'sejamos', 'sem', 'ser', 'será', 'serão', 'serei', 'seremos', 'seria', 'seriam', 'seríamos', 'seu', 'seus', 'só', 'somos', 'sou', 'sua', 'suas', 'também', 'te', 'tem', 'tém', 'temos', 'tenha', 'tenham', 'tenhamos', 'tenho', 'terá', 'terão', 'terei', 'teremos', 'teria', 'teriam', 'teríamos', 'teu', 'teus', 'teve', 'tinha', 'tinham', 'tínhamos', 'tive', 'tivemos', 'tiver', 'tivera', 'tiveram', 'tivéramos', 'tiverem', 'tivermos', 'tivesse', 'tivessem', 'tivéssemos', 'tu', 'tua', 'tuas', 'um', 'uma', 'você', 'vocês', 'vos']\n"
     ]
    },
    {
     "data": {
      "text/plain": [
       "207"
      ]
     },
     "execution_count": 4,
     "metadata": {},
     "output_type": "execute_result"
    }
   ],
   "source": [
    "print(stopwords)\n",
    "len(stopwords)"
   ]
  },
  {
   "cell_type": "markdown",
   "metadata": {
    "id": "AyshDknTfOzu"
   },
   "source": [
    "# PUNKT"
   ]
  },
  {
   "cell_type": "code",
   "execution_count": 4,
   "metadata": {
    "colab": {
     "base_uri": "https://localhost:8080/"
    },
    "id": "0epXSvI5fKhv",
    "outputId": "dafd5abb-2ae7-4b64-b2c7-ce28ce22df76"
   },
   "outputs": [
    {
     "name": "stderr",
     "output_type": "stream",
     "text": [
      "[nltk_data] Downloading package punkt to\n",
      "[nltk_data]     C:\\Users\\miche\\AppData\\Roaming\\nltk_data...\n",
      "[nltk_data]   Package punkt is already up-to-date!\n",
      "[nltk_data] Downloading package punkt_tab to\n",
      "[nltk_data]     C:\\Users\\miche\\AppData\\Roaming\\nltk_data...\n",
      "[nltk_data]   Package punkt_tab is already up-to-date!\n"
     ]
    },
    {
     "data": {
      "text/plain": [
       "True"
      ]
     },
     "execution_count": 4,
     "metadata": {},
     "output_type": "execute_result"
    }
   ],
   "source": [
    "nltk.download('punkt')\n",
    "nltk.download('punkt_tab')"
   ]
  },
  {
   "cell_type": "markdown",
   "metadata": {
    "id": "UNeKF_yYcxz3"
   },
   "source": [
    "# Pré-processamento do texto com NLTK\n",
    "> Antes da análise, precisamos preparar nosso texto. Fazemos isso porque, para a máquina, algumas palavras ou estruturas dele não importam e não fazem diferença. A biblioteca NLTK oferece praticamente todas as ferramentas necessárias para um bom pré-processamento, vamos vê-las a seguir:"
   ]
  },
  {
   "cell_type": "code",
   "execution_count": null,
   "metadata": {
    "id": "McboyMOphRQk"
   },
   "outputs": [],
   "source": [
    "#PRÉ-PROCESSAMENTO 1 (EU QUE ESCREVI)\n",
    "\n",
    "#CONVERTER EM MINÚSCULAS TODO O TEXTO, POIS O ALGORITMO É CASE SENSITIVE (\"Homem\" É DIFERENTE DE \"homem\")\n",
    "#DESCONSIDERAR AS STOPWORDS (PALAVRAS SEM VALOR SEMÂNTICO PARA A MÁQUINA, ISTO É, ARTIGOS, CONJUNÇÕES: a, um, de, com, que...)\n",
    "#RETIRAR TODO TIPO DE PONTUAÇÃO\n",
    "#RETIRAR DÍGITOS\n",
    "def preprocessamento(texto):\n",
    "    texto_formatado = texto.lower()\n",
    "    tokens = []\n",
    "    for token in nltk.word_tokenize(texto_formatado):\n",
    "        tokens.append(token)\n",
    "\n",
    "    tokens = [palavra for palavra in tokens if palavra not in stopwords and palavra not in string.punctuation]\n",
    "    texto_formatado = ' '.join([str(elemento) for elemento in tokens if not elemento.isdigit()])\n",
    "\n",
    "    return texto_formatado"
   ]
  },
  {
   "cell_type": "code",
   "execution_count": null,
   "metadata": {
    "id": "O4SF79g8vk1G"
   },
   "outputs": [],
   "source": [
    "#PRÉ-PROCESSAMENTO 2 (INTERNET)\n",
    "def pre_processamento(texto):\n",
    "\n",
    "    # seleciona apenas letras e coloca todas em minúsculo\n",
    "    letras_min =  re.findall(r'\\b[A-zÀ-úü]+\\b', texto.lower())\n",
    "\n",
    "    # remove stopwords\n",
    "    stopwords = nltk.corpus.stopwords.words('portuguese')\n",
    "    stop = set(stopwords)\n",
    "    sem_stopwords = [w for w in letras_min if w not in stop]\n",
    "\n",
    "    # juntando os tokens novamente em formato de texto\n",
    "    texto_limpo = \" \".join(sem_stopwords)\n",
    "\n",
    "    return texto_limpo"
   ]
  },
  {
   "cell_type": "markdown",
   "metadata": {
    "id": "g64xNR4kbGat"
   },
   "source": [
    "# CORPUS MACHADO DE ASSIS"
   ]
  },
  {
   "cell_type": "code",
   "execution_count": 5,
   "metadata": {
    "colab": {
     "base_uri": "https://localhost:8080/"
    },
    "id": "QBIiSJZ-o8Ey",
    "outputId": "66ec6b9f-186a-44e5-df5e-b3aec61c4e12"
   },
   "outputs": [
    {
     "name": "stderr",
     "output_type": "stream",
     "text": [
      "[nltk_data] Downloading package machado to\n",
      "[nltk_data]     C:\\Users\\miche\\AppData\\Roaming\\nltk_data...\n",
      "[nltk_data]   Package machado is already up-to-date!\n"
     ]
    },
    {
     "data": {
      "text/plain": [
       "True"
      ]
     },
     "execution_count": 5,
     "metadata": {},
     "output_type": "execute_result"
    }
   ],
   "source": [
    "# CORPUS DE MACHADO\n",
    "nltk.download('machado') # é necessario baixar o corpus"
   ]
  },
  {
   "cell_type": "code",
   "execution_count": 35,
   "metadata": {},
   "outputs": [
    {
     "name": "stdout",
     "output_type": "stream",
     "text": [
      "Machado de Assis -- Obra Completa\n",
      "\n",
      "http://machado.mec.gov.br/\n",
      "\n",
      "Public Domain\n",
      "\n",
      "Contents:\n",
      "\n",
      "Romance\n",
      "\n",
      "romance/marm01.txt: Ressurreição (1872)\n",
      "romance/marm02.txt: A Mão e a Luva (1874)\n",
      "romance/marm03.txt: Helena (1876)\n",
      "romance/marm04.txt: Iaiá Garcia (1878)\n",
      "romance/marm05.txt: Memórias Póstumas de Brás Cubas (1881)\n",
      "romance/marm06.txt: Casa Velha (1885)\n",
      "romance/marm07.txt: Quincas Borba (1891)\n",
      "romance/marm08.txt: Dom Casmurro (1899)\n",
      "romance/marm09.txt: Esaú e Jacó (1904)\n",
      "romance/marm10.txt: Memorial de Aires (1908)\n",
      "\n",
      "Poesia\n",
      "\n",
      "poesia/maps01.txt: Crisálidas (1864)\n",
      "poesia/maps02.txt: Falenas (1870)\n",
      "poesia/maps03.txt: Americanas (1875)\n",
      "poesia/maps04.txt: Gazeta de Holanda (1886-88)\n",
      "poesia/maps05.txt: Ocidentais (1901)\n",
      "poesia/maps06.txt: O Almada (1908)\n",
      "poesia/maps07.txt: Dispersas (1854-1939)\n",
      "\n",
      "Contos\n",
      "\n",
      "contos/macn001.txt: Contos Fluminenses (1870); Miss Dollar; Luís Soares; A mulher de preto; O segredo de Augusta; Confissões de uma viúva moça; Linha reta e linha curva; Frei Sim\n",
      "contos/macn002.txt: Histórias da meia-noite (1873); A parasita azul; As bodas de Luís Duarte; Ernesto de Tal; Aurora sem dia; O relógio de ouro; Ponto de vista\n",
      "contos/macn003.txt: Papéis avulsos (1882); O alienista; Teoria do medalhão; A chinela turca; Na arca; D. Benedita; O segredo do bonzo; O anel de Polícrates; O empréstimo; A sereníssima república; O espelho; Uma visita de Alcibíades; Verba testamentária\n",
      "contos/macn004.txt: Histórias sem data (1884); A igreja do Diabo; O lapso; Último capítulo; Cantiga de esponsais; Singular ocorrência; Galeria póstuma; Capítulo dos chapéus; Conto alexandrino; Rimas de Sapucaia!; Uma senhora; Anedota pecuniária; Fulano; A segunda vida; Noite de almirante; Manuscrito de um sacristão; Ex cathedra; A senhora do Galvão; As academias de Sião\n",
      "contos/macn005.txt: Várias histórias (1896); A cartomante; Entre santos; Uns braços; Um homem célebre; A desejada das gentes; A causa secreta; Trio em lá menor; Adão e Eva; O enfermeiro; O diplomático; Mariana; Conto de escola; Um apólogo; D. Paula; Viver!; O cônego ou Metafísica do estilo\n",
      "contos/macn006.txt: Páginas recolhidas (1899); O caso da vara; O dicionário; Um erradio; Eterno!; Missa do galo; Idéias de canário; Lágrimas de Xerxes; Papéis velhos\n",
      "contos/macn007.txt: Relíquias de Casa Velha (1906); Pai contra mãe; Maria Cora; Marcha fúnebre; Um capitão de voluntários; Suje-se gordo!; Umas férias; Evolução; Pílades e Orestes; Anedota do cabriolet\n",
      "\n",
      "Traducao\n",
      "\n",
      "traducao/matr01.txt: Suplício de uma mulher (1865)\n",
      "traducao/matr02.txt: Os trabalhadores do mar (1866)\n",
      "traducao/matr03.txt: Oliver Twist (1870)\n",
      "\n",
      "Teatro\n",
      "\n",
      "teatro/matt01.txt: As forcas caudinas (1956)\n",
      "teatro/matt02.txt: Hoje avental, amanhã luva (1860)\n",
      "teatro/matt03.txt: Desencantos (1861)\n",
      "teatro/matt04.txt: O caminho da porta / O protocolo (1863)\n",
      "teatro/matt05.txt: Quase ministro (1864)\n",
      "teatro/matt06.txt: Os deuses de casaca (1866)\n",
      "teatro/matt07.txt: O bote de rapé (1878)\n",
      "teatro/matt08.txt: Tu, só tu, puro amor (1880)\n",
      "teatro/matt09.txt: Não consultes médico (1899)\n",
      "teatro/matt10.txt: Lição de botânica (1906)\n",
      "\n",
      "Cronica\n",
      "\n",
      "cronica/macr01.txt: Comentários da semana (1861-1863)\n",
      "cronica/macr02.txt: Crônicas do Dr. Semana (1861-1864)\n",
      "cronica/macr03.txt: Crônicas - O futuro (1862-1863)\n",
      "cronica/macr04.txt: Ao acaso (1864-1865)\n",
      "cronica/macr05.txt: Cartas fluminenses (1867)\n",
      "cronica/macr06.txt: Badaladas (1871-1873)\n",
      "cronica/macr07.txt: História de quinze dias (1876-1877)\n",
      "cronica/macr08.txt: História dos trinta dias (1878)\n",
      "cronica/macr09.txt: Notas semanais (1878)\n",
      "cronica/macr10.txt: Balas de estalo (1883-1886)\n",
      "cronica/macr11.txt: Bons dias! (1888-1889)\n",
      "cronica/macr12.txt: A semana (1892-1800)\n",
      "cronica/macr13.txt: O jornal e o livro (1859)\n",
      "cronica/macr14.txt: A reforma pelo jornal (1859)\n",
      "cronica/macr15.txt: Aquarelas (1859)\n",
      "cronica/macr16.txt: O Visconde de Castilho (1875)\n",
      "cronica/macr17.txt: Cherchez la femme (1881)\n",
      "cronica/macr18.txt: José de Alencar (1883)\n",
      "cronica/macr19.txt: Joaquim Serra (1888)\n",
      "cronica/macr20.txt: O futuro dos argentinos (1888)\n",
      "cronica/macr21.txt: Entre 1892 e 1894 (1892-1894)\n",
      "cronica/macr22.txt: Henrique Chaves (1893)\n",
      "cronica/macr23.txt: Henrique Lombaerts (1897)\n",
      "cronica/macr24.txt: O velho Senado (1898)\n",
      "critica/mact01.txt: O Passado, o presente e o futuro da literatura (1858)\n",
      "critica/mact02.txt: Idéias sobre o teatro (1859)\n",
      "critica/mact03.txt: Revista dos teatros (1859)\n",
      "critica/mact04.txt: Revista Dramática (1860)\n",
      "critica/mact05.txt: A Crítica teatral. José de Alencar: Mãe (1860)\n",
      "critica/mact06.txt: Crítica variada - Diário do RJ (1862)\n",
      "critica/mact07.txt: Flores e Frutos, de Bruno Seabra (1862)\n",
      "critica/mact08.txt: Pareceres - Conservatório Dramático (1862-1864)\n",
      "critica/mact09.txt: Homem de Mello e B. Pinheiro  A Constituinte perante a História e Sombras e Luz (1863)\n",
      "critica/mact10.txt: Peregrinação pela província de S. Paulo , por A. E. Zaluar (1863)\n",
      "critica/mact11.txt: Revelações , de A. E. Zaluar (1863)\n",
      "critica/mact12.txt: Dois folhetins. Suplício de uma mulher (1865)\n",
      "critica/mact13.txt: O Ideal do crítico (1865)\n",
      "critica/mact14.txt: Álvares de Azevedo: Lira dos vinte anos (1866)\n",
      "critica/mact15.txt: Crítica teatral (1866)\n",
      "critica/mact16.txt: Fagundes Varela  Cantos e fantasias (1866)\n",
      "critica/mact17.txt: J .M. de Macedo: O culto do dever (1866)\n",
      "critica/mact18.txt: José de Alencar: Iracema (1866)\n",
      "critica/mact19.txt: Junqueira Freire: Inspirações do claustro (1866)\n",
      "critica/mact20.txt: Porto Alegre: Colombo (1866)\n",
      "critica/mact21.txt: Propósito (1866)\n",
      "critica/mact22.txt: Castro Alves (1868)\n",
      "critica/mact23.txt: Lúcio de Mendonça: Névoas matutinas (1872)\n",
      "critica/mact24.txt: Un cuento endemoniado e La mujer misteriosa , de Guilherme Malta (1872)\n",
      "critica/mact25.txt: Notícia da atual literatura brasileira: Instinto de nacionalidade (1873)\n",
      "critica/mact26.txt: Fagundes Varela (1875)\n",
      "critica/mact27.txt: Eça de Queirós: O primo Basílio (1878)\n",
      "critica/mact28.txt: Francisco de Castro: Harmonias errantes (1878)\n",
      "critica/mact29.txt: A Nova geração (1879)\n",
      "critica/mact30.txt: Carlos Jansen: Contos seletos das mil e uma noites (1882)\n",
      "critica/mact31.txt: Raimundo Correia: Sinfonias (1882)\n",
      "critica/mact32.txt: Alberto de Oliveira: Meridionais (1884)\n",
      "critica/mact33.txt: Enéias Galvão: Miragens (1885)\n",
      "critica/mact34.txt: L. L. Fernandes Pinheiro Júnior: Tipos e quadros (1886)\n",
      "critica/mact35.txt: José de Alencar: O Guarani (1887)\n",
      "critica/mact36.txt: Henriqueta Renan (1896)\n",
      "critica/mact37.txt: Discursos na Academia Brasileira de Letras (1897)\n",
      "critica/mact38.txt: Magalhães de Azeredo: Procelárias (1898)\n",
      "critica/mact39.txt: Cenas da vida amazônica , de José Veríssimo (1899)\n",
      "critica/mact40.txt: Garrett (1899)\n",
      "critica/mact41.txt: Eça de Queirós (1900)\n",
      "critica/mact42.txt: Eduardo Prado (1901)\n",
      "critica/mact43.txt: Magalhães de Azeredo e Mário de Alencar: Horas sagradas e Versos (1902)\n",
      "critica/mact44.txt: Oliveira Lima: Secretário d'el-rei (1904)\n",
      "critica/mact45.txt: Joaquim Nabuco: Pensées détachées et souvenirs (1906)\n",
      "\n",
      "Miscelanea\n",
      "\n",
      "miscelanea/mams01.txt: Os imortais (1859)\n",
      "miscelanea/mams02.txt: Queda que as mulheres têm para os tolos (1861)\n",
      "miscelanea/mams03.txt: Carta ao Sr. Bispo do RJ (1862)\n",
      "miscelanea/mams04.txt: Carta à redação da Imprensa Acadêmica (1864)\n",
      "miscelanea/mams05.txt: Pedro Luís (1884)\n",
      "miscelanea/mams06.txt: A morte de Francisco Otaviano (1889)\n",
      "miscelanea/mams07.txt: Secretaria de Agricultura (1890)\n",
      "miscelanea/mams08.txt: A Paixão de Jesus (1904)\n",
      "miscelanea/mams09.txt: Gonçalves Dias (1906)\n",
      "miscelanea/mams10.txt: A Estátua de José de Alencar (1906)\n",
      "\n"
     ]
    }
   ],
   "source": [
    "# Caminho até o arquivo README\n",
    "caminho_readme = r'C:/Users/miche/AppData/Roaming/nltk_data/corpora/machado/README'\n",
    "\n",
    "# Abrir e ler o conteúdo\n",
    "with open(caminho_readme, encoding='latin1') as f:\n",
    "    conteudo = f.read()\n",
    "\n",
    "# Mostrar o início do texto\n",
    "print(conteudo)"
   ]
  },
  {
   "cell_type": "code",
   "execution_count": 27,
   "metadata": {},
   "outputs": [
    {
     "name": "stdout",
     "output_type": "stream",
     "text": [
      "['C:\\\\Users\\\\miche/nltk_data', 'C:\\\\Python312\\\\nltk_data', 'C:\\\\Python312\\\\share\\\\nltk_data', 'C:\\\\Python312\\\\lib\\\\nltk_data', 'C:\\\\Users\\\\miche\\\\AppData\\\\Roaming\\\\nltk_data', 'C:\\\\nltk_data', 'D:\\\\nltk_data', 'E:\\\\nltk_data']\n"
     ]
    }
   ],
   "source": [
    "print(nltk.data.path)"
   ]
  },
  {
   "cell_type": "code",
   "execution_count": 29,
   "metadata": {
    "id": "dwNDRTEAjvDU"
   },
   "outputs": [
    {
     "name": "stdout",
     "output_type": "stream",
     "text": [
      "Arquivos disponíveis: ['contos/macn001.txt', 'contos/macn002.txt', 'contos/macn003.txt', 'contos/macn004.txt', 'contos/macn005.txt', 'contos/macn006.txt', 'contos/macn007.txt', 'contos/macn008.txt', 'contos/macn009.txt', 'contos/macn010.txt', 'contos/macn011.txt', 'contos/macn012.txt', 'contos/macn013.txt', 'contos/macn014.txt', 'contos/macn015.txt', 'contos/macn016.txt', 'contos/macn017.txt', 'contos/macn018.txt', 'contos/macn019.txt', 'contos/macn020.txt', 'contos/macn021.txt', 'contos/macn022.txt', 'contos/macn023.txt', 'contos/macn024.txt', 'contos/macn025.txt', 'contos/macn026.txt', 'contos/macn027.txt', 'contos/macn028.txt', 'contos/macn029.txt', 'contos/macn030.txt', 'contos/macn031.txt', 'contos/macn032.txt', 'contos/macn033.txt', 'contos/macn034.txt', 'contos/macn035.txt', 'contos/macn036.txt', 'contos/macn037.txt', 'contos/macn038.txt', 'contos/macn039.txt', 'contos/macn040.txt', 'contos/macn041.txt', 'contos/macn042.txt', 'contos/macn043.txt', 'contos/macn044.txt', 'contos/macn045.txt', 'contos/macn046.txt', 'contos/macn047.txt', 'contos/macn048.txt', 'contos/macn049.txt', 'contos/macn050.txt', 'contos/macn051.txt', 'contos/macn052.txt', 'contos/macn053.txt', 'contos/macn054.txt', 'contos/macn055.txt', 'contos/macn056.txt', 'contos/macn057.txt', 'contos/macn058.txt', 'contos/macn059.txt', 'contos/macn060.txt', 'contos/macn061.txt', 'contos/macn062.txt', 'contos/macn063.txt', 'contos/macn064.txt', 'contos/macn065.txt', 'contos/macn066.txt', 'contos/macn067.txt', 'contos/macn068.txt', 'contos/macn069.txt', 'contos/macn070.txt', 'contos/macn071.txt', 'contos/macn072.txt', 'contos/macn073.txt', 'contos/macn074.txt', 'contos/macn075.txt', 'contos/macn076.txt', 'contos/macn077.txt', 'contos/macn078.txt', 'contos/macn079.txt', 'contos/macn080.txt', 'contos/macn081.txt', 'contos/macn082.txt', 'contos/macn083.txt', 'contos/macn084.txt', 'contos/macn085.txt', 'contos/macn086.txt', 'contos/macn087.txt', 'contos/macn088.txt', 'contos/macn089.txt', 'contos/macn090.txt', 'contos/macn091.txt', 'contos/macn092.txt', 'contos/macn093.txt', 'contos/macn094.txt', 'contos/macn095.txt', 'contos/macn096.txt', 'contos/macn097.txt', 'contos/macn098.txt', 'contos/macn099.txt', 'contos/macn100.txt', 'contos/macn101.txt', 'contos/macn102.txt', 'contos/macn103.txt', 'contos/macn104.txt', 'contos/macn105.txt', 'contos/macn106.txt', 'contos/macn107.txt', 'contos/macn108.txt', 'contos/macn109.txt', 'contos/macn110.txt', 'contos/macn111.txt', 'contos/macn112.txt', 'contos/macn113.txt', 'contos/macn114.txt', 'contos/macn115.txt', 'contos/macn116.txt', 'contos/macn117.txt', 'contos/macn118.txt', 'contos/macn119.txt', 'contos/macn120.txt', 'contos/macn121.txt', 'contos/macn122.txt', 'contos/macn123.txt', 'contos/macn124.txt', 'contos/macn125.txt', 'contos/macn126.txt', 'contos/macn127.txt', 'contos/macn128.txt', 'contos/macn129.txt', 'contos/macn130.txt', 'contos/macn131.txt', 'contos/macn132.txt', 'contos/macn133.txt', 'contos/macn134.txt', 'contos/macn135.txt', 'contos/macn136.txt', 'contos/macn137.txt', 'critica/mact01.txt', 'critica/mact02.txt', 'critica/mact03.txt', 'critica/mact04.txt', 'critica/mact05.txt', 'critica/mact06.txt', 'critica/mact07.txt', 'critica/mact08.txt', 'critica/mact09.txt', 'critica/mact10.txt', 'critica/mact11.txt', 'critica/mact12.txt', 'critica/mact13.txt', 'critica/mact14.txt', 'critica/mact15.txt', 'critica/mact16.txt', 'critica/mact17.txt', 'critica/mact18.txt', 'critica/mact19.txt', 'critica/mact20.txt', 'critica/mact21.txt', 'critica/mact22.txt', 'critica/mact23.txt', 'critica/mact24.txt', 'critica/mact25.txt', 'critica/mact26.txt', 'critica/mact27.txt', 'critica/mact28.txt', 'critica/mact29.txt', 'critica/mact30.txt', 'critica/mact31.txt', 'critica/mact32.txt', 'critica/mact33.txt', 'critica/mact34.txt', 'critica/mact35.txt', 'critica/mact36.txt', 'critica/mact37.txt', 'critica/mact38.txt', 'critica/mact39.txt', 'critica/mact40.txt', 'critica/mact41.txt', 'critica/mact42.txt', 'critica/mact43.txt', 'critica/mact44.txt', 'critica/mact45.txt', 'cronica/macr01.txt', 'cronica/macr02.txt', 'cronica/macr03.txt', 'cronica/macr04.txt', 'cronica/macr05.txt', 'cronica/macr06.txt', 'cronica/macr07.txt', 'cronica/macr08.txt', 'cronica/macr09.txt', 'cronica/macr10.txt', 'cronica/macr11.txt', 'cronica/macr12.txt', 'cronica/macr13.txt', 'cronica/macr14.txt', 'cronica/macr15.txt', 'cronica/macr16.txt', 'cronica/macr17.txt', 'cronica/macr18.txt', 'cronica/macr19.txt', 'cronica/macr20.txt', 'cronica/macr21.txt', 'cronica/macr22.txt', 'cronica/macr23.txt', 'cronica/macr24.txt', 'miscelanea/mams01.txt', 'miscelanea/mams02.txt', 'miscelanea/mams03.txt', 'miscelanea/mams04.txt', 'miscelanea/mams05.txt', 'miscelanea/mams06.txt', 'miscelanea/mams07.txt', 'miscelanea/mams08.txt', 'miscelanea/mams09.txt', 'miscelanea/mams10.txt', 'poesia/maps01.txt', 'poesia/maps02.txt', 'poesia/maps03.txt', 'poesia/maps04.txt', 'poesia/maps05.txt', 'poesia/maps06.txt', 'poesia/maps07.txt', 'romance/marm01.txt', 'romance/marm02.txt', 'romance/marm03.txt', 'romance/marm04.txt', 'romance/marm05.txt', 'romance/marm06.txt', 'romance/marm07.txt', 'romance/marm08.txt', 'romance/marm09.txt', 'romance/marm10.txt', 'teatro/matt01.txt', 'teatro/matt02.txt', 'teatro/matt03.txt', 'teatro/matt04.txt', 'teatro/matt05.txt', 'teatro/matt06.txt', 'teatro/matt07.txt', 'teatro/matt08.txt', 'teatro/matt09.txt', 'teatro/matt10.txt', 'traducao/matr01.txt', 'traducao/matr02.txt', 'traducao/matr03.txt']\n",
      "\n",
      "Primeiras 20 palavras: ['Conto', ',', 'Contos', 'Fluminenses', ',', '1870', 'Contos', 'Fluminenses', 'Texto', '-', 'fonte', ':', 'Obra', 'Completa', ',', 'Machado', 'de', 'Assis', ',', 'vol']\n",
      "\n",
      "Trecho do texto bruto: Conto, Contos Fluminenses, 1870\n",
      "\n",
      "Contos Fluminenses\n",
      "\n",
      "Texto-fonte:\n",
      "\n",
      "Obra Completa, Machado de Assis, vol. II,\n",
      "\n",
      "Rio de Janeiro: Nova Aguilar, 1994.\n",
      "\n",
      "Publicado originalmente pela\n",
      "Editora Garnier, Rio de Janeiro, em 1870.\n",
      "\n",
      "ÍNDICE\n",
      "\n",
      "MISS DOLLAR\n",
      "\n",
      "LUÍS\n",
      "SOARES\n",
      "\n",
      "A MULHER DE\n",
      "PRETO\n",
      "\n",
      "O\n",
      "SEGREDO DE AUGUSTA\n",
      "\n",
      "CONFISSÕES DE UMA VIÚVA MOÇA\n",
      "\n",
      "LINHA\n",
      "RETA E LINHA CURVA\n",
      "\n",
      "FREI\n",
      "SIMÃO\n",
      "\n",
      "MISS\n",
      "DOLLAR\n",
      "\n",
      "ÍNDICE\n",
      "\n",
      "Capítulo Primeiro\n",
      "\n",
      "Capítulo II\n",
      "\n",
      "Capítulo iii\n",
      "\n",
      "Capítulo iv\n",
      "\n",
      "Capítulo v\n",
      "\n",
      "Capítulo vI\n",
      "\n",
      "Capítulo vII\n",
      "\n",
      "CAPÍTULO VIII\n",
      "\n",
      "CAPÍ\n"
     ]
    },
    {
     "name": "stderr",
     "output_type": "stream",
     "text": [
      "<>:11: SyntaxWarning: invalid escape sequence '\\.'\n",
      "<>:11: SyntaxWarning: invalid escape sequence '\\.'\n",
      "C:\\Users\\miche\\AppData\\Local\\Temp\\ipykernel_20276\\3703323542.py:11: SyntaxWarning: invalid escape sequence '\\.'\n",
      "  machado_custom = PlaintextCorpusReader(caminho_corpus, '.*\\.txt', encoding='latin1')\n"
     ]
    }
   ],
   "source": [
    "# IDs DOS ARQUIVOS\n",
    "from nltk.corpus import machado\n",
    "\n",
    "import nltk\n",
    "from nltk.corpus.reader import PlaintextCorpusReader\n",
    "\n",
    "# Caminho para a pasta machado\n",
    "caminho_corpus = r'C:/Users/miche/AppData/Roaming/nltk_data/corpora/machado'\n",
    "\n",
    "# Cria um leitor do corpus como um corpus de texto simples\n",
    "machado_custom = PlaintextCorpusReader(caminho_corpus, '.*\\.txt', encoding='latin1')\n",
    "\n",
    "# Agora você pode listar os arquivos disponíveis!\n",
    "print(\"Arquivos disponíveis:\", machado_custom.fileids())\n",
    "\n",
    "# Ler as primeiras palavras do primeiro arquivo listado\n",
    "print(\"\\nPrimeiras 20 palavras:\", machado_custom.words(machado_custom.fileids()[0])[:20])\n",
    "\n",
    "# Ler os primeiros 500 caracteres (texto bruto)\n",
    "print(\"\\nTrecho do texto bruto:\", machado_custom.raw(machado_custom.fileids()[0])[:500])\n"
   ]
  },
  {
   "cell_type": "code",
   "execution_count": 32,
   "metadata": {},
   "outputs": [],
   "source": [
    "import os\n",
    "from nltk.corpus.reader.plaintext import PlaintextCorpusReader\n",
    "\n",
    "caminho_corpus = r'C:/Users/miche/AppData/Roaming/nltk_data/corpora/machado'\n",
    "\n",
    "machado_corpus = PlaintextCorpusReader(caminho_corpus, r'.*\\.txt')"
   ]
  },
  {
   "cell_type": "code",
   "execution_count": 33,
   "metadata": {},
   "outputs": [
    {
     "name": "stdout",
     "output_type": "stream",
     "text": [
      "Categorias encontradas: ['contos', 'critica', 'cronica', 'miscelanea', 'poesia', 'romance', 'teatro', 'traducao']\n"
     ]
    }
   ],
   "source": [
    "# Lista as subpastas (romance, conto, etc.)\n",
    "categorias = [nome for nome in os.listdir(caminho_corpus) \n",
    "              if os.path.isdir(os.path.join(caminho_corpus, nome))]\n",
    "\n",
    "print(\"Categorias encontradas:\", categorias)\n"
   ]
  },
  {
   "cell_type": "code",
   "execution_count": 34,
   "metadata": {},
   "outputs": [
    {
     "name": "stdout",
     "output_type": "stream",
     "text": [
      "Arquivos na categoria romance: ['marm01.txt', 'marm02.txt', 'marm03.txt', 'marm04.txt', 'marm05.txt', 'marm06.txt', 'marm07.txt', 'marm08.txt', 'marm09.txt', 'marm10.txt']\n"
     ]
    }
   ],
   "source": [
    "categoria_escolhida = 'romance'\n",
    "caminho_categoria = os.path.join(caminho_corpus, categoria_escolhida)\n",
    "\n",
    "arquivos = [arq for arq in os.listdir(caminho_categoria) if arq.endswith('.txt')]\n",
    "print(f\"Arquivos na categoria {categoria_escolhida}:\", arquivos)"
   ]
  },
  {
   "cell_type": "code",
   "execution_count": 18,
   "metadata": {},
   "outputs": [
    {
     "name": "stdout",
     "output_type": "stream",
     "text": [
      "Arquivos disponíveis no corpus Machado:\n",
      "1: C:/Users/miche/AppData/Roaming/nltk_data/corpora/machado\\contos\\macn001.txt\n",
      "2: C:/Users/miche/AppData/Roaming/nltk_data/corpora/machado\\contos\\macn002.txt\n",
      "3: C:/Users/miche/AppData/Roaming/nltk_data/corpora/machado\\contos\\macn003.txt\n",
      "4: C:/Users/miche/AppData/Roaming/nltk_data/corpora/machado\\contos\\macn004.txt\n",
      "5: C:/Users/miche/AppData/Roaming/nltk_data/corpora/machado\\contos\\macn005.txt\n",
      "6: C:/Users/miche/AppData/Roaming/nltk_data/corpora/machado\\contos\\macn006.txt\n",
      "7: C:/Users/miche/AppData/Roaming/nltk_data/corpora/machado\\contos\\macn007.txt\n",
      "8: C:/Users/miche/AppData/Roaming/nltk_data/corpora/machado\\contos\\macn008.txt\n",
      "9: C:/Users/miche/AppData/Roaming/nltk_data/corpora/machado\\contos\\macn009.txt\n",
      "10: C:/Users/miche/AppData/Roaming/nltk_data/corpora/machado\\contos\\macn010.txt\n",
      "11: C:/Users/miche/AppData/Roaming/nltk_data/corpora/machado\\contos\\macn011.txt\n",
      "12: C:/Users/miche/AppData/Roaming/nltk_data/corpora/machado\\contos\\macn012.txt\n",
      "13: C:/Users/miche/AppData/Roaming/nltk_data/corpora/machado\\contos\\macn013.txt\n",
      "14: C:/Users/miche/AppData/Roaming/nltk_data/corpora/machado\\contos\\macn014.txt\n",
      "15: C:/Users/miche/AppData/Roaming/nltk_data/corpora/machado\\contos\\macn015.txt\n",
      "16: C:/Users/miche/AppData/Roaming/nltk_data/corpora/machado\\contos\\macn016.txt\n",
      "17: C:/Users/miche/AppData/Roaming/nltk_data/corpora/machado\\contos\\macn017.txt\n",
      "18: C:/Users/miche/AppData/Roaming/nltk_data/corpora/machado\\contos\\macn018.txt\n",
      "19: C:/Users/miche/AppData/Roaming/nltk_data/corpora/machado\\contos\\macn019.txt\n",
      "20: C:/Users/miche/AppData/Roaming/nltk_data/corpora/machado\\contos\\macn020.txt\n",
      "21: C:/Users/miche/AppData/Roaming/nltk_data/corpora/machado\\contos\\macn021.txt\n",
      "22: C:/Users/miche/AppData/Roaming/nltk_data/corpora/machado\\contos\\macn022.txt\n",
      "23: C:/Users/miche/AppData/Roaming/nltk_data/corpora/machado\\contos\\macn023.txt\n",
      "24: C:/Users/miche/AppData/Roaming/nltk_data/corpora/machado\\contos\\macn024.txt\n",
      "25: C:/Users/miche/AppData/Roaming/nltk_data/corpora/machado\\contos\\macn025.txt\n",
      "26: C:/Users/miche/AppData/Roaming/nltk_data/corpora/machado\\contos\\macn026.txt\n",
      "27: C:/Users/miche/AppData/Roaming/nltk_data/corpora/machado\\contos\\macn027.txt\n",
      "28: C:/Users/miche/AppData/Roaming/nltk_data/corpora/machado\\contos\\macn028.txt\n",
      "29: C:/Users/miche/AppData/Roaming/nltk_data/corpora/machado\\contos\\macn029.txt\n",
      "30: C:/Users/miche/AppData/Roaming/nltk_data/corpora/machado\\contos\\macn030.txt\n",
      "31: C:/Users/miche/AppData/Roaming/nltk_data/corpora/machado\\contos\\macn031.txt\n",
      "32: C:/Users/miche/AppData/Roaming/nltk_data/corpora/machado\\contos\\macn032.txt\n",
      "33: C:/Users/miche/AppData/Roaming/nltk_data/corpora/machado\\contos\\macn033.txt\n",
      "34: C:/Users/miche/AppData/Roaming/nltk_data/corpora/machado\\contos\\macn034.txt\n",
      "35: C:/Users/miche/AppData/Roaming/nltk_data/corpora/machado\\contos\\macn035.txt\n",
      "36: C:/Users/miche/AppData/Roaming/nltk_data/corpora/machado\\contos\\macn036.txt\n",
      "37: C:/Users/miche/AppData/Roaming/nltk_data/corpora/machado\\contos\\macn037.txt\n",
      "38: C:/Users/miche/AppData/Roaming/nltk_data/corpora/machado\\contos\\macn038.txt\n",
      "39: C:/Users/miche/AppData/Roaming/nltk_data/corpora/machado\\contos\\macn039.txt\n",
      "40: C:/Users/miche/AppData/Roaming/nltk_data/corpora/machado\\contos\\macn040.txt\n",
      "41: C:/Users/miche/AppData/Roaming/nltk_data/corpora/machado\\contos\\macn041.txt\n",
      "42: C:/Users/miche/AppData/Roaming/nltk_data/corpora/machado\\contos\\macn042.txt\n",
      "43: C:/Users/miche/AppData/Roaming/nltk_data/corpora/machado\\contos\\macn043.txt\n",
      "44: C:/Users/miche/AppData/Roaming/nltk_data/corpora/machado\\contos\\macn044.txt\n",
      "45: C:/Users/miche/AppData/Roaming/nltk_data/corpora/machado\\contos\\macn045.txt\n",
      "46: C:/Users/miche/AppData/Roaming/nltk_data/corpora/machado\\contos\\macn046.txt\n",
      "47: C:/Users/miche/AppData/Roaming/nltk_data/corpora/machado\\contos\\macn047.txt\n",
      "48: C:/Users/miche/AppData/Roaming/nltk_data/corpora/machado\\contos\\macn048.txt\n",
      "49: C:/Users/miche/AppData/Roaming/nltk_data/corpora/machado\\contos\\macn049.txt\n",
      "50: C:/Users/miche/AppData/Roaming/nltk_data/corpora/machado\\contos\\macn050.txt\n",
      "51: C:/Users/miche/AppData/Roaming/nltk_data/corpora/machado\\contos\\macn051.txt\n",
      "52: C:/Users/miche/AppData/Roaming/nltk_data/corpora/machado\\contos\\macn052.txt\n",
      "53: C:/Users/miche/AppData/Roaming/nltk_data/corpora/machado\\contos\\macn053.txt\n",
      "54: C:/Users/miche/AppData/Roaming/nltk_data/corpora/machado\\contos\\macn054.txt\n",
      "55: C:/Users/miche/AppData/Roaming/nltk_data/corpora/machado\\contos\\macn055.txt\n",
      "56: C:/Users/miche/AppData/Roaming/nltk_data/corpora/machado\\contos\\macn056.txt\n",
      "57: C:/Users/miche/AppData/Roaming/nltk_data/corpora/machado\\contos\\macn057.txt\n",
      "58: C:/Users/miche/AppData/Roaming/nltk_data/corpora/machado\\contos\\macn058.txt\n",
      "59: C:/Users/miche/AppData/Roaming/nltk_data/corpora/machado\\contos\\macn059.txt\n",
      "60: C:/Users/miche/AppData/Roaming/nltk_data/corpora/machado\\contos\\macn060.txt\n",
      "61: C:/Users/miche/AppData/Roaming/nltk_data/corpora/machado\\contos\\macn061.txt\n",
      "62: C:/Users/miche/AppData/Roaming/nltk_data/corpora/machado\\contos\\macn062.txt\n",
      "63: C:/Users/miche/AppData/Roaming/nltk_data/corpora/machado\\contos\\macn063.txt\n",
      "64: C:/Users/miche/AppData/Roaming/nltk_data/corpora/machado\\contos\\macn064.txt\n",
      "65: C:/Users/miche/AppData/Roaming/nltk_data/corpora/machado\\contos\\macn065.txt\n",
      "66: C:/Users/miche/AppData/Roaming/nltk_data/corpora/machado\\contos\\macn066.txt\n",
      "67: C:/Users/miche/AppData/Roaming/nltk_data/corpora/machado\\contos\\macn067.txt\n",
      "68: C:/Users/miche/AppData/Roaming/nltk_data/corpora/machado\\contos\\macn068.txt\n",
      "69: C:/Users/miche/AppData/Roaming/nltk_data/corpora/machado\\contos\\macn069.txt\n",
      "70: C:/Users/miche/AppData/Roaming/nltk_data/corpora/machado\\contos\\macn070.txt\n",
      "71: C:/Users/miche/AppData/Roaming/nltk_data/corpora/machado\\contos\\macn071.txt\n",
      "72: C:/Users/miche/AppData/Roaming/nltk_data/corpora/machado\\contos\\macn072.txt\n",
      "73: C:/Users/miche/AppData/Roaming/nltk_data/corpora/machado\\contos\\macn073.txt\n",
      "74: C:/Users/miche/AppData/Roaming/nltk_data/corpora/machado\\contos\\macn074.txt\n",
      "75: C:/Users/miche/AppData/Roaming/nltk_data/corpora/machado\\contos\\macn075.txt\n",
      "76: C:/Users/miche/AppData/Roaming/nltk_data/corpora/machado\\contos\\macn076.txt\n",
      "77: C:/Users/miche/AppData/Roaming/nltk_data/corpora/machado\\contos\\macn077.txt\n",
      "78: C:/Users/miche/AppData/Roaming/nltk_data/corpora/machado\\contos\\macn078.txt\n",
      "79: C:/Users/miche/AppData/Roaming/nltk_data/corpora/machado\\contos\\macn079.txt\n",
      "80: C:/Users/miche/AppData/Roaming/nltk_data/corpora/machado\\contos\\macn080.txt\n",
      "81: C:/Users/miche/AppData/Roaming/nltk_data/corpora/machado\\contos\\macn081.txt\n",
      "82: C:/Users/miche/AppData/Roaming/nltk_data/corpora/machado\\contos\\macn082.txt\n",
      "83: C:/Users/miche/AppData/Roaming/nltk_data/corpora/machado\\contos\\macn083.txt\n",
      "84: C:/Users/miche/AppData/Roaming/nltk_data/corpora/machado\\contos\\macn084.txt\n",
      "85: C:/Users/miche/AppData/Roaming/nltk_data/corpora/machado\\contos\\macn085.txt\n",
      "86: C:/Users/miche/AppData/Roaming/nltk_data/corpora/machado\\contos\\macn086.txt\n",
      "87: C:/Users/miche/AppData/Roaming/nltk_data/corpora/machado\\contos\\macn087.txt\n",
      "88: C:/Users/miche/AppData/Roaming/nltk_data/corpora/machado\\contos\\macn088.txt\n",
      "89: C:/Users/miche/AppData/Roaming/nltk_data/corpora/machado\\contos\\macn089.txt\n",
      "90: C:/Users/miche/AppData/Roaming/nltk_data/corpora/machado\\contos\\macn090.txt\n",
      "91: C:/Users/miche/AppData/Roaming/nltk_data/corpora/machado\\contos\\macn091.txt\n",
      "92: C:/Users/miche/AppData/Roaming/nltk_data/corpora/machado\\contos\\macn092.txt\n",
      "93: C:/Users/miche/AppData/Roaming/nltk_data/corpora/machado\\contos\\macn093.txt\n",
      "94: C:/Users/miche/AppData/Roaming/nltk_data/corpora/machado\\contos\\macn094.txt\n",
      "95: C:/Users/miche/AppData/Roaming/nltk_data/corpora/machado\\contos\\macn095.txt\n",
      "96: C:/Users/miche/AppData/Roaming/nltk_data/corpora/machado\\contos\\macn096.txt\n",
      "97: C:/Users/miche/AppData/Roaming/nltk_data/corpora/machado\\contos\\macn097.txt\n",
      "98: C:/Users/miche/AppData/Roaming/nltk_data/corpora/machado\\contos\\macn098.txt\n",
      "99: C:/Users/miche/AppData/Roaming/nltk_data/corpora/machado\\contos\\macn099.txt\n",
      "100: C:/Users/miche/AppData/Roaming/nltk_data/corpora/machado\\contos\\macn100.txt\n",
      "101: C:/Users/miche/AppData/Roaming/nltk_data/corpora/machado\\contos\\macn101.txt\n",
      "102: C:/Users/miche/AppData/Roaming/nltk_data/corpora/machado\\contos\\macn102.txt\n",
      "103: C:/Users/miche/AppData/Roaming/nltk_data/corpora/machado\\contos\\macn103.txt\n",
      "104: C:/Users/miche/AppData/Roaming/nltk_data/corpora/machado\\contos\\macn104.txt\n",
      "105: C:/Users/miche/AppData/Roaming/nltk_data/corpora/machado\\contos\\macn105.txt\n",
      "106: C:/Users/miche/AppData/Roaming/nltk_data/corpora/machado\\contos\\macn106.txt\n",
      "107: C:/Users/miche/AppData/Roaming/nltk_data/corpora/machado\\contos\\macn107.txt\n",
      "108: C:/Users/miche/AppData/Roaming/nltk_data/corpora/machado\\contos\\macn108.txt\n",
      "109: C:/Users/miche/AppData/Roaming/nltk_data/corpora/machado\\contos\\macn109.txt\n",
      "110: C:/Users/miche/AppData/Roaming/nltk_data/corpora/machado\\contos\\macn110.txt\n",
      "111: C:/Users/miche/AppData/Roaming/nltk_data/corpora/machado\\contos\\macn111.txt\n",
      "112: C:/Users/miche/AppData/Roaming/nltk_data/corpora/machado\\contos\\macn112.txt\n",
      "113: C:/Users/miche/AppData/Roaming/nltk_data/corpora/machado\\contos\\macn113.txt\n",
      "114: C:/Users/miche/AppData/Roaming/nltk_data/corpora/machado\\contos\\macn114.txt\n",
      "115: C:/Users/miche/AppData/Roaming/nltk_data/corpora/machado\\contos\\macn115.txt\n",
      "116: C:/Users/miche/AppData/Roaming/nltk_data/corpora/machado\\contos\\macn116.txt\n",
      "117: C:/Users/miche/AppData/Roaming/nltk_data/corpora/machado\\contos\\macn117.txt\n",
      "118: C:/Users/miche/AppData/Roaming/nltk_data/corpora/machado\\contos\\macn118.txt\n",
      "119: C:/Users/miche/AppData/Roaming/nltk_data/corpora/machado\\contos\\macn119.txt\n",
      "120: C:/Users/miche/AppData/Roaming/nltk_data/corpora/machado\\contos\\macn120.txt\n",
      "121: C:/Users/miche/AppData/Roaming/nltk_data/corpora/machado\\contos\\macn121.txt\n",
      "122: C:/Users/miche/AppData/Roaming/nltk_data/corpora/machado\\contos\\macn122.txt\n",
      "123: C:/Users/miche/AppData/Roaming/nltk_data/corpora/machado\\contos\\macn123.txt\n",
      "124: C:/Users/miche/AppData/Roaming/nltk_data/corpora/machado\\contos\\macn124.txt\n",
      "125: C:/Users/miche/AppData/Roaming/nltk_data/corpora/machado\\contos\\macn125.txt\n",
      "126: C:/Users/miche/AppData/Roaming/nltk_data/corpora/machado\\contos\\macn126.txt\n",
      "127: C:/Users/miche/AppData/Roaming/nltk_data/corpora/machado\\contos\\macn127.txt\n",
      "128: C:/Users/miche/AppData/Roaming/nltk_data/corpora/machado\\contos\\macn128.txt\n",
      "129: C:/Users/miche/AppData/Roaming/nltk_data/corpora/machado\\contos\\macn129.txt\n",
      "130: C:/Users/miche/AppData/Roaming/nltk_data/corpora/machado\\contos\\macn130.txt\n",
      "131: C:/Users/miche/AppData/Roaming/nltk_data/corpora/machado\\contos\\macn131.txt\n",
      "132: C:/Users/miche/AppData/Roaming/nltk_data/corpora/machado\\contos\\macn132.txt\n",
      "133: C:/Users/miche/AppData/Roaming/nltk_data/corpora/machado\\contos\\macn133.txt\n",
      "134: C:/Users/miche/AppData/Roaming/nltk_data/corpora/machado\\contos\\macn134.txt\n",
      "135: C:/Users/miche/AppData/Roaming/nltk_data/corpora/machado\\contos\\macn135.txt\n",
      "136: C:/Users/miche/AppData/Roaming/nltk_data/corpora/machado\\contos\\macn136.txt\n",
      "137: C:/Users/miche/AppData/Roaming/nltk_data/corpora/machado\\contos\\macn137.txt\n",
      "138: C:/Users/miche/AppData/Roaming/nltk_data/corpora/machado\\critica\\mact01.txt\n",
      "139: C:/Users/miche/AppData/Roaming/nltk_data/corpora/machado\\critica\\mact02.txt\n",
      "140: C:/Users/miche/AppData/Roaming/nltk_data/corpora/machado\\critica\\mact03.txt\n",
      "141: C:/Users/miche/AppData/Roaming/nltk_data/corpora/machado\\critica\\mact04.txt\n",
      "142: C:/Users/miche/AppData/Roaming/nltk_data/corpora/machado\\critica\\mact05.txt\n",
      "143: C:/Users/miche/AppData/Roaming/nltk_data/corpora/machado\\critica\\mact06.txt\n",
      "144: C:/Users/miche/AppData/Roaming/nltk_data/corpora/machado\\critica\\mact07.txt\n",
      "145: C:/Users/miche/AppData/Roaming/nltk_data/corpora/machado\\critica\\mact08.txt\n",
      "146: C:/Users/miche/AppData/Roaming/nltk_data/corpora/machado\\critica\\mact09.txt\n",
      "147: C:/Users/miche/AppData/Roaming/nltk_data/corpora/machado\\critica\\mact10.txt\n",
      "148: C:/Users/miche/AppData/Roaming/nltk_data/corpora/machado\\critica\\mact11.txt\n",
      "149: C:/Users/miche/AppData/Roaming/nltk_data/corpora/machado\\critica\\mact12.txt\n",
      "150: C:/Users/miche/AppData/Roaming/nltk_data/corpora/machado\\critica\\mact13.txt\n",
      "151: C:/Users/miche/AppData/Roaming/nltk_data/corpora/machado\\critica\\mact14.txt\n",
      "152: C:/Users/miche/AppData/Roaming/nltk_data/corpora/machado\\critica\\mact15.txt\n",
      "153: C:/Users/miche/AppData/Roaming/nltk_data/corpora/machado\\critica\\mact16.txt\n",
      "154: C:/Users/miche/AppData/Roaming/nltk_data/corpora/machado\\critica\\mact17.txt\n",
      "155: C:/Users/miche/AppData/Roaming/nltk_data/corpora/machado\\critica\\mact18.txt\n",
      "156: C:/Users/miche/AppData/Roaming/nltk_data/corpora/machado\\critica\\mact19.txt\n",
      "157: C:/Users/miche/AppData/Roaming/nltk_data/corpora/machado\\critica\\mact20.txt\n",
      "158: C:/Users/miche/AppData/Roaming/nltk_data/corpora/machado\\critica\\mact21.txt\n",
      "159: C:/Users/miche/AppData/Roaming/nltk_data/corpora/machado\\critica\\mact22.txt\n",
      "160: C:/Users/miche/AppData/Roaming/nltk_data/corpora/machado\\critica\\mact23.txt\n",
      "161: C:/Users/miche/AppData/Roaming/nltk_data/corpora/machado\\critica\\mact24.txt\n",
      "162: C:/Users/miche/AppData/Roaming/nltk_data/corpora/machado\\critica\\mact25.txt\n",
      "163: C:/Users/miche/AppData/Roaming/nltk_data/corpora/machado\\critica\\mact26.txt\n",
      "164: C:/Users/miche/AppData/Roaming/nltk_data/corpora/machado\\critica\\mact27.txt\n",
      "165: C:/Users/miche/AppData/Roaming/nltk_data/corpora/machado\\critica\\mact28.txt\n",
      "166: C:/Users/miche/AppData/Roaming/nltk_data/corpora/machado\\critica\\mact29.txt\n",
      "167: C:/Users/miche/AppData/Roaming/nltk_data/corpora/machado\\critica\\mact30.txt\n",
      "168: C:/Users/miche/AppData/Roaming/nltk_data/corpora/machado\\critica\\mact31.txt\n",
      "169: C:/Users/miche/AppData/Roaming/nltk_data/corpora/machado\\critica\\mact32.txt\n",
      "170: C:/Users/miche/AppData/Roaming/nltk_data/corpora/machado\\critica\\mact33.txt\n",
      "171: C:/Users/miche/AppData/Roaming/nltk_data/corpora/machado\\critica\\mact34.txt\n",
      "172: C:/Users/miche/AppData/Roaming/nltk_data/corpora/machado\\critica\\mact35.txt\n",
      "173: C:/Users/miche/AppData/Roaming/nltk_data/corpora/machado\\critica\\mact36.txt\n",
      "174: C:/Users/miche/AppData/Roaming/nltk_data/corpora/machado\\critica\\mact37.txt\n",
      "175: C:/Users/miche/AppData/Roaming/nltk_data/corpora/machado\\critica\\mact38.txt\n",
      "176: C:/Users/miche/AppData/Roaming/nltk_data/corpora/machado\\critica\\mact39.txt\n",
      "177: C:/Users/miche/AppData/Roaming/nltk_data/corpora/machado\\critica\\mact40.txt\n",
      "178: C:/Users/miche/AppData/Roaming/nltk_data/corpora/machado\\critica\\mact41.txt\n",
      "179: C:/Users/miche/AppData/Roaming/nltk_data/corpora/machado\\critica\\mact42.txt\n",
      "180: C:/Users/miche/AppData/Roaming/nltk_data/corpora/machado\\critica\\mact43.txt\n",
      "181: C:/Users/miche/AppData/Roaming/nltk_data/corpora/machado\\critica\\mact44.txt\n",
      "182: C:/Users/miche/AppData/Roaming/nltk_data/corpora/machado\\critica\\mact45.txt\n",
      "183: C:/Users/miche/AppData/Roaming/nltk_data/corpora/machado\\cronica\\macr01.txt\n",
      "184: C:/Users/miche/AppData/Roaming/nltk_data/corpora/machado\\cronica\\macr02.txt\n",
      "185: C:/Users/miche/AppData/Roaming/nltk_data/corpora/machado\\cronica\\macr03.txt\n",
      "186: C:/Users/miche/AppData/Roaming/nltk_data/corpora/machado\\cronica\\macr04.txt\n",
      "187: C:/Users/miche/AppData/Roaming/nltk_data/corpora/machado\\cronica\\macr05.txt\n",
      "188: C:/Users/miche/AppData/Roaming/nltk_data/corpora/machado\\cronica\\macr06.txt\n",
      "189: C:/Users/miche/AppData/Roaming/nltk_data/corpora/machado\\cronica\\macr07.txt\n",
      "190: C:/Users/miche/AppData/Roaming/nltk_data/corpora/machado\\cronica\\macr08.txt\n",
      "191: C:/Users/miche/AppData/Roaming/nltk_data/corpora/machado\\cronica\\macr09.txt\n",
      "192: C:/Users/miche/AppData/Roaming/nltk_data/corpora/machado\\cronica\\macr10.txt\n",
      "193: C:/Users/miche/AppData/Roaming/nltk_data/corpora/machado\\cronica\\macr11.txt\n",
      "194: C:/Users/miche/AppData/Roaming/nltk_data/corpora/machado\\cronica\\macr12.txt\n",
      "195: C:/Users/miche/AppData/Roaming/nltk_data/corpora/machado\\cronica\\macr13.txt\n",
      "196: C:/Users/miche/AppData/Roaming/nltk_data/corpora/machado\\cronica\\macr14.txt\n",
      "197: C:/Users/miche/AppData/Roaming/nltk_data/corpora/machado\\cronica\\macr15.txt\n",
      "198: C:/Users/miche/AppData/Roaming/nltk_data/corpora/machado\\cronica\\macr16.txt\n",
      "199: C:/Users/miche/AppData/Roaming/nltk_data/corpora/machado\\cronica\\macr17.txt\n",
      "200: C:/Users/miche/AppData/Roaming/nltk_data/corpora/machado\\cronica\\macr18.txt\n",
      "201: C:/Users/miche/AppData/Roaming/nltk_data/corpora/machado\\cronica\\macr19.txt\n",
      "202: C:/Users/miche/AppData/Roaming/nltk_data/corpora/machado\\cronica\\macr20.txt\n",
      "203: C:/Users/miche/AppData/Roaming/nltk_data/corpora/machado\\cronica\\macr21.txt\n",
      "204: C:/Users/miche/AppData/Roaming/nltk_data/corpora/machado\\cronica\\macr22.txt\n",
      "205: C:/Users/miche/AppData/Roaming/nltk_data/corpora/machado\\cronica\\macr23.txt\n",
      "206: C:/Users/miche/AppData/Roaming/nltk_data/corpora/machado\\cronica\\macr24.txt\n",
      "207: C:/Users/miche/AppData/Roaming/nltk_data/corpora/machado\\miscelanea\\mams01.txt\n",
      "208: C:/Users/miche/AppData/Roaming/nltk_data/corpora/machado\\miscelanea\\mams02.txt\n",
      "209: C:/Users/miche/AppData/Roaming/nltk_data/corpora/machado\\miscelanea\\mams03.txt\n",
      "210: C:/Users/miche/AppData/Roaming/nltk_data/corpora/machado\\miscelanea\\mams04.txt\n",
      "211: C:/Users/miche/AppData/Roaming/nltk_data/corpora/machado\\miscelanea\\mams05.txt\n",
      "212: C:/Users/miche/AppData/Roaming/nltk_data/corpora/machado\\miscelanea\\mams06.txt\n",
      "213: C:/Users/miche/AppData/Roaming/nltk_data/corpora/machado\\miscelanea\\mams07.txt\n",
      "214: C:/Users/miche/AppData/Roaming/nltk_data/corpora/machado\\miscelanea\\mams08.txt\n",
      "215: C:/Users/miche/AppData/Roaming/nltk_data/corpora/machado\\miscelanea\\mams09.txt\n",
      "216: C:/Users/miche/AppData/Roaming/nltk_data/corpora/machado\\miscelanea\\mams10.txt\n",
      "217: C:/Users/miche/AppData/Roaming/nltk_data/corpora/machado\\poesia\\maps01.txt\n",
      "218: C:/Users/miche/AppData/Roaming/nltk_data/corpora/machado\\poesia\\maps02.txt\n",
      "219: C:/Users/miche/AppData/Roaming/nltk_data/corpora/machado\\poesia\\maps03.txt\n",
      "220: C:/Users/miche/AppData/Roaming/nltk_data/corpora/machado\\poesia\\maps04.txt\n",
      "221: C:/Users/miche/AppData/Roaming/nltk_data/corpora/machado\\poesia\\maps05.txt\n",
      "222: C:/Users/miche/AppData/Roaming/nltk_data/corpora/machado\\poesia\\maps06.txt\n",
      "223: C:/Users/miche/AppData/Roaming/nltk_data/corpora/machado\\poesia\\maps07.txt\n",
      "224: C:/Users/miche/AppData/Roaming/nltk_data/corpora/machado\\romance\\marm01.txt\n",
      "225: C:/Users/miche/AppData/Roaming/nltk_data/corpora/machado\\romance\\marm02.txt\n",
      "226: C:/Users/miche/AppData/Roaming/nltk_data/corpora/machado\\romance\\marm03.txt\n",
      "227: C:/Users/miche/AppData/Roaming/nltk_data/corpora/machado\\romance\\marm04.txt\n",
      "228: C:/Users/miche/AppData/Roaming/nltk_data/corpora/machado\\romance\\marm05.txt\n",
      "229: C:/Users/miche/AppData/Roaming/nltk_data/corpora/machado\\romance\\marm06.txt\n",
      "230: C:/Users/miche/AppData/Roaming/nltk_data/corpora/machado\\romance\\marm07.txt\n",
      "231: C:/Users/miche/AppData/Roaming/nltk_data/corpora/machado\\romance\\marm08.txt\n",
      "232: C:/Users/miche/AppData/Roaming/nltk_data/corpora/machado\\romance\\marm09.txt\n",
      "233: C:/Users/miche/AppData/Roaming/nltk_data/corpora/machado\\romance\\marm10.txt\n",
      "234: C:/Users/miche/AppData/Roaming/nltk_data/corpora/machado\\teatro\\matt01.txt\n",
      "235: C:/Users/miche/AppData/Roaming/nltk_data/corpora/machado\\teatro\\matt02.txt\n",
      "236: C:/Users/miche/AppData/Roaming/nltk_data/corpora/machado\\teatro\\matt03.txt\n",
      "237: C:/Users/miche/AppData/Roaming/nltk_data/corpora/machado\\teatro\\matt04.txt\n",
      "238: C:/Users/miche/AppData/Roaming/nltk_data/corpora/machado\\teatro\\matt05.txt\n",
      "239: C:/Users/miche/AppData/Roaming/nltk_data/corpora/machado\\teatro\\matt06.txt\n",
      "240: C:/Users/miche/AppData/Roaming/nltk_data/corpora/machado\\teatro\\matt07.txt\n",
      "241: C:/Users/miche/AppData/Roaming/nltk_data/corpora/machado\\teatro\\matt08.txt\n",
      "242: C:/Users/miche/AppData/Roaming/nltk_data/corpora/machado\\teatro\\matt09.txt\n",
      "243: C:/Users/miche/AppData/Roaming/nltk_data/corpora/machado\\teatro\\matt10.txt\n",
      "244: C:/Users/miche/AppData/Roaming/nltk_data/corpora/machado\\traducao\\matr01.txt\n",
      "245: C:/Users/miche/AppData/Roaming/nltk_data/corpora/machado\\traducao\\matr02.txt\n",
      "246: C:/Users/miche/AppData/Roaming/nltk_data/corpora/machado\\traducao\\matr03.txt\n",
      "\n",
      "Lendo o arquivo: C:/Users/miche/AppData/Roaming/nltk_data/corpora/machado\\contos\\macn001.txt\n",
      "\n",
      "Conto, Contos Fluminenses, 1870\n",
      "\n",
      "Contos Fluminenses\n",
      "\n",
      "Texto-fonte:\n",
      "\n",
      "Obra Completa, Machado de Assis, vol. II,\n",
      "\n",
      "Rio de Janeiro: Nova Aguilar, 1994.\n",
      "\n",
      "Publicado originalmente pela\n",
      "Editora Garnier, Rio de Janeiro, em 1870.\n",
      "\n",
      "ÍNDICE\n",
      "\n",
      "MISS DOLLAR\n",
      "\n",
      "LUÍS\n",
      "SOARES\n",
      "\n",
      "A MULHER DE\n",
      "PRETO\n",
      "\n",
      "O\n",
      "SEGREDO DE AUGUSTA\n",
      "\n",
      "CONFISSÕES DE UMA VIÚVA MOÇA\n",
      "\n",
      "LINHA\n",
      "RETA E LINHA CURVA\n",
      "\n",
      "FREI\n",
      "SIMÃO\n",
      "\n",
      "MISS\n",
      "DOLLAR\n",
      "\n",
      "ÍNDICE\n",
      "\n",
      "Capítulo Primeiro\n",
      "\n",
      "Capítulo II\n",
      "\n",
      "Capítulo iii\n",
      "\n",
      "Capítulo iv\n",
      "\n",
      "Capítulo v\n",
      "\n",
      "Capítulo vI\n",
      "\n",
      "Capítulo vII\n",
      "\n",
      "CAPÍTULO VIII\n",
      "\n",
      "CAPÍTULO PRIMEIRO\n",
      "\n",
      "Era conveniente ao romance que o leitor\n",
      "ficasse muito tempo sem saber quem era Miss Dollar. Mas por outro lado,\n",
      "sem a apresentação de Miss Dollar, seria o autor obrigado a longas\n",
      "digressões, que encheriam o papel sem adiantar a ação. Não há hesitação\n",
      "possível: vou apresentar-lhes Miss Dollar.\n",
      "\n",
      "Se o leitor é rapaz e dado ao gênio\n",
      "melancólico, imagina que Miss Dollar é uma inglesa pálida e delgada,\n",
      "escassa de carnes e de sangue, abrindo à flor do rosto dois grandes olhos azuis\n",
      "e sac\n"
     ]
    }
   ],
   "source": [
    "import os\n",
    "\n",
    "# Caminho onde o corpus machado foi baixado\n",
    "pasta = 'C:/Users/miche/AppData/Roaming/nltk_data/corpora/machado'\n",
    "\n",
    "# Lista todos os arquivos .txt dentro da pasta machado\n",
    "arquivos_txt = []\n",
    "for raiz, dirs, arquivos in os.walk(pasta):\n",
    "    for nome in arquivos:\n",
    "        if nome.endswith('.txt'):\n",
    "            caminho_completo = os.path.join(raiz, nome)\n",
    "            arquivos_txt.append(caminho_completo)\n",
    "\n",
    "# Mostra os arquivos encontrados\n",
    "print(\"Arquivos disponíveis no corpus Machado:\")\n",
    "for i, arquivo in enumerate(arquivos_txt):\n",
    "    print(f\"{i + 1}: {arquivo}\")\n",
    "\n",
    "# 🟢 Agora, vamos abrir e ler o primeiro arquivo da lista\n",
    "if arquivos_txt:\n",
    "    arquivo_para_ler = arquivos_txt[0]  # Primeiro arquivo encontrado\n",
    "    print(f\"\\nLendo o arquivo: {arquivo_para_ler}\\n\")\n",
    "\n",
    "    # Usando encoding correto: ISO-8859-1 (latin1)\n",
    "    with open(arquivo_para_ler, encoding='latin1') as f:\n",
    "        texto = f.read()\n",
    "\n",
    "    print(texto[:1000])  # Mostra os primeiros 1000 caracteres do texto\n",
    "else:\n",
    "    print(\"Nenhum arquivo .txt foi encontrado na pasta machado.\")\n"
   ]
  },
  {
   "cell_type": "code",
   "execution_count": 22,
   "metadata": {
    "colab": {
     "base_uri": "https://localhost:8080/"
    },
    "id": "YaDcny4OjoKf",
    "outputId": "cf7167fd-72cb-45f2-a8d9-b49ee6d8a921"
   },
   "outputs": [
    {
     "ename": "AttributeError",
     "evalue": "'PortugueseCategorizedPlaintextCorpusReader' object has no attribute '_fileids'",
     "output_type": "error",
     "traceback": [
      "\u001b[1;31m---------------------------------------------------------------------------\u001b[0m",
      "\u001b[1;31mAttributeError\u001b[0m                            Traceback (most recent call last)",
      "Cell \u001b[1;32mIn[22], line 2\u001b[0m\n\u001b[0;32m      1\u001b[0m \u001b[38;5;66;03m# DESCRIÇÃO DOS CORPUS\u001b[39;00m\n\u001b[1;32m----> 2\u001b[0m \u001b[38;5;28mprint\u001b[39m(\u001b[43mnltk\u001b[49m\u001b[38;5;241;43m.\u001b[39;49m\u001b[43mcorpus\u001b[49m\u001b[38;5;241;43m.\u001b[39;49m\u001b[43mmachado\u001b[49m\u001b[38;5;241;43m.\u001b[39;49m\u001b[43mcategories\u001b[49m\u001b[43m(\u001b[49m\u001b[43m)\u001b[49m)\n",
      "File \u001b[1;32mC:\\Python312\\Lib\\site-packages\\nltk\\corpus\\reader\\api.py:368\u001b[0m, in \u001b[0;36mCategorizedCorpusReader.categories\u001b[1;34m(self, fileids)\u001b[0m\n\u001b[0;32m    363\u001b[0m \u001b[38;5;250m\u001b[39m\u001b[38;5;124;03m\"\"\"\u001b[39;00m\n\u001b[0;32m    364\u001b[0m \u001b[38;5;124;03mReturn a list of the categories that are defined for this corpus,\u001b[39;00m\n\u001b[0;32m    365\u001b[0m \u001b[38;5;124;03mor for the file(s) if it is given.\u001b[39;00m\n\u001b[0;32m    366\u001b[0m \u001b[38;5;124;03m\"\"\"\u001b[39;00m\n\u001b[0;32m    367\u001b[0m \u001b[38;5;28;01mif\u001b[39;00m \u001b[38;5;28mself\u001b[39m\u001b[38;5;241m.\u001b[39m_f2c \u001b[38;5;129;01mis\u001b[39;00m \u001b[38;5;28;01mNone\u001b[39;00m:\n\u001b[1;32m--> 368\u001b[0m     \u001b[38;5;28;43mself\u001b[39;49m\u001b[38;5;241;43m.\u001b[39;49m\u001b[43m_init\u001b[49m\u001b[43m(\u001b[49m\u001b[43m)\u001b[49m\n\u001b[0;32m    369\u001b[0m \u001b[38;5;28;01mif\u001b[39;00m fileids \u001b[38;5;129;01mis\u001b[39;00m \u001b[38;5;28;01mNone\u001b[39;00m:\n\u001b[0;32m    370\u001b[0m     \u001b[38;5;28;01mreturn\u001b[39;00m \u001b[38;5;28msorted\u001b[39m(\u001b[38;5;28mself\u001b[39m\u001b[38;5;241m.\u001b[39m_c2f)\n",
      "File \u001b[1;32mC:\\Python312\\Lib\\site-packages\\nltk\\corpus\\reader\\api.py:336\u001b[0m, in \u001b[0;36mCategorizedCorpusReader._init\u001b[1;34m(self)\u001b[0m\n\u001b[0;32m    333\u001b[0m \u001b[38;5;28mself\u001b[39m\u001b[38;5;241m.\u001b[39m_c2f \u001b[38;5;241m=\u001b[39m defaultdict(\u001b[38;5;28mset\u001b[39m)\n\u001b[0;32m    335\u001b[0m \u001b[38;5;28;01mif\u001b[39;00m \u001b[38;5;28mself\u001b[39m\u001b[38;5;241m.\u001b[39m_pattern \u001b[38;5;129;01mis\u001b[39;00m \u001b[38;5;129;01mnot\u001b[39;00m \u001b[38;5;28;01mNone\u001b[39;00m:\n\u001b[1;32m--> 336\u001b[0m     \u001b[38;5;28;01mfor\u001b[39;00m file_id \u001b[38;5;129;01min\u001b[39;00m \u001b[38;5;28;43mself\u001b[39;49m\u001b[38;5;241;43m.\u001b[39;49m\u001b[43m_fileids\u001b[49m:\n\u001b[0;32m    337\u001b[0m         category \u001b[38;5;241m=\u001b[39m re\u001b[38;5;241m.\u001b[39mmatch(\u001b[38;5;28mself\u001b[39m\u001b[38;5;241m.\u001b[39m_pattern, file_id)\u001b[38;5;241m.\u001b[39mgroup(\u001b[38;5;241m1\u001b[39m)\n\u001b[0;32m    338\u001b[0m         \u001b[38;5;28mself\u001b[39m\u001b[38;5;241m.\u001b[39m_add(file_id, category)\n",
      "\u001b[1;31mAttributeError\u001b[0m: 'PortugueseCategorizedPlaintextCorpusReader' object has no attribute '_fileids'"
     ]
    }
   ],
   "source": [
    "# DESCRIÇÃO DOS CORPUS\n",
    "print(nltk.corpus.machado.categories())"
   ]
  },
  {
   "cell_type": "code",
   "execution_count": 23,
   "metadata": {
    "id": "domII2Zujltg"
   },
   "outputs": [
    {
     "ename": "AttributeError",
     "evalue": "'PortugueseCategorizedPlaintextCorpusReader' object has no attribute '_encoding'",
     "output_type": "error",
     "traceback": [
      "\u001b[1;31m---------------------------------------------------------------------------\u001b[0m",
      "\u001b[1;31mAttributeError\u001b[0m                            Traceback (most recent call last)",
      "Cell \u001b[1;32mIn[23], line 2\u001b[0m\n\u001b[0;32m      1\u001b[0m \u001b[38;5;66;03m# VAMOS ESCOLHER DOM CASMURRO\u001b[39;00m\n\u001b[1;32m----> 2\u001b[0m dom_casmurro \u001b[38;5;241m=\u001b[39m \u001b[43mnltk\u001b[49m\u001b[38;5;241;43m.\u001b[39;49m\u001b[43mcorpus\u001b[49m\u001b[38;5;241;43m.\u001b[39;49m\u001b[43mmachado\u001b[49m\u001b[38;5;241;43m.\u001b[39;49m\u001b[43mraw\u001b[49m\u001b[43m(\u001b[49m\u001b[38;5;124;43m'\u001b[39;49m\u001b[38;5;124;43mromance/marm08.txt\u001b[39;49m\u001b[38;5;124;43m'\u001b[39;49m\u001b[43m)\u001b[49m\n",
      "File \u001b[1;32mC:\\Python312\\Lib\\site-packages\\nltk\\corpus\\reader\\api.py:403\u001b[0m, in \u001b[0;36mCategorizedCorpusReader.raw\u001b[1;34m(self, fileids, categories)\u001b[0m\n\u001b[0;32m    402\u001b[0m \u001b[38;5;28;01mdef\u001b[39;00m \u001b[38;5;21mraw\u001b[39m(\u001b[38;5;28mself\u001b[39m, fileids\u001b[38;5;241m=\u001b[39m\u001b[38;5;28;01mNone\u001b[39;00m, categories\u001b[38;5;241m=\u001b[39m\u001b[38;5;28;01mNone\u001b[39;00m):\n\u001b[1;32m--> 403\u001b[0m     \u001b[38;5;28;01mreturn\u001b[39;00m \u001b[38;5;28;43msuper\u001b[39;49m\u001b[43m(\u001b[49m\u001b[43m)\u001b[49m\u001b[38;5;241;43m.\u001b[39;49m\u001b[43mraw\u001b[49m\u001b[43m(\u001b[49m\u001b[38;5;28;43mself\u001b[39;49m\u001b[38;5;241;43m.\u001b[39;49m\u001b[43m_resolve\u001b[49m\u001b[43m(\u001b[49m\u001b[43mfileids\u001b[49m\u001b[43m,\u001b[49m\u001b[43m \u001b[49m\u001b[43mcategories\u001b[49m\u001b[43m)\u001b[49m\u001b[43m)\u001b[49m\n",
      "File \u001b[1;32mC:\\Python312\\Lib\\site-packages\\nltk\\corpus\\reader\\api.py:218\u001b[0m, in \u001b[0;36mCorpusReader.raw\u001b[1;34m(self, fileids)\u001b[0m\n\u001b[0;32m    216\u001b[0m contents \u001b[38;5;241m=\u001b[39m []\n\u001b[0;32m    217\u001b[0m \u001b[38;5;28;01mfor\u001b[39;00m f \u001b[38;5;129;01min\u001b[39;00m fileids:\n\u001b[1;32m--> 218\u001b[0m     \u001b[38;5;28;01mwith\u001b[39;00m \u001b[38;5;28;43mself\u001b[39;49m\u001b[38;5;241;43m.\u001b[39;49m\u001b[43mopen\u001b[49m\u001b[43m(\u001b[49m\u001b[43mf\u001b[49m\u001b[43m)\u001b[49m \u001b[38;5;28;01mas\u001b[39;00m fp:\n\u001b[0;32m    219\u001b[0m         contents\u001b[38;5;241m.\u001b[39mappend(fp\u001b[38;5;241m.\u001b[39mread())\n\u001b[0;32m    220\u001b[0m \u001b[38;5;28;01mreturn\u001b[39;00m concat(contents)\n",
      "File \u001b[1;32mC:\\Python312\\Lib\\site-packages\\nltk\\corpus\\reader\\api.py:230\u001b[0m, in \u001b[0;36mCorpusReader.open\u001b[1;34m(self, file)\u001b[0m\n\u001b[0;32m    222\u001b[0m \u001b[38;5;28;01mdef\u001b[39;00m \u001b[38;5;21mopen\u001b[39m(\u001b[38;5;28mself\u001b[39m, file):\n\u001b[0;32m    223\u001b[0m \u001b[38;5;250m    \u001b[39m\u001b[38;5;124;03m\"\"\"\u001b[39;00m\n\u001b[0;32m    224\u001b[0m \u001b[38;5;124;03m    Return an open stream that can be used to read the given file.\u001b[39;00m\n\u001b[0;32m    225\u001b[0m \u001b[38;5;124;03m    If the file's encoding is not None, then the stream will\u001b[39;00m\n\u001b[1;32m   (...)\u001b[0m\n\u001b[0;32m    228\u001b[0m \u001b[38;5;124;03m    :param file: The file identifier of the file to read.\u001b[39;00m\n\u001b[0;32m    229\u001b[0m \u001b[38;5;124;03m    \"\"\"\u001b[39;00m\n\u001b[1;32m--> 230\u001b[0m     encoding \u001b[38;5;241m=\u001b[39m \u001b[38;5;28;43mself\u001b[39;49m\u001b[38;5;241;43m.\u001b[39;49m\u001b[43mencoding\u001b[49m\u001b[43m(\u001b[49m\u001b[43mfile\u001b[49m\u001b[43m)\u001b[49m\n\u001b[0;32m    231\u001b[0m     stream \u001b[38;5;241m=\u001b[39m \u001b[38;5;28mself\u001b[39m\u001b[38;5;241m.\u001b[39m_root\u001b[38;5;241m.\u001b[39mjoin(file)\u001b[38;5;241m.\u001b[39mopen(encoding)\n\u001b[0;32m    232\u001b[0m     \u001b[38;5;28;01mreturn\u001b[39;00m stream\n",
      "File \u001b[1;32mC:\\Python312\\Lib\\site-packages\\nltk\\corpus\\reader\\api.py:240\u001b[0m, in \u001b[0;36mCorpusReader.encoding\u001b[1;34m(self, file)\u001b[0m\n\u001b[0;32m    234\u001b[0m \u001b[38;5;28;01mdef\u001b[39;00m \u001b[38;5;21mencoding\u001b[39m(\u001b[38;5;28mself\u001b[39m, file):\n\u001b[0;32m    235\u001b[0m \u001b[38;5;250m    \u001b[39m\u001b[38;5;124;03m\"\"\"\u001b[39;00m\n\u001b[0;32m    236\u001b[0m \u001b[38;5;124;03m    Return the unicode encoding for the given corpus file, if known.\u001b[39;00m\n\u001b[0;32m    237\u001b[0m \u001b[38;5;124;03m    If the encoding is unknown, or if the given file should be\u001b[39;00m\n\u001b[0;32m    238\u001b[0m \u001b[38;5;124;03m    processed using byte strings (str), then return None.\u001b[39;00m\n\u001b[0;32m    239\u001b[0m \u001b[38;5;124;03m    \"\"\"\u001b[39;00m\n\u001b[1;32m--> 240\u001b[0m     \u001b[38;5;28;01mif\u001b[39;00m \u001b[38;5;28misinstance\u001b[39m(\u001b[38;5;28;43mself\u001b[39;49m\u001b[38;5;241;43m.\u001b[39;49m\u001b[43m_encoding\u001b[49m, \u001b[38;5;28mdict\u001b[39m):\n\u001b[0;32m    241\u001b[0m         \u001b[38;5;28;01mreturn\u001b[39;00m \u001b[38;5;28mself\u001b[39m\u001b[38;5;241m.\u001b[39m_encoding\u001b[38;5;241m.\u001b[39mget(file)\n\u001b[0;32m    242\u001b[0m     \u001b[38;5;28;01melse\u001b[39;00m:\n",
      "\u001b[1;31mAttributeError\u001b[0m: 'PortugueseCategorizedPlaintextCorpusReader' object has no attribute '_encoding'"
     ]
    }
   ],
   "source": [
    "# VAMOS ESCOLHER DOM CASMURRO\n",
    "dom_casmurro = nltk.corpus.machado.raw('romance/marm08.txt')"
   ]
  },
  {
   "cell_type": "code",
   "execution_count": null,
   "metadata": {
    "id": "rO0W8RyUkUzi"
   },
   "outputs": [],
   "source": [
    "texto_original = re.sub(r'\\s+', ' ', dom_casmurro)"
   ]
  },
  {
   "cell_type": "code",
   "execution_count": null,
   "metadata": {
    "id": "fqLEIj4dltIb"
   },
   "outputs": [],
   "source": [
    "texto_formatado = preprocessamento(texto_original)"
   ]
  },
  {
   "cell_type": "code",
   "execution_count": null,
   "metadata": {
    "id": "cvnPaaXoqEW1"
   },
   "outputs": [],
   "source": [
    "frequencia_palavras = nltk.FreqDist(nltk.word_tokenize(texto_formatado))"
   ]
  },
  {
   "cell_type": "code",
   "execution_count": null,
   "metadata": {
    "colab": {
     "base_uri": "https://localhost:8080/"
    },
    "id": "feegunC2qb5s",
    "outputId": "92fb7a6f-3b44-4730-d3ea-8b56935b0f27"
   },
   "outputs": [],
   "source": [
    "frequencia_palavras #é um dicionário"
   ]
  },
  {
   "cell_type": "code",
   "execution_count": null,
   "metadata": {
    "colab": {
     "base_uri": "https://localhost:8080/"
    },
    "id": "xZoPfB1hqjHU",
    "outputId": "527ce8b9-e9bf-4b9f-ad7d-f807d8d50865"
   },
   "outputs": [],
   "source": [
    "frequencia_palavras['capitu']"
   ]
  },
  {
   "cell_type": "code",
   "execution_count": null,
   "metadata": {
    "colab": {
     "base_uri": "https://localhost:8080/"
    },
    "id": "lXl3sS4VrhN0",
    "outputId": "20225ded-51be-4cbc-b61f-4a1f515076e1"
   },
   "outputs": [],
   "source": [
    "import nltk\n",
    "nltk.download('machado')\n",
    "from nltk.probability import FreqDist\n",
    "from nltk.tokenize import word_tokenize\n",
    "nltk.download('punkt')"
   ]
  },
  {
   "cell_type": "code",
   "execution_count": null,
   "metadata": {
    "colab": {
     "base_uri": "https://localhost:8080/",
     "height": 598
    },
    "id": "fiiBoD8etaqk",
    "outputId": "46387a9e-8a8a-4d95-da62-a482a74f7ac2"
   },
   "outputs": [],
   "source": [
    "# SEM PRÉ-PROCESSAMENTO\n",
    "\n",
    "# corpus dom casmurro\n",
    "corpus_dom_casmurro = nltk.corpus.machado.raw('romance/marm08.txt')\n",
    "\n",
    "# sem pre processamento\n",
    "texto = corpus_dom_casmurro\n",
    "\n",
    "# tokenizando\n",
    "tokens = word_tokenize(texto)\n",
    "\n",
    "# contagem de frequencia\n",
    "fd = FreqDist(tokens)\n",
    "# print(\"20 palavras mais frequentes:\")\n",
    "print(fd.most_common(20))\n",
    "\n",
    "# plot\n",
    "import matplotlib.pyplot as plt\n",
    "plt.figure(figsize = (13, 8))\n",
    "fd.plot(30, title = \"Frequência de Palavras\")"
   ]
  },
  {
   "cell_type": "code",
   "execution_count": null,
   "metadata": {
    "colab": {
     "base_uri": "https://localhost:8080/",
     "height": 591
    },
    "id": "QLb0GhTWtb-p",
    "outputId": "122c5d0c-ec82-411c-c937-8255394bab6d"
   },
   "outputs": [],
   "source": [
    "# COM PRÉ-PROCESSAMENTO 1\n",
    "\n",
    "# corpus dom casmurro\n",
    "corpus_dom_casmurro = nltk.corpus.machado.raw('romance/marm08.txt')\n",
    "\n",
    "# com pre processamento\n",
    "texto = preprocessamento(corpus_dom_casmurro)\n",
    "\n",
    "# tokenizando\n",
    "tokens = word_tokenize(texto)\n",
    "\n",
    "# contagem de frequencia\n",
    "fd = FreqDist(tokens)\n",
    "print(\"20 palavras mais frequentes:\")\n",
    "print(fd.most_common(20))\n",
    "\n",
    "# plot\n",
    "import matplotlib.pyplot as plt\n",
    "plt.figure(figsize = (13, 8))\n",
    "fd.plot(30, title = \"Frequência de Palavras\")"
   ]
  },
  {
   "cell_type": "code",
   "execution_count": null,
   "metadata": {
    "colab": {
     "base_uri": "https://localhost:8080/",
     "height": 591
    },
    "id": "AfDeZTd91H3c",
    "outputId": "31e6077d-8713-4ecb-adf6-189dc5ceb912"
   },
   "outputs": [],
   "source": [
    "# COM PRÉ-PROCESSAMENTO 2\n",
    "\n",
    "# corpus dom casmurro\n",
    "corpus_dom_casmurro = nltk.corpus.machado.raw('romance/marm08.txt')\n",
    "\n",
    "# com pre processamento\n",
    "texto = pre_processamento(corpus_dom_casmurro)\n",
    "\n",
    "# tokenizando\n",
    "tokens = word_tokenize(texto)\n",
    "\n",
    "# contagem de frequencia\n",
    "fd = FreqDist(tokens)\n",
    "print(\"20 palavras mais frequentes:\")\n",
    "print(fd.most_common(20))\n",
    "\n",
    "# plot\n",
    "import matplotlib.pyplot as plt\n",
    "plt.figure(figsize = (13, 8))\n",
    "fd.plot(30, title = \"Frequência de Palavras\")"
   ]
  },
  {
   "cell_type": "code",
   "execution_count": null,
   "metadata": {
    "id": "M0fzmxZSlPhd"
   },
   "outputs": [],
   "source": [
    "texto1 = nltk.corpus.machado.words('romance/marm08.txt')"
   ]
  },
  {
   "cell_type": "code",
   "execution_count": null,
   "metadata": {
    "colab": {
     "base_uri": "https://localhost:8080/"
    },
    "id": "WmnhbS8mljNn",
    "outputId": "3df49ef7-1970-4866-efa6-3fd336ceb3d5"
   },
   "outputs": [],
   "source": [
    "#TOTAL DE PALAVRAS\n",
    "len(texto1)"
   ]
  },
  {
   "cell_type": "code",
   "execution_count": null,
   "metadata": {
    "colab": {
     "base_uri": "https://localhost:8080/"
    },
    "id": "TsC2Mf0GmKos",
    "outputId": "e1236fbe-4553-4223-d03d-877d8ff66711"
   },
   "outputs": [],
   "source": [
    "len(set(texto1))"
   ]
  },
  {
   "cell_type": "markdown",
   "metadata": {
    "id": "Z9w6nkxQro3z"
   },
   "source": [
    "# CONCORDÂNCIA\n",
    "\n",
    "> Concordância\n",
    "Essa função serve para nos mostrar em quais contextos determinada palavra aparece, ela nos retorna o contexto que cerca o argumento. Isso é feito colando a palavra no centro das frases onde ela tende a aparecer através da função .concordance, que por sua vez recebe a palavra como argumento. Aqui vamos ver a palavra “capitu” em seus contextos:"
   ]
  },
  {
   "cell_type": "code",
   "execution_count": null,
   "metadata": {
    "id": "L5pGK8oUmbQE"
   },
   "outputs": [],
   "source": [
    "# CONCORDÂNCIA\n",
    "dom_casmurro = nltk.Text(nltk.corpus.machado.words('romance/marm08.txt'))"
   ]
  },
  {
   "cell_type": "code",
   "execution_count": null,
   "metadata": {
    "colab": {
     "base_uri": "https://localhost:8080/"
    },
    "id": "jRAoOJbzr7Av",
    "outputId": "8014fe22-5b82-4531-f7a6-4c885f899166"
   },
   "outputs": [],
   "source": [
    "dom_casmurro.concordance('capitu')"
   ]
  },
  {
   "cell_type": "code",
   "execution_count": null,
   "metadata": {
    "colab": {
     "base_uri": "https://localhost:8080/"
    },
    "id": "cHA2-8RQRpR7",
    "outputId": "0129067f-0489-49f0-b7e5-c92a2c038673"
   },
   "outputs": [],
   "source": [
    "dom_casmurro.concordance('olhos')"
   ]
  },
  {
   "cell_type": "markdown",
   "metadata": {
    "id": "dugce6FZtM5O"
   },
   "source": [
    "# BIGRAMAS\n",
    "\n",
    "> Encontrar bigramas é uma parte importante para a análise de um texto. Mas primeiro, o que são bigramas? São palavras no texto que possuem um sentido único estando juntas, podendo até ocorrer separadas, mas com um sentido quando juntas. Por exemplo, nomes compostos (João Alfredo, Maria Júlia) ou nomes de cidades (São Paulo, Rio de Janeiro, Nova Iorque) são exemplos claros de bigramas, essas palavras podem ocorrer sozinhas, mas ocorrendo juntas possuem um significado.\n",
    "\n",
    "Para encontrar os bigramas de um texto com NLTK, basta chamar a função ‘collocations’:"
   ]
  },
  {
   "cell_type": "code",
   "execution_count": null,
   "metadata": {
    "colab": {
     "base_uri": "https://localhost:8080/"
    },
    "id": "t3AQ_VfLtKcV",
    "outputId": "e490c399-8726-4ffa-c021-5cac6a0890ff"
   },
   "outputs": [],
   "source": [
    "# BIGRAMAS\n",
    "\n",
    "dom_casmurro.collocations()"
   ]
  },
  {
   "cell_type": "markdown",
   "metadata": {
    "id": "37_4GG2Sir7u"
   },
   "source": [
    "# ENELVO\n",
    "\n",
    "> A biblioteca Enelvo é muito importante para diversas tarefas de Processamento de Linguagem Natural em português porque possui a capacidade de normalizar textos, ou seja, corrige abreviações, gírias, erros ortográficos, capitaliza letras no começo das frases, de nomes próprios e acrônimos. Ela também possui uma função própria para remover pontuações e emojis."
   ]
  },
  {
   "cell_type": "code",
   "execution_count": null,
   "metadata": {
    "colab": {
     "base_uri": "https://localhost:8080/"
    },
    "id": "3tM4D-naiv9C",
    "outputId": "faeb8e44-8e47-45ed-cb66-85819e998a1d"
   },
   "outputs": [],
   "source": [
    "!pip install enelvo"
   ]
  },
  {
   "cell_type": "code",
   "execution_count": null,
   "metadata": {
    "id": "uuayBIFii3-j"
   },
   "outputs": [],
   "source": [
    "from enelvo.normaliser import Normaliser\n",
    "\n",
    "norm = Normaliser(tokenizer='readable')"
   ]
  },
  {
   "cell_type": "code",
   "execution_count": null,
   "metadata": {
    "colab": {
     "base_uri": "https://localhost:8080/"
    },
    "id": "rXka2MxKjNnP",
    "outputId": "f5d100b0-d900-4ece-8ef3-8a9c3bfd1522"
   },
   "outputs": [],
   "source": [
    "msg = \"Até hj vc n me respondeu. Oq houve?!\"\n",
    "resposta = norm.normalise(msg)\n",
    "print(resposta)"
   ]
  },
  {
   "cell_type": "code",
   "execution_count": null,
   "metadata": {
    "id": "mwPwfeEXLfeK"
   },
   "outputs": [],
   "source": [
    "# STEMIZAÇÃO VS. LEMMATIZAÇÃO"
   ]
  },
  {
   "cell_type": "markdown",
   "metadata": {
    "id": "E38UNvYRLiQZ"
   },
   "source": [
    "# STEMIZAÇÃO VS. LEMMATIZAÇÃO"
   ]
  },
  {
   "cell_type": "markdown",
   "metadata": {
    "id": "w2X9wZDyLw02"
   },
   "source": [
    "## STEMIZAÇÃO\n",
    "\n",
    "> Na stemming vamos analisar cada palavra individualmente e reduzi-la à sua raiz ou, como é chamado na técnica, ao seu stem. Uma característica dessa técnica é que ela pode reduzir a palavra a uma outra gramaticalmente incorreta, porém ainda com valor para nossa análise. Os algoritmos de stemming têm um conjunto de regras para decidir como fazer os cortes."
   ]
  },
  {
   "cell_type": "code",
   "execution_count": null,
   "metadata": {
    "colab": {
     "base_uri": "https://localhost:8080/",
     "height": 174
    },
    "id": "n29Xi4-OM3Tv",
    "outputId": "5d2bdf72-242f-4bd4-f43c-399483b1beb5"
   },
   "outputs": [],
   "source": [
    "import pandas as pd\n",
    "df_palavras = pd.DataFrame(['avião', 'aviões', 'carreira', 'carreiras'], columns=['Original'])\n",
    "df_palavras"
   ]
  },
  {
   "cell_type": "markdown",
   "metadata": {
    "id": "S-O7cwBqMH41"
   },
   "source": [
    "## NLTK RSLP\n",
    "\n",
    "> NLTK RSLP (Removedor de Sufixos da Língua Portuguesa) é um conjunto de funções de tratamento de textos especifico para a nossa língua portuguesa (pt-br)."
   ]
  },
  {
   "cell_type": "code",
   "execution_count": null,
   "metadata": {
    "colab": {
     "base_uri": "https://localhost:8080/"
    },
    "id": "dk2uqHdoMV7y",
    "outputId": "3aaa05b9-3c0b-4248-a8f2-f77a390a16d8"
   },
   "outputs": [],
   "source": [
    "nltk.download('rslp')"
   ]
  },
  {
   "cell_type": "code",
   "execution_count": null,
   "metadata": {
    "id": "oVCtaobrMf_Y"
   },
   "outputs": [],
   "source": [
    "stemmer = nltk.stem.RSLPStemmer()"
   ]
  },
  {
   "cell_type": "code",
   "execution_count": null,
   "metadata": {
    "colab": {
     "base_uri": "https://localhost:8080/",
     "height": 174
    },
    "id": "Vn7FajFoMm10",
    "outputId": "71679f41-8793-418f-edbf-3fe810f9744b"
   },
   "outputs": [],
   "source": [
    "df_palavras['nltk_stemmer'] = [stemmer.stem(palavra) for palavra in df_palavras['Original']]\n",
    "df_palavras"
   ]
  },
  {
   "cell_type": "markdown",
   "metadata": {
    "id": "E0tLJzcSNE8n"
   },
   "source": [
    "## LEMATIZAÇÃO\n",
    "\n",
    "> Na lemmatization também vamos buscar reduzir a palavra à sua raiz, retirando todas as inflexões e chegando ao lemma. Porém, essa redução sempre resultará em uma palavra que realmente existe na gramática. Outro ponto importante é que, nessa técnica, a classe gramatical da palavra será levada em consideração para fazer a redução. Vamos agora utilizar a biblioteca spaCy para aplicar essa técnica."
   ]
  },
  {
   "cell_type": "markdown",
   "metadata": {
    "id": "op2M3pAjNJ3W"
   },
   "source": [
    "### spaCy\n",
    "\n",
    "> spaCy é uma biblioteca para processamento avançado de linguagem natural, escrita nas linguagens de programação Python e Cython"
   ]
  },
  {
   "cell_type": "code",
   "execution_count": null,
   "metadata": {
    "colab": {
     "base_uri": "https://localhost:8080/"
    },
    "id": "-An4sgrmNZhR",
    "outputId": "b5c4b3b7-ab54-41ea-f8d8-5917683a5d02"
   },
   "outputs": [],
   "source": [
    "!python -m spacy download pt_core_news_sm\n",
    "\n",
    "#pt_core_news_sm = small\n",
    "#pt_core_news_md = medium\n",
    "#pt_core_news_lg = large"
   ]
  },
  {
   "cell_type": "code",
   "execution_count": null,
   "metadata": {
    "id": "lYbiPBZUNktq"
   },
   "outputs": [],
   "source": [
    "import spacy\n",
    "nlp = spacy.load('pt_core_news_sm')"
   ]
  },
  {
   "cell_type": "code",
   "execution_count": null,
   "metadata": {
    "id": "YuiNAvHANqFr"
   },
   "outputs": [],
   "source": [
    "doc = nlp(str([palavra for palavra in df_palavras['Original']]))"
   ]
  },
  {
   "cell_type": "code",
   "execution_count": null,
   "metadata": {
    "colab": {
     "base_uri": "https://localhost:8080/",
     "height": 174
    },
    "id": "q9nNZHL3Ntmi",
    "outputId": "26c93aad-32ef-4a35-a2fa-ed1e13c664c0"
   },
   "outputs": [],
   "source": [
    "df_palavras['spacy_lemma'] = [token.lemma_ for token in doc if token.pos_ == 'NOUN']\n",
    "df_palavras"
   ]
  }
 ],
 "metadata": {
  "colab": {
   "provenance": []
  },
  "kernelspec": {
   "display_name": "Python 3 (ipykernel)",
   "language": "python",
   "name": "python3"
  },
  "language_info": {
   "codemirror_mode": {
    "name": "ipython",
    "version": 3
   },
   "file_extension": ".py",
   "mimetype": "text/x-python",
   "name": "python",
   "nbconvert_exporter": "python",
   "pygments_lexer": "ipython3",
   "version": "3.12.2"
  }
 },
 "nbformat": 4,
 "nbformat_minor": 4
}
