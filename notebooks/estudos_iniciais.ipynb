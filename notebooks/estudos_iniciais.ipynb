{
 "cells": [
  {
   "cell_type": "code",
   "execution_count": 2,
   "id": "d97ef284-04ff-4f59-9b39-7d68a61d6a0d",
   "metadata": {},
   "outputs": [],
   "source": [
    "import os\n",
    "import sys"
   ]
  },
  {
   "cell_type": "code",
   "execution_count": 4,
   "id": "bf23b26c-ad18-4032-9470-9847ccdef413",
   "metadata": {},
   "outputs": [
    {
     "name": "stdout",
     "output_type": "stream",
     "text": [
      "Requirement already satisfied: nltk in c:\\projetos\\python\\cefet\\tcc\\pln\\venv\\lib\\site-packages (3.8.1)\n",
      "Collecting nltk\n",
      "  Using cached nltk-3.9.1-py3-none-any.whl.metadata (2.9 kB)\n",
      "Requirement already satisfied: click in c:\\projetos\\python\\cefet\\tcc\\pln\\venv\\lib\\site-packages (from nltk) (8.2.0)\n",
      "Requirement already satisfied: joblib in c:\\projetos\\python\\cefet\\tcc\\pln\\venv\\lib\\site-packages (from nltk) (1.5.0)\n",
      "Requirement already satisfied: regex>=2021.8.3 in c:\\projetos\\python\\cefet\\tcc\\pln\\venv\\lib\\site-packages (from nltk) (2024.11.6)\n",
      "Requirement already satisfied: tqdm in c:\\projetos\\python\\cefet\\tcc\\pln\\venv\\lib\\site-packages (from nltk) (4.67.1)\n",
      "Requirement already satisfied: colorama in c:\\projetos\\python\\cefet\\tcc\\pln\\venv\\lib\\site-packages (from click->nltk) (0.4.6)\n",
      "Using cached nltk-3.9.1-py3-none-any.whl (1.5 MB)\n",
      "Installing collected packages: nltk\n",
      "  Attempting uninstall: nltk\n",
      "    Found existing installation: nltk 3.8.1\n",
      "    Uninstalling nltk-3.8.1:\n",
      "      Successfully uninstalled nltk-3.8.1\n",
      "Successfully installed nltk-3.9.1\n"
     ]
    }
   ],
   "source": [
    "!{sys.executable} -m pip install nltk --upgrade"
   ]
  },
  {
   "cell_type": "code",
   "execution_count": 5,
   "id": "1e6aebc4-a8a6-45f3-8074-42a1a9f70772",
   "metadata": {},
   "outputs": [
    {
     "name": "stdout",
     "output_type": "stream",
     "text": [
      "Requirement already satisfied: pip in c:\\projetos\\python\\cefet\\tcc\\pln\\venv\\lib\\site-packages (25.1.1)\n"
     ]
    }
   ],
   "source": [
    "!{sys.executable} -m pip install --upgrade pip"
   ]
  },
  {
   "cell_type": "code",
   "execution_count": 6,
   "id": "83f864d5-a9ee-4d53-8676-2e3ff33a1226",
   "metadata": {},
   "outputs": [],
   "source": [
    "import re\n",
    "import string"
   ]
  },
  {
   "cell_type": "code",
   "execution_count": 7,
   "id": "013df7f4-cc8c-4dda-a26c-179ce1999c2d",
   "metadata": {},
   "outputs": [],
   "source": [
    "import nltk"
   ]
  },
  {
   "cell_type": "code",
   "execution_count": 9,
   "id": "cc23694b-442c-42fe-b8b6-50b85401cec2",
   "metadata": {},
   "outputs": [
    {
     "data": {
      "text/plain": [
       "['C:\\\\projetos\\\\python\\\\cefet\\\\tcc\\\\pln\\\\nltk_data',\n",
       " 'C:\\\\Users\\\\miche/nltk_data',\n",
       " 'C:\\\\projetos\\\\python\\\\cefet\\\\tcc\\\\pln\\\\venv\\\\nltk_data',\n",
       " 'C:\\\\projetos\\\\python\\\\cefet\\\\tcc\\\\pln\\\\venv\\\\share\\\\nltk_data',\n",
       " 'C:\\\\projetos\\\\python\\\\cefet\\\\tcc\\\\pln\\\\venv\\\\lib\\\\nltk_data',\n",
       " 'C:\\\\Users\\\\miche\\\\AppData\\\\Roaming\\\\nltk_data',\n",
       " 'C:\\\\nltk_data',\n",
       " 'D:\\\\nltk_data',\n",
       " 'E:\\\\nltk_data']"
      ]
     },
     "execution_count": 9,
     "metadata": {},
     "output_type": "execute_result"
    }
   ],
   "source": [
    "# Caminho absoluto para a pasta do projeto\n",
    "caminho_projeto = r'C:\\projetos\\python\\cefet\\tcc\\pln'\n",
    "\n",
    "# Caminho fixo para salvar os dados do NLTK dentro do projeto\n",
    "caminho_nltk = os.path.join(caminho_projeto, 'nltk_data')\n",
    "\n",
    "# Atualiza os caminhos do NLTK para usar só esse\n",
    "#nltk.data.path = [caminho_nltk]\n",
    "\n",
    "# Adiciona ao path do NLTK\n",
    "nltk.data.path.insert(0, caminho_nltk)\n",
    "\n",
    "# Confirma\n",
    "nltk.data.path"
   ]
  },
  {
   "cell_type": "code",
   "execution_count": 8,
   "id": "9cf469ca-04e0-4787-9b99-e317eeeb8cca",
   "metadata": {},
   "outputs": [
    {
     "data": {
      "text/plain": [
       "['C:\\\\Users\\\\miche/nltk_data',\n",
       " 'C:\\\\projetos\\\\python\\\\cefet\\\\tcc\\\\pln\\\\venv\\\\nltk_data',\n",
       " 'C:\\\\projetos\\\\python\\\\cefet\\\\tcc\\\\pln\\\\venv\\\\share\\\\nltk_data',\n",
       " 'C:\\\\projetos\\\\python\\\\cefet\\\\tcc\\\\pln\\\\venv\\\\lib\\\\nltk_data',\n",
       " 'C:\\\\Users\\\\miche\\\\AppData\\\\Roaming\\\\nltk_data',\n",
       " 'C:\\\\nltk_data',\n",
       " 'D:\\\\nltk_data',\n",
       " 'E:\\\\nltk_data']"
      ]
     },
     "execution_count": 8,
     "metadata": {},
     "output_type": "execute_result"
    }
   ],
   "source": [
    "# Remove entrada caso necessário\n",
    "nltk.data.path = [p for p in nltk.data.path if p != 'C:\\\\projetos\\\\python\\\\cefet\\\\tcc\\\\pln\\\\nltk_data']\n",
    "\n",
    "# Confirma\n",
    "nltk.data.path"
   ]
  },
  {
   "cell_type": "code",
   "execution_count": 10,
   "id": "95131140-bf1c-4902-b162-929722bd8a73",
   "metadata": {},
   "outputs": [],
   "source": [
    "# Cria a pasta se não existir\n",
    "os.makedirs(caminho_nltk, exist_ok=True)"
   ]
  },
  {
   "cell_type": "code",
   "execution_count": null,
   "id": "46469c83-b2bd-4715-b32a-750b956fcd94",
   "metadata": {},
   "outputs": [],
   "source": [
    "nltk.download('stopwords', download_dir=caminho_nltk)"
   ]
  },
  {
   "cell_type": "code",
   "execution_count": null,
   "id": "b87c73ba-5f8f-4c69-b8bb-a2d60d9ffa24",
   "metadata": {},
   "outputs": [],
   "source": [
    "nltk.download('punkt', download_dir=caminho_nltk)"
   ]
  },
  {
   "cell_type": "code",
   "execution_count": null,
   "id": "76b0ec7a-4021-4e3a-838a-c8b489b75723",
   "metadata": {},
   "outputs": [],
   "source": [
    "nltk.download('machado', download_dir=caminho_nltk)"
   ]
  },
  {
   "cell_type": "code",
   "execution_count": 29,
   "id": "e9007e43-c353-4c9c-89e2-92efb0fb29e8",
   "metadata": {},
   "outputs": [],
   "source": [
    "from nltk.text import Text\n",
    "from nltk.probability import FreqDist\n",
    "from nltk.util import bigrams\n",
    "from nltk.misc import babelize_shell\n",
    "from nltk.corpus import PlaintextCorpusReader\n",
    "# from nltk.corpus import machado # Não funciona nas versões mais atuais do NLTK\n",
    "machado = PlaintextCorpusReader(os.path.join(caminho_nltk, 'corpora/machado'), r'.*\\.txt', encoding='latin1') # Workaround"
   ]
  },
  {
   "cell_type": "code",
   "execution_count": 20,
   "id": "f378e032-627f-4708-8940-f03a334f3fd5",
   "metadata": {},
   "outputs": [],
   "source": [
    "# machado.fileids()"
   ]
  },
  {
   "cell_type": "code",
   "execution_count": 30,
   "id": "e6329df1-b4a9-4c92-9761-a51877e1335c",
   "metadata": {},
   "outputs": [
    {
     "name": "stdout",
     "output_type": "stream",
     "text": [
      "Machado de Assis -- Obra Completa\n",
      "\n",
      "http://machado.mec.gov.br/\n",
      "\n",
      "Public Domain\n",
      "\n",
      "Contents:\n",
      "\n",
      "Romance\n",
      "\n",
      "romance/marm01.txt: Ressurreição (1872)\n",
      "romance/marm02.txt: A Mão e a Luva (1874)\n",
      "romance/marm03.txt: Helena (1876)\n",
      "romance/marm04.txt: Iaiá Garcia (1878)\n",
      "romance/marm05.txt: Memórias Póstumas de Brás Cubas (1881)\n",
      "romance/marm06.txt: Casa Velha (1885)\n",
      "romance/marm07.txt: Quincas Borba (1891)\n",
      "romance/marm08.txt: Dom Casmurro (1899)\n",
      "romance/marm09.txt: Esaú e Jacó (1904)\n",
      "romance/marm10.txt: Memorial de Aires (1908)\n",
      "\n",
      "Poesia\n",
      "\n",
      "poesia/maps01.txt: Crisálidas (1864)\n",
      "poesia/maps02.txt: Falenas (1870)\n",
      "poesia/maps03.txt: Americanas (1875)\n",
      "poesia/maps04.txt: Gazeta de Holanda (1886-88)\n",
      "poesia/maps05.txt: Ocidentais (1901)\n",
      "poesia/maps06.txt: O Almada (1908)\n",
      "poesia/maps07.txt: Dispersas (1854-1939)\n",
      "\n",
      "Contos\n",
      "\n",
      "contos/macn001.txt: Contos Fluminenses (1870); Miss Dollar; Luís Soares; A mulher de preto; O segredo de Augusta; Confissões de uma viúva moça; Linha reta e linha curva; Frei Sim\n",
      "contos/macn002.txt: Histórias da meia-noite (1873); A parasita azul; As bodas de Luís Duarte; Ernesto de Tal; Aurora sem dia; O relógio de ouro; Ponto de vista\n",
      "contos/macn003.txt: Papéis avulsos (1882); O alienista; Teoria do medalhão; A chinela turca; Na arca; D. Benedita; O segredo do bonzo; O anel de Polícrates; O empréstimo; A sereníssima república; O espelho; Uma visita de Alcibíades; Verba testamentária\n",
      "contos/macn004.txt: Histórias sem data (1884); A igreja do Diabo; O lapso; Último capítulo; Cantiga de esponsais; Singular ocorrência; Galeria póstuma; Capítulo dos chapéus; Conto alexandrino; Rimas de Sapucaia!; Uma senhora; Anedota pecuniária; Fulano; A segunda vida; Noite de almirante; Manuscrito de um sacristão; Ex cathedra; A senhora do Galvão; As academias de Sião\n",
      "contos/macn005.txt: Várias histórias (1896); A cartomante; Entre santos; Uns braços; Um homem célebre; A desejada das gentes; A causa secreta; Trio em lá menor; Adão e Eva; O enfermeiro; O diplomático; Mariana; Conto de escola; Um apólogo; D. Paula; Viver!; O cônego ou Metafísica do estilo\n",
      "contos/macn006.txt: Páginas recolhidas (1899); O caso da vara; O dicionário; Um erradio; Eterno!; Missa do galo; Idéias de canário; Lágrimas de Xerxes; Papéis velhos\n",
      "contos/macn007.txt: Relíquias de Casa Velha (1906); Pai contra mãe; Maria Cora; Marcha fúnebre; Um capitão de voluntários; Suje-se gordo!; Umas férias; Evolução; Pílades e Orestes; Anedota do cabriolet\n",
      "\n",
      "Traducao\n",
      "\n",
      "traducao/matr01.txt: Suplício de uma mulher (1865)\n",
      "traducao/matr02.txt: Os trabalhadores do mar (1866)\n",
      "traducao/matr03.txt: Oliver Twist (1870)\n",
      "\n",
      "Teatro\n",
      "\n",
      "teatro/matt01.txt: As forcas caudinas (1956)\n",
      "teatro/matt02.txt: Hoje avental, amanhã luva (1860)\n",
      "teatro/matt03.txt: Desencantos (1861)\n",
      "teatro/matt04.txt: O caminho da porta / O protocolo (1863)\n",
      "teatro/matt05.txt: Quase ministro (1864)\n",
      "teatro/matt06.txt: Os deuses de casaca (1866)\n",
      "teatro/matt07.txt: O bote de rapé (1878)\n",
      "teatro/matt08.txt: Tu, só tu, puro amor (1880)\n",
      "teatro/matt09.txt: Não consultes médico (1899)\n",
      "teatro/matt10.txt: Lição de botânica (1906)\n",
      "\n",
      "Cronica\n",
      "\n",
      "cronica/macr01.txt: Comentários da semana (1861-1863)\n",
      "cronica/macr02.txt: Crônicas do Dr. Semana (1861-1864)\n",
      "cronica/macr03.txt: Crônicas - O futuro (1862-1863)\n",
      "cronica/macr04.txt: Ao acaso (1864-1865)\n",
      "cronica/macr05.txt: Cartas fluminenses (1867)\n",
      "cronica/macr06.txt: Badaladas (1871-1873)\n",
      "cronica/macr07.txt: História de quinze dias (1876-1877)\n",
      "cronica/macr08.txt: História dos trinta dias (1878)\n",
      "cronica/macr09.txt: Notas semanais (1878)\n",
      "cronica/macr10.txt: Balas de estalo (1883-1886)\n",
      "cronica/macr11.txt: Bons dias! (1888-1889)\n",
      "cronica/macr12.txt: A semana (1892-1800)\n",
      "cronica/macr13.txt: O jornal e o livro (1859)\n",
      "cronica/macr14.txt: A reforma pelo jornal (1859)\n",
      "cronica/macr15.txt: Aquarelas (1859)\n",
      "cronica/macr16.txt: O Visconde de Castilho (1875)\n",
      "cronica/macr17.txt: Cherchez la femme (1881)\n",
      "cronica/macr18.txt: José de Alencar (1883)\n",
      "cronica/macr19.txt: Joaquim Serra (1888)\n",
      "cronica/macr20.txt: O futuro dos argentinos (1888)\n",
      "cronica/macr21.txt: Entre 1892 e 1894 (1892-1894)\n",
      "cronica/macr22.txt: Henrique Chaves (1893)\n",
      "cronica/macr23.txt: Henrique Lombaerts (1897)\n",
      "cronica/macr24.txt: O velho Senado (1898)\n",
      "critica/mact01.txt: O Passado, o presente e o futuro da literatura (1858)\n",
      "critica/mact02.txt: Idéias sobre o teatro (1859)\n",
      "critica/mact03.txt: Revista dos teatros (1859)\n",
      "critica/mact04.txt: Revista Dramática (1860)\n",
      "critica/mact05.txt: A Crítica teatral. José de Alencar: Mãe (1860)\n",
      "critica/mact06.txt: Crítica variada - Diário do RJ (1862)\n",
      "critica/mact07.txt: Flores e Frutos, de Bruno Seabra (1862)\n",
      "critica/mact08.txt: Pareceres - Conservatório Dramático (1862-1864)\n",
      "critica/mact09.txt: Homem de Mello e B. Pinheiro  A Constituinte perante a História e Sombras e Luz (1863)\n",
      "critica/mact10.txt: Peregrinação pela província de S. Paulo , por A. E. Zaluar (1863)\n",
      "critica/mact11.txt: Revelações , de A. E. Zaluar (1863)\n",
      "critica/mact12.txt: Dois folhetins. Suplício de uma mulher (1865)\n",
      "critica/mact13.txt: O Ideal do crítico (1865)\n",
      "critica/mact14.txt: Álvares de Azevedo: Lira dos vinte anos (1866)\n",
      "critica/mact15.txt: Crítica teatral (1866)\n",
      "critica/mact16.txt: Fagundes Varela  Cantos e fantasias (1866)\n",
      "critica/mact17.txt: J .M. de Macedo: O culto do dever (1866)\n",
      "critica/mact18.txt: José de Alencar: Iracema (1866)\n",
      "critica/mact19.txt: Junqueira Freire: Inspirações do claustro (1866)\n",
      "critica/mact20.txt: Porto Alegre: Colombo (1866)\n",
      "critica/mact21.txt: Propósito (1866)\n",
      "critica/mact22.txt: Castro Alves (1868)\n",
      "critica/mact23.txt: Lúcio de Mendonça: Névoas matutinas (1872)\n",
      "critica/mact24.txt: Un cuento endemoniado e La mujer misteriosa , de Guilherme Malta (1872)\n",
      "critica/mact25.txt: Notícia da atual literatura brasileira: Instinto de nacionalidade (1873)\n",
      "critica/mact26.txt: Fagundes Varela (1875)\n",
      "critica/mact27.txt: Eça de Queirós: O primo Basílio (1878)\n",
      "critica/mact28.txt: Francisco de Castro: Harmonias errantes (1878)\n",
      "critica/mact29.txt: A Nova geração (1879)\n",
      "critica/mact30.txt: Carlos Jansen: Contos seletos das mil e uma noites (1882)\n",
      "critica/mact31.txt: Raimundo Correia: Sinfonias (1882)\n",
      "critica/mact32.txt: Alberto de Oliveira: Meridionais (1884)\n",
      "critica/mact33.txt: Enéias Galvão: Miragens (1885)\n",
      "critica/mact34.txt: L. L. Fernandes Pinheiro Júnior: Tipos e quadros (1886)\n",
      "critica/mact35.txt: José de Alencar: O Guarani (1887)\n",
      "critica/mact36.txt: Henriqueta Renan (1896)\n",
      "critica/mact37.txt: Discursos na Academia Brasileira de Letras (1897)\n",
      "critica/mact38.txt: Magalhães de Azeredo: Procelárias (1898)\n",
      "critica/mact39.txt: Cenas da vida amazônica , de José Veríssimo (1899)\n",
      "critica/mact40.txt: Garrett (1899)\n",
      "critica/mact41.txt: Eça de Queirós (1900)\n",
      "critica/mact42.txt: Eduardo Prado (1901)\n",
      "critica/mact43.txt: Magalhães de Azeredo e Mário de Alencar: Horas sagradas e Versos (1902)\n",
      "critica/mact44.txt: Oliveira Lima: Secretário d'el-rei (1904)\n",
      "critica/mact45.txt: Joaquim Nabuco: Pensées détachées et souvenirs (1906)\n",
      "\n",
      "Miscelanea\n",
      "\n",
      "miscelanea/mams01.txt: Os imortais (1859)\n",
      "miscelanea/mams02.txt: Queda que as mulheres têm para os tolos (1861)\n",
      "miscelanea/mams03.txt: Carta ao Sr. Bispo do RJ (1862)\n",
      "miscelanea/mams04.txt: Carta à redação da Imprensa Acadêmica (1864)\n",
      "miscelanea/mams05.txt: Pedro Luís (1884)\n",
      "miscelanea/mams06.txt: A morte de Francisco Otaviano (1889)\n",
      "miscelanea/mams07.txt: Secretaria de Agricultura (1890)\n",
      "miscelanea/mams08.txt: A Paixão de Jesus (1904)\n",
      "miscelanea/mams09.txt: Gonçalves Dias (1906)\n",
      "miscelanea/mams10.txt: A Estátua de José de Alencar (1906)\n",
      "\n"
     ]
    }
   ],
   "source": [
    "print(machado.readme())"
   ]
  },
  {
   "cell_type": "code",
   "execution_count": 27,
   "id": "dbe8d5ae-39e3-4e89-8bdf-3ec62dc05465",
   "metadata": {},
   "outputs": [],
   "source": [
    "# PlaintextCorpusReader\n",
    "# │\n",
    "# ├── 📂 Arquivos e Acesso\n",
    "# │   ├── fileids()              # Lista os nomes dos arquivos do corpus\n",
    "# │   ├── abspaths(fileids)      # Retorna os caminhos absolutos dos arquivos\n",
    "# │   ├── encoding(fileid)       # Codificação do arquivo (ex: 'latin1')\n",
    "# │   └── open(file)             # Abre um arquivo do corpus\n",
    "# │\n",
    "# ├── 📄 Leitura dos Dados\n",
    "# │   ├── raw(fileids)           # Retorna texto bruto\n",
    "# │   ├── words(fileids)         # Lista de palavras\n",
    "# │   ├── sents(fileids)         # Lista de sentenças\n",
    "# │   └── paras(fileids)         # Lista de parágrafos\n",
    "# │\n",
    "# ├── 🛠️ Métodos Ocultos (Internos)\n",
    "# │   ├── _root                  # Pasta raiz do corpus (deu erro porque está faltando)\n",
    "# │   ├── _resolve(fileids, categories)  # Resolve filtros de arquivos\n",
    "# │   ├── _fileids()             # IDs dos arquivos (interno)\n",
    "# │   ├── _encoding(file)        # Pega codificação do arquivo\n",
    "# │   ├── _read_word_block(stream)  # Lê blocos de palavras\n",
    "# │   ├── _read_sent_block(stream)  # Lê blocos de sentenças\n",
    "# │   ├── _read_para_block(stream)  # Lê blocos de parágrafos\n",
    "# │   ├── _get_root()            # Retorna root do corpus\n",
    "# │   └── _check_params(fileids, categories)  # Valida parâmetros\n",
    "# │\n",
    "# └── 🧩 Tokenizers e Readers\n",
    "#     ├── _sent_tokenizer       # Tokenizador de sentenças\n",
    "#     ├── _word_tokenizer       # Tokenizador de palavras\n",
    "#     ├── _para_block_reader    # Lê blocos de parágrafo\n",
    "#     └── _all_categories()     # Lista categorias (se existir)\n"
   ]
  },
  {
   "cell_type": "code",
   "execution_count": 28,
   "id": "efd20533-4da4-4c86-92fe-516e37c871b2",
   "metadata": {},
   "outputs": [
    {
     "name": "stdout",
     "output_type": "stream",
     "text": [
      "['Romance', ',', 'Memórias', 'Póstumas', 'de', 'Brás', 'Cubas', ',', '1880', 'Memórias', 'Póstumas', 'de', 'Brás', 'Cubas', 'Texto', '-', 'fonte', ':', 'Obra', 'Completa']\n"
     ]
    }
   ],
   "source": [
    "# Cria um objeto Text para análise\n",
    "memorias = Text(machado.words('romance/marm05.txt'), name=\"Memórias Póstumas de Brás Cubas (1881)\")\n",
    "casmurro = Text(machado.words('romance/marm08.txt'), name=\"Dom Casmurro (1899)\")\n",
    "\n",
    "# Teste para ver as primeiras palavras\n",
    "print(memorias[:20])\n",
    "#machado.raw('romance/marm05.txt')"
   ]
  }
 ],
 "metadata": {
  "kernelspec": {
   "display_name": "CEFET",
   "language": "python",
   "name": "cefet"
  },
  "language_info": {
   "codemirror_mode": {
    "name": "ipython",
    "version": 3
   },
   "file_extension": ".py",
   "mimetype": "text/x-python",
   "name": "python",
   "nbconvert_exporter": "python",
   "pygments_lexer": "ipython3",
   "version": "3.12.2"
  }
 },
 "nbformat": 4,
 "nbformat_minor": 5
}
