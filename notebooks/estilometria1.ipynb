{
 "cells": [
  {
   "cell_type": "code",
   "execution_count": 1,
   "id": "a588f35f-72a6-43a7-97a3-4c83b2fde15d",
   "metadata": {},
   "outputs": [
    {
     "name": "stdout",
     "output_type": "stream",
     "text": [
      "Collecting pydelta\n",
      "  Downloading pydelta-1.7.0.zip (13 kB)\n",
      "  Preparing metadata (setup.py): started\n",
      "  Preparing metadata (setup.py): finished with status 'done'\n",
      "Building wheels for collected packages: pydelta\n",
      "  Building wheel for pydelta (setup.py): started\n",
      "  Building wheel for pydelta (setup.py): finished with status 'done'\n",
      "  Created wheel for pydelta: filename=pydelta-1.7.0-py3-none-any.whl size=14045 sha256=5e23a0a916df58e8588dd4a8c6f4f893027ae7c95b734e8d21036b3f522f3d5a\n",
      "  Stored in directory: c:\\users\\miche\\appdata\\local\\pip\\cache\\wheels\\3f\\87\\c3\\842848ffca83ad8e675fbaaa30cee3f4e208ee2ab429f3e7da\n",
      "Successfully built pydelta\n",
      "Installing collected packages: pydelta\n",
      "Successfully installed pydelta-1.7.0\n"
     ]
    },
    {
     "name": "stderr",
     "output_type": "stream",
     "text": [
      "\n",
      "[notice] A new release of pip is available: 24.0 -> 25.1.1\n",
      "[notice] To update, run: python.exe -m pip install --upgrade pip\n"
     ]
    }
   ],
   "source": [
    "!pip install pydelta"
   ]
  }
 ],
 "metadata": {
  "kernelspec": {
   "display_name": "Python 3 (ipykernel)",
   "language": "python",
   "name": "python3"
  },
  "language_info": {
   "codemirror_mode": {
    "name": "ipython",
    "version": 3
   },
   "file_extension": ".py",
   "mimetype": "text/x-python",
   "name": "python",
   "nbconvert_exporter": "python",
   "pygments_lexer": "ipython3",
   "version": "3.12.2"
  }
 },
 "nbformat": 4,
 "nbformat_minor": 5
}
