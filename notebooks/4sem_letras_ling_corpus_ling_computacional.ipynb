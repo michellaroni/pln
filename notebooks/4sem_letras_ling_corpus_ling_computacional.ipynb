{
  "metadata": {
    "kernelspec": {
      "language": "python",
      "display_name": "Python 3",
      "name": "python3"
    },
    "language_info": {
      "name": "python",
      "version": "3.10.12",
      "mimetype": "text/x-python",
      "codemirror_mode": {
        "name": "ipython",
        "version": 3
      },
      "pygments_lexer": "ipython3",
      "nbconvert_exporter": "python",
      "file_extension": ".py"
    },
    "colab": {
      "provenance": []
    }
  },
  "nbformat_minor": 0,
  "nbformat": 4,
  "cells": [
    {
      "cell_type": "markdown",
      "source": [
        "# Instruções iniciais:\n",
        "\n",
        "1. Acessar https://www.kaggle.com/\n",
        "2. Fazer login com Google, Facebook etc.\n",
        "3. Criar '(+) New Notebook'"
      ],
      "metadata": {
        "id": "owmRr3npNdIN"
      }
    },
    {
      "cell_type": "markdown",
      "source": [
        "# PROCESSAMENTO DE LINGUAGEM NATURAL (PLN) / NATURAL LANGUAGE PROCESSING (NLP)\n",
        "\n",
        "> A linguagem natural é a forma que nós, humanos, utilizamos para nos comunicarmos uns com os outros. Por outro lado, os computadores e outros dispositivos tecnológicos utilizam a linguagem de programação para realizarem essa comunicação. O processamento de linguagem natural funciona como um \"tradutor\", o qual permite que o usuário consiga se comunicar com as máquinas utilizando a própria linguagem natural.\n",
        "\n",
        "## LINGUÍSTICA COMPUTACIONAL\n",
        "> A Linguística Computacional ou Processamento de língua natural é um campo multidisciplinar que envolve a Inteligência Artificial, a Informática, a Estatística e a Linguística e que se utiliza de processos computacionais para manipulação da linguagem humana.\n",
        "\n",
        "> Linguística Computacional é uma área híbrida que envolve pesquisadores da Linguística e da Informática. A Linguística Computacional é a parte da ciência linguística que se preocupa com o tratamento computacional da linguagem, e sua aplicações englobam programas como tradutores automáticos, chatbots, corretores ortográficos e gramaticais, parsers (analisadores sintáticos), entre outros. O conhecimento linguístico é indispensável para desenvolver tais aplicativos, e a interação entre pesquisadores das duas áreas – Linguística e Informática – é indispensável para se conquistar os melhores resultados.\n",
        "\n",
        "## LINGUÍSTICA DE CORPUS\n",
        "> Corpus linguístico é o conjunto de textos escritos e registros orais em uma determinada língua e que serve como base de análise.\n",
        "\n",
        "> Linguística de Corpus é uma área da Linguística que se ocupa da coleta e análise de corpus, que é um conjunto de dados linguísticos coletados criteriosamente para serem objeto de pesquisa linguística.\n",
        "\n",
        "> O conjunto de diversos corpus é o plural latino \"corpora\" (pronunciam-se córpus / córpora)."
      ],
      "metadata": {
        "id": "w8KIydWVNdIP"
      }
    },
    {
      "cell_type": "markdown",
      "source": [
        "# CORPUS EM PORTUGUÊS DO BRASIL\n",
        "\n",
        "> [Projeto AC/DC - Acesso a corpora/Disponibilização de corpora](https://www.linguateca.pt/acesso/corpus.php?corpus=CBRAS)\n",
        "\n",
        "> [Corpus Brasileiro](http://corpusbrasileiro.pucsp.br/cb/Inicial.html)\n",
        "\n",
        "> [Aelius Brazilian Portuguese POS-Tagger / Python, NLTK-based package for shallow parsing of Brazilian Portuguese](https://sourceforge.net/projects/aelius/)\n",
        "\n",
        "> [Sketch Engine | contains 600 ready-to-use corpora in 90+ languages, each having a size of up to 60 billion words to provide a truly representative sample of language.](https://www.sketchengine.eu/)\n",
        "\n",
        "> [Machado de Assis - Corpus e Catálogo](https://macc.fflch.usp.br/)"
      ],
      "metadata": {
        "id": "Qw6VNjWZNdIQ"
      }
    },
    {
      "cell_type": "markdown",
      "source": [
        "# SUGESTÕES DE LIVROS\n",
        "![Python Para Linguística de Cprpus](https://images-na.ssl-images-amazon.com/images/I/41MwBwrqyuL._SX384_BO1,204,203,200_.jpg)\n",
        "![Para conhecer linguística computacional](https://images-na.ssl-images-amazon.com/images/I/4196l1AmoTL._SX346_BO1,204,203,200_.jpg)"
      ],
      "metadata": {
        "id": "fZq0NpRhNdIR"
      }
    },
    {
      "cell_type": "markdown",
      "source": [
        "# NÍVEIS DE CONHECIMENTO (PIRÂMIDE DE NLP)\n",
        "\n",
        "> As abordagens linguísticas dentro do NLP podem ser divididas em tarefas ou níveis de conhecimento, representadas por uma pirâmide. O topo mostra as tarefas de maior dificuldade para ensinar à máquina e a base as de menor dificuldade, como pode ser visto na figura a seguir:\n",
        "\n",
        "![Relação entre Linguística e Processamento de Linguagem Natural](https://www.alura.com.br/artigos/assets/relacao-linguistica-processamento-de-linguagem-natural/imagem1.png)\n",
        "\n",
        "> [Relação entre Linguística e Processamento de Linguagem Natural](https://www.alura.com.br/artigos/relacao-linguistica-processamento-de-linguagem-natural)"
      ],
      "metadata": {
        "id": "tB_6tKx7NdIR"
      }
    },
    {
      "cell_type": "code",
      "source": [
        "!pip install nltk"
      ],
      "metadata": {
        "execution": {
          "iopub.status.busy": "2023-10-13T22:43:10.393388Z",
          "iopub.execute_input": "2023-10-13T22:43:10.393793Z",
          "iopub.status.idle": "2023-10-13T22:43:20.678007Z",
          "shell.execute_reply.started": "2023-10-13T22:43:10.393760Z",
          "shell.execute_reply": "2023-10-13T22:43:20.676619Z"
        },
        "trusted": true,
        "colab": {
          "base_uri": "https://localhost:8080/"
        },
        "id": "POQioQGVNdIS",
        "outputId": "c594832f-3a31-444d-f896-c2d16032ba65"
      },
      "execution_count": null,
      "outputs": [
        {
          "output_type": "stream",
          "name": "stdout",
          "text": [
            "Requirement already satisfied: nltk in /usr/local/lib/python3.10/dist-packages (3.8.1)\n",
            "Requirement already satisfied: click in /usr/local/lib/python3.10/dist-packages (from nltk) (8.1.7)\n",
            "Requirement already satisfied: joblib in /usr/local/lib/python3.10/dist-packages (from nltk) (1.3.2)\n",
            "Requirement already satisfied: regex>=2021.8.3 in /usr/local/lib/python3.10/dist-packages (from nltk) (2023.6.3)\n",
            "Requirement already satisfied: tqdm in /usr/local/lib/python3.10/dist-packages (from nltk) (4.66.1)\n"
          ]
        }
      ]
    },
    {
      "cell_type": "code",
      "source": [
        "import nltk"
      ],
      "metadata": {
        "execution": {
          "iopub.status.busy": "2023-10-13T22:42:00.822627Z",
          "iopub.execute_input": "2023-10-13T22:42:00.823088Z",
          "iopub.status.idle": "2023-10-13T22:42:00.829367Z",
          "shell.execute_reply.started": "2023-10-13T22:42:00.823052Z",
          "shell.execute_reply": "2023-10-13T22:42:00.827921Z"
        },
        "trusted": true,
        "id": "SgchDkmeNdIU"
      },
      "execution_count": null,
      "outputs": []
    },
    {
      "cell_type": "code",
      "source": [
        "nltk.download('machado')\n",
        "nltk.download('genesis')\n",
        "nltk.download('mac_morpho')\n",
        "nltk.download('floresta')\n",
        "nltk.download('stopwords')"
      ],
      "metadata": {
        "execution": {
          "iopub.status.busy": "2023-10-13T22:42:00.830720Z",
          "iopub.execute_input": "2023-10-13T22:42:00.831061Z",
          "iopub.status.idle": "2023-10-13T22:42:00.847043Z",
          "shell.execute_reply.started": "2023-10-13T22:42:00.831031Z",
          "shell.execute_reply": "2023-10-13T22:42:00.846112Z"
        },
        "trusted": true,
        "colab": {
          "base_uri": "https://localhost:8080/"
        },
        "id": "P47a35VPNdIU",
        "outputId": "a587092b-dcf7-4245-95f1-924fcd067975"
      },
      "execution_count": null,
      "outputs": [
        {
          "output_type": "stream",
          "name": "stderr",
          "text": [
            "[nltk_data] Downloading package machado to /root/nltk_data...\n",
            "[nltk_data]   Package machado is already up-to-date!\n",
            "[nltk_data] Downloading package genesis to /root/nltk_data...\n",
            "[nltk_data]   Package genesis is already up-to-date!\n",
            "[nltk_data] Downloading package mac_morpho to /root/nltk_data...\n",
            "[nltk_data]   Package mac_morpho is already up-to-date!\n",
            "[nltk_data] Downloading package floresta to /root/nltk_data...\n",
            "[nltk_data]   Package floresta is already up-to-date!\n",
            "[nltk_data] Downloading package stopwords to /root/nltk_data...\n",
            "[nltk_data]   Unzipping corpora/stopwords.zip.\n"
          ]
        },
        {
          "output_type": "execute_result",
          "data": {
            "text/plain": [
              "True"
            ]
          },
          "metadata": {},
          "execution_count": 16
        }
      ]
    },
    {
      "cell_type": "code",
      "source": [
        "from nltk.corpus import machado, mac_morpho, floresta, genesis\n",
        "from nltk.text import Text\n",
        "from nltk.probability import FreqDist\n",
        "from nltk.util import bigrams\n",
        "from nltk.misc import babelize_shell"
      ],
      "metadata": {
        "execution": {
          "iopub.status.busy": "2023-10-13T22:42:45.369080Z",
          "iopub.execute_input": "2023-10-13T22:42:45.369457Z",
          "iopub.status.idle": "2023-10-13T22:42:45.375474Z",
          "shell.execute_reply.started": "2023-10-13T22:42:45.369428Z",
          "shell.execute_reply": "2023-10-13T22:42:45.374184Z"
        },
        "trusted": true,
        "id": "tC2_2IFYNdIV"
      },
      "execution_count": null,
      "outputs": []
    },
    {
      "cell_type": "code",
      "source": [
        "# NLTK tem os trabalhos completos de Machado Assis; cada arquivo abaixo contém um de seus trabalhos.\n",
        "machado.fileids()"
      ],
      "metadata": {
        "execution": {
          "iopub.status.busy": "2023-10-13T22:42:49.232922Z",
          "iopub.execute_input": "2023-10-13T22:42:49.233283Z",
          "iopub.status.idle": "2023-10-13T22:42:49.322996Z",
          "shell.execute_reply.started": "2023-10-13T22:42:49.233255Z",
          "shell.execute_reply": "2023-10-13T22:42:49.321637Z"
        },
        "trusted": true,
        "colab": {
          "base_uri": "https://localhost:8080/"
        },
        "id": "cESc8ucBNdIV",
        "outputId": "0918bf97-b195-4979-defc-2fe3bfe56c56"
      },
      "execution_count": null,
      "outputs": [
        {
          "output_type": "execute_result",
          "data": {
            "text/plain": [
              "['contos/macn001.txt',\n",
              " 'contos/macn002.txt',\n",
              " 'contos/macn003.txt',\n",
              " 'contos/macn004.txt',\n",
              " 'contos/macn005.txt',\n",
              " 'contos/macn006.txt',\n",
              " 'contos/macn007.txt',\n",
              " 'contos/macn008.txt',\n",
              " 'contos/macn009.txt',\n",
              " 'contos/macn010.txt',\n",
              " 'contos/macn011.txt',\n",
              " 'contos/macn012.txt',\n",
              " 'contos/macn013.txt',\n",
              " 'contos/macn014.txt',\n",
              " 'contos/macn015.txt',\n",
              " 'contos/macn016.txt',\n",
              " 'contos/macn017.txt',\n",
              " 'contos/macn018.txt',\n",
              " 'contos/macn019.txt',\n",
              " 'contos/macn020.txt',\n",
              " 'contos/macn021.txt',\n",
              " 'contos/macn022.txt',\n",
              " 'contos/macn023.txt',\n",
              " 'contos/macn024.txt',\n",
              " 'contos/macn025.txt',\n",
              " 'contos/macn026.txt',\n",
              " 'contos/macn027.txt',\n",
              " 'contos/macn028.txt',\n",
              " 'contos/macn029.txt',\n",
              " 'contos/macn030.txt',\n",
              " 'contos/macn031.txt',\n",
              " 'contos/macn032.txt',\n",
              " 'contos/macn033.txt',\n",
              " 'contos/macn034.txt',\n",
              " 'contos/macn035.txt',\n",
              " 'contos/macn036.txt',\n",
              " 'contos/macn037.txt',\n",
              " 'contos/macn038.txt',\n",
              " 'contos/macn039.txt',\n",
              " 'contos/macn040.txt',\n",
              " 'contos/macn041.txt',\n",
              " 'contos/macn042.txt',\n",
              " 'contos/macn043.txt',\n",
              " 'contos/macn044.txt',\n",
              " 'contos/macn045.txt',\n",
              " 'contos/macn046.txt',\n",
              " 'contos/macn047.txt',\n",
              " 'contos/macn048.txt',\n",
              " 'contos/macn049.txt',\n",
              " 'contos/macn050.txt',\n",
              " 'contos/macn051.txt',\n",
              " 'contos/macn052.txt',\n",
              " 'contos/macn053.txt',\n",
              " 'contos/macn054.txt',\n",
              " 'contos/macn055.txt',\n",
              " 'contos/macn056.txt',\n",
              " 'contos/macn057.txt',\n",
              " 'contos/macn058.txt',\n",
              " 'contos/macn059.txt',\n",
              " 'contos/macn060.txt',\n",
              " 'contos/macn061.txt',\n",
              " 'contos/macn062.txt',\n",
              " 'contos/macn063.txt',\n",
              " 'contos/macn064.txt',\n",
              " 'contos/macn065.txt',\n",
              " 'contos/macn066.txt',\n",
              " 'contos/macn067.txt',\n",
              " 'contos/macn068.txt',\n",
              " 'contos/macn069.txt',\n",
              " 'contos/macn070.txt',\n",
              " 'contos/macn071.txt',\n",
              " 'contos/macn072.txt',\n",
              " 'contos/macn073.txt',\n",
              " 'contos/macn074.txt',\n",
              " 'contos/macn075.txt',\n",
              " 'contos/macn076.txt',\n",
              " 'contos/macn077.txt',\n",
              " 'contos/macn078.txt',\n",
              " 'contos/macn079.txt',\n",
              " 'contos/macn080.txt',\n",
              " 'contos/macn081.txt',\n",
              " 'contos/macn082.txt',\n",
              " 'contos/macn083.txt',\n",
              " 'contos/macn084.txt',\n",
              " 'contos/macn085.txt',\n",
              " 'contos/macn086.txt',\n",
              " 'contos/macn087.txt',\n",
              " 'contos/macn088.txt',\n",
              " 'contos/macn089.txt',\n",
              " 'contos/macn090.txt',\n",
              " 'contos/macn091.txt',\n",
              " 'contos/macn092.txt',\n",
              " 'contos/macn093.txt',\n",
              " 'contos/macn094.txt',\n",
              " 'contos/macn095.txt',\n",
              " 'contos/macn096.txt',\n",
              " 'contos/macn097.txt',\n",
              " 'contos/macn098.txt',\n",
              " 'contos/macn099.txt',\n",
              " 'contos/macn100.txt',\n",
              " 'contos/macn101.txt',\n",
              " 'contos/macn102.txt',\n",
              " 'contos/macn103.txt',\n",
              " 'contos/macn104.txt',\n",
              " 'contos/macn105.txt',\n",
              " 'contos/macn106.txt',\n",
              " 'contos/macn107.txt',\n",
              " 'contos/macn108.txt',\n",
              " 'contos/macn109.txt',\n",
              " 'contos/macn110.txt',\n",
              " 'contos/macn111.txt',\n",
              " 'contos/macn112.txt',\n",
              " 'contos/macn113.txt',\n",
              " 'contos/macn114.txt',\n",
              " 'contos/macn115.txt',\n",
              " 'contos/macn116.txt',\n",
              " 'contos/macn117.txt',\n",
              " 'contos/macn118.txt',\n",
              " 'contos/macn119.txt',\n",
              " 'contos/macn120.txt',\n",
              " 'contos/macn121.txt',\n",
              " 'contos/macn122.txt',\n",
              " 'contos/macn123.txt',\n",
              " 'contos/macn124.txt',\n",
              " 'contos/macn125.txt',\n",
              " 'contos/macn126.txt',\n",
              " 'contos/macn127.txt',\n",
              " 'contos/macn128.txt',\n",
              " 'contos/macn129.txt',\n",
              " 'contos/macn130.txt',\n",
              " 'contos/macn131.txt',\n",
              " 'contos/macn132.txt',\n",
              " 'contos/macn133.txt',\n",
              " 'contos/macn134.txt',\n",
              " 'contos/macn135.txt',\n",
              " 'contos/macn136.txt',\n",
              " 'contos/macn137.txt',\n",
              " 'critica/mact01.txt',\n",
              " 'critica/mact02.txt',\n",
              " 'critica/mact03.txt',\n",
              " 'critica/mact04.txt',\n",
              " 'critica/mact05.txt',\n",
              " 'critica/mact06.txt',\n",
              " 'critica/mact07.txt',\n",
              " 'critica/mact08.txt',\n",
              " 'critica/mact09.txt',\n",
              " 'critica/mact10.txt',\n",
              " 'critica/mact11.txt',\n",
              " 'critica/mact12.txt',\n",
              " 'critica/mact13.txt',\n",
              " 'critica/mact14.txt',\n",
              " 'critica/mact15.txt',\n",
              " 'critica/mact16.txt',\n",
              " 'critica/mact17.txt',\n",
              " 'critica/mact18.txt',\n",
              " 'critica/mact19.txt',\n",
              " 'critica/mact20.txt',\n",
              " 'critica/mact21.txt',\n",
              " 'critica/mact22.txt',\n",
              " 'critica/mact23.txt',\n",
              " 'critica/mact24.txt',\n",
              " 'critica/mact25.txt',\n",
              " 'critica/mact26.txt',\n",
              " 'critica/mact27.txt',\n",
              " 'critica/mact28.txt',\n",
              " 'critica/mact29.txt',\n",
              " 'critica/mact30.txt',\n",
              " 'critica/mact31.txt',\n",
              " 'critica/mact32.txt',\n",
              " 'critica/mact33.txt',\n",
              " 'critica/mact34.txt',\n",
              " 'critica/mact35.txt',\n",
              " 'critica/mact36.txt',\n",
              " 'critica/mact37.txt',\n",
              " 'critica/mact38.txt',\n",
              " 'critica/mact39.txt',\n",
              " 'critica/mact40.txt',\n",
              " 'critica/mact41.txt',\n",
              " 'critica/mact42.txt',\n",
              " 'critica/mact43.txt',\n",
              " 'critica/mact44.txt',\n",
              " 'critica/mact45.txt',\n",
              " 'cronica/macr01.txt',\n",
              " 'cronica/macr02.txt',\n",
              " 'cronica/macr03.txt',\n",
              " 'cronica/macr04.txt',\n",
              " 'cronica/macr05.txt',\n",
              " 'cronica/macr06.txt',\n",
              " 'cronica/macr07.txt',\n",
              " 'cronica/macr08.txt',\n",
              " 'cronica/macr09.txt',\n",
              " 'cronica/macr10.txt',\n",
              " 'cronica/macr11.txt',\n",
              " 'cronica/macr12.txt',\n",
              " 'cronica/macr13.txt',\n",
              " 'cronica/macr14.txt',\n",
              " 'cronica/macr15.txt',\n",
              " 'cronica/macr16.txt',\n",
              " 'cronica/macr17.txt',\n",
              " 'cronica/macr18.txt',\n",
              " 'cronica/macr19.txt',\n",
              " 'cronica/macr20.txt',\n",
              " 'cronica/macr21.txt',\n",
              " 'cronica/macr22.txt',\n",
              " 'cronica/macr23.txt',\n",
              " 'cronica/macr24.txt',\n",
              " 'miscelanea/mams01.txt',\n",
              " 'miscelanea/mams02.txt',\n",
              " 'miscelanea/mams03.txt',\n",
              " 'miscelanea/mams04.txt',\n",
              " 'miscelanea/mams05.txt',\n",
              " 'miscelanea/mams06.txt',\n",
              " 'miscelanea/mams07.txt',\n",
              " 'miscelanea/mams08.txt',\n",
              " 'miscelanea/mams09.txt',\n",
              " 'miscelanea/mams10.txt',\n",
              " 'poesia/maps01.txt',\n",
              " 'poesia/maps02.txt',\n",
              " 'poesia/maps03.txt',\n",
              " 'poesia/maps04.txt',\n",
              " 'poesia/maps05.txt',\n",
              " 'poesia/maps06.txt',\n",
              " 'poesia/maps07.txt',\n",
              " 'romance/marm01.txt',\n",
              " 'romance/marm02.txt',\n",
              " 'romance/marm03.txt',\n",
              " 'romance/marm04.txt',\n",
              " 'romance/marm05.txt',\n",
              " 'romance/marm06.txt',\n",
              " 'romance/marm07.txt',\n",
              " 'romance/marm08.txt',\n",
              " 'romance/marm09.txt',\n",
              " 'romance/marm10.txt',\n",
              " 'teatro/matt01.txt',\n",
              " 'teatro/matt02.txt',\n",
              " 'teatro/matt03.txt',\n",
              " 'teatro/matt04.txt',\n",
              " 'teatro/matt05.txt',\n",
              " 'teatro/matt06.txt',\n",
              " 'teatro/matt07.txt',\n",
              " 'teatro/matt08.txt',\n",
              " 'teatro/matt09.txt',\n",
              " 'teatro/matt10.txt',\n",
              " 'traducao/matr01.txt',\n",
              " 'traducao/matr02.txt',\n",
              " 'traducao/matr03.txt']"
            ]
          },
          "metadata": {},
          "execution_count": 26
        }
      ]
    },
    {
      "cell_type": "code",
      "source": [
        "# Para detalhar o corpus Machadiano, podemos verificar o 'readme'.\n",
        "print(machado.readme())"
      ],
      "metadata": {
        "execution": {
          "iopub.status.busy": "2023-10-13T22:42:54.888720Z",
          "iopub.execute_input": "2023-10-13T22:42:54.889102Z",
          "iopub.status.idle": "2023-10-13T22:42:54.983354Z",
          "shell.execute_reply.started": "2023-10-13T22:42:54.889074Z",
          "shell.execute_reply": "2023-10-13T22:42:54.981884Z"
        },
        "trusted": true,
        "colab": {
          "base_uri": "https://localhost:8080/"
        },
        "id": "LiQbrEtUNdIW",
        "outputId": "de6a8fed-1cdd-46a9-9a7f-b79a7149aefd"
      },
      "execution_count": null,
      "outputs": [
        {
          "output_type": "stream",
          "name": "stdout",
          "text": [
            "Machado de Assis -- Obra Completa\n",
            "\n",
            "http://machado.mec.gov.br/\n",
            "\n",
            "Public Domain\n",
            "\n",
            "Contents:\n",
            "\n",
            "Romance\n",
            "\n",
            "romance/marm01.txt: Ressurreição (1872)\n",
            "romance/marm02.txt: A Mão e a Luva (1874)\n",
            "romance/marm03.txt: Helena (1876)\n",
            "romance/marm04.txt: Iaiá Garcia (1878)\n",
            "romance/marm05.txt: Memórias Póstumas de Brás Cubas (1881)\n",
            "romance/marm06.txt: Casa Velha (1885)\n",
            "romance/marm07.txt: Quincas Borba (1891)\n",
            "romance/marm08.txt: Dom Casmurro (1899)\n",
            "romance/marm09.txt: Esaú e Jacó (1904)\n",
            "romance/marm10.txt: Memorial de Aires (1908)\n",
            "\n",
            "Poesia\n",
            "\n",
            "poesia/maps01.txt: Crisálidas (1864)\n",
            "poesia/maps02.txt: Falenas (1870)\n",
            "poesia/maps03.txt: Americanas (1875)\n",
            "poesia/maps04.txt: Gazeta de Holanda (1886-88)\n",
            "poesia/maps05.txt: Ocidentais (1901)\n",
            "poesia/maps06.txt: O Almada (1908)\n",
            "poesia/maps07.txt: Dispersas (1854-1939)\n",
            "\n",
            "Contos\n",
            "\n",
            "contos/macn001.txt: Contos Fluminenses (1870); Miss Dollar; Luís Soares; A mulher de preto; O segredo de Augusta; Confissões de uma viúva moça; Linha reta e linha curva; Frei Sim\n",
            "contos/macn002.txt: Histórias da meia-noite (1873); A parasita azul; As bodas de Luís Duarte; Ernesto de Tal; Aurora sem dia; O relógio de ouro; Ponto de vista\n",
            "contos/macn003.txt: Papéis avulsos (1882); O alienista; Teoria do medalhão; A chinela turca; Na arca; D. Benedita; O segredo do bonzo; O anel de Polícrates; O empréstimo; A sereníssima república; O espelho; Uma visita de Alcibíades; Verba testamentária\n",
            "contos/macn004.txt: Histórias sem data (1884); A igreja do Diabo; O lapso; Último capítulo; Cantiga de esponsais; Singular ocorrência; Galeria póstuma; Capítulo dos chapéus; Conto alexandrino; Rimas de Sapucaia!; Uma senhora; Anedota pecuniária; Fulano; A segunda vida; Noite de almirante; Manuscrito de um sacristão; Ex cathedra; A senhora do Galvão; As academias de Sião\n",
            "contos/macn005.txt: Várias histórias (1896); A cartomante; Entre santos; Uns braços; Um homem célebre; A desejada das gentes; A causa secreta; Trio em lá menor; Adão e Eva; O enfermeiro; O diplomático; Mariana; Conto de escola; Um apólogo; D. Paula; Viver!; O cônego ou Metafísica do estilo\n",
            "contos/macn006.txt: Páginas recolhidas (1899); O caso da vara; O dicionário; Um erradio; Eterno!; Missa do galo; Idéias de canário; Lágrimas de Xerxes; Papéis velhos\n",
            "contos/macn007.txt: Relíquias de Casa Velha (1906); Pai contra mãe; Maria Cora; Marcha fúnebre; Um capitão de voluntários; Suje-se gordo!; Umas férias; Evolução; Pílades e Orestes; Anedota do cabriolet\n",
            "\n",
            "Traducao\n",
            "\n",
            "traducao/matr01.txt: Suplício de uma mulher (1865)\n",
            "traducao/matr02.txt: Os trabalhadores do mar (1866)\n",
            "traducao/matr03.txt: Oliver Twist (1870)\n",
            "\n",
            "Teatro\n",
            "\n",
            "teatro/matt01.txt: As forcas caudinas (1956)\n",
            "teatro/matt02.txt: Hoje avental, amanhã luva (1860)\n",
            "teatro/matt03.txt: Desencantos (1861)\n",
            "teatro/matt04.txt: O caminho da porta / O protocolo (1863)\n",
            "teatro/matt05.txt: Quase ministro (1864)\n",
            "teatro/matt06.txt: Os deuses de casaca (1866)\n",
            "teatro/matt07.txt: O bote de rapé (1878)\n",
            "teatro/matt08.txt: Tu, só tu, puro amor (1880)\n",
            "teatro/matt09.txt: Não consultes médico (1899)\n",
            "teatro/matt10.txt: Lição de botânica (1906)\n",
            "\n",
            "Cronica\n",
            "\n",
            "cronica/macr01.txt: Comentários da semana (1861-1863)\n",
            "cronica/macr02.txt: Crônicas do Dr. Semana (1861-1864)\n",
            "cronica/macr03.txt: Crônicas - O futuro (1862-1863)\n",
            "cronica/macr04.txt: Ao acaso (1864-1865)\n",
            "cronica/macr05.txt: Cartas fluminenses (1867)\n",
            "cronica/macr06.txt: Badaladas (1871-1873)\n",
            "cronica/macr07.txt: História de quinze dias (1876-1877)\n",
            "cronica/macr08.txt: História dos trinta dias (1878)\n",
            "cronica/macr09.txt: Notas semanais (1878)\n",
            "cronica/macr10.txt: Balas de estalo (1883-1886)\n",
            "cronica/macr11.txt: Bons dias! (1888-1889)\n",
            "cronica/macr12.txt: A semana (1892-1800)\n",
            "cronica/macr13.txt: O jornal e o livro (1859)\n",
            "cronica/macr14.txt: A reforma pelo jornal (1859)\n",
            "cronica/macr15.txt: Aquarelas (1859)\n",
            "cronica/macr16.txt: O Visconde de Castilho (1875)\n",
            "cronica/macr17.txt: Cherchez la femme (1881)\n",
            "cronica/macr18.txt: José de Alencar (1883)\n",
            "cronica/macr19.txt: Joaquim Serra (1888)\n",
            "cronica/macr20.txt: O futuro dos argentinos (1888)\n",
            "cronica/macr21.txt: Entre 1892 e 1894 (1892-1894)\n",
            "cronica/macr22.txt: Henrique Chaves (1893)\n",
            "cronica/macr23.txt: Henrique Lombaerts (1897)\n",
            "cronica/macr24.txt: O velho Senado (1898)\n",
            "critica/mact01.txt: O Passado, o presente e o futuro da literatura (1858)\n",
            "critica/mact02.txt: Idéias sobre o teatro (1859)\n",
            "critica/mact03.txt: Revista dos teatros (1859)\n",
            "critica/mact04.txt: Revista Dramática (1860)\n",
            "critica/mact05.txt: A Crítica teatral. José de Alencar: Mãe (1860)\n",
            "critica/mact06.txt: Crítica variada - Diário do RJ (1862)\n",
            "critica/mact07.txt: Flores e Frutos, de Bruno Seabra (1862)\n",
            "critica/mact08.txt: Pareceres - Conservatório Dramático (1862-1864)\n",
            "critica/mact09.txt: Homem de Mello e B. Pinheiro  A Constituinte perante a História e Sombras e Luz (1863)\n",
            "critica/mact10.txt: Peregrinação pela província de S. Paulo , por A. E. Zaluar (1863)\n",
            "critica/mact11.txt: Revelações , de A. E. Zaluar (1863)\n",
            "critica/mact12.txt: Dois folhetins. Suplício de uma mulher (1865)\n",
            "critica/mact13.txt: O Ideal do crítico (1865)\n",
            "critica/mact14.txt: Álvares de Azevedo: Lira dos vinte anos (1866)\n",
            "critica/mact15.txt: Crítica teatral (1866)\n",
            "critica/mact16.txt: Fagundes Varela  Cantos e fantasias (1866)\n",
            "critica/mact17.txt: J .M. de Macedo: O culto do dever (1866)\n",
            "critica/mact18.txt: José de Alencar: Iracema (1866)\n",
            "critica/mact19.txt: Junqueira Freire: Inspirações do claustro (1866)\n",
            "critica/mact20.txt: Porto Alegre: Colombo (1866)\n",
            "critica/mact21.txt: Propósito (1866)\n",
            "critica/mact22.txt: Castro Alves (1868)\n",
            "critica/mact23.txt: Lúcio de Mendonça: Névoas matutinas (1872)\n",
            "critica/mact24.txt: Un cuento endemoniado e La mujer misteriosa , de Guilherme Malta (1872)\n",
            "critica/mact25.txt: Notícia da atual literatura brasileira: Instinto de nacionalidade (1873)\n",
            "critica/mact26.txt: Fagundes Varela (1875)\n",
            "critica/mact27.txt: Eça de Queirós: O primo Basílio (1878)\n",
            "critica/mact28.txt: Francisco de Castro: Harmonias errantes (1878)\n",
            "critica/mact29.txt: A Nova geração (1879)\n",
            "critica/mact30.txt: Carlos Jansen: Contos seletos das mil e uma noites (1882)\n",
            "critica/mact31.txt: Raimundo Correia: Sinfonias (1882)\n",
            "critica/mact32.txt: Alberto de Oliveira: Meridionais (1884)\n",
            "critica/mact33.txt: Enéias Galvão: Miragens (1885)\n",
            "critica/mact34.txt: L. L. Fernandes Pinheiro Júnior: Tipos e quadros (1886)\n",
            "critica/mact35.txt: José de Alencar: O Guarani (1887)\n",
            "critica/mact36.txt: Henriqueta Renan (1896)\n",
            "critica/mact37.txt: Discursos na Academia Brasileira de Letras (1897)\n",
            "critica/mact38.txt: Magalhães de Azeredo: Procelárias (1898)\n",
            "critica/mact39.txt: Cenas da vida amazônica , de José Veríssimo (1899)\n",
            "critica/mact40.txt: Garrett (1899)\n",
            "critica/mact41.txt: Eça de Queirós (1900)\n",
            "critica/mact42.txt: Eduardo Prado (1901)\n",
            "critica/mact43.txt: Magalhães de Azeredo e Mário de Alencar: Horas sagradas e Versos (1902)\n",
            "critica/mact44.txt: Oliveira Lima: Secretário d'el-rei (1904)\n",
            "critica/mact45.txt: Joaquim Nabuco: Pensées détachées et souvenirs (1906)\n",
            "\n",
            "Miscelanea\n",
            "\n",
            "miscelanea/mams01.txt: Os imortais (1859)\n",
            "miscelanea/mams02.txt: Queda que as mulheres têm para os tolos (1861)\n",
            "miscelanea/mams03.txt: Carta ao Sr. Bispo do RJ (1862)\n",
            "miscelanea/mams04.txt: Carta à redação da Imprensa Acadêmica (1864)\n",
            "miscelanea/mams05.txt: Pedro Luís (1884)\n",
            "miscelanea/mams06.txt: A morte de Francisco Otaviano (1889)\n",
            "miscelanea/mams07.txt: Secretaria de Agricultura (1890)\n",
            "miscelanea/mams08.txt: A Paixão de Jesus (1904)\n",
            "miscelanea/mams09.txt: Gonçalves Dias (1906)\n",
            "miscelanea/mams10.txt: A Estátua de José de Alencar (1906)\n",
            "\n"
          ]
        }
      ]
    },
    {
      "cell_type": "code",
      "source": [
        "ptext1 = Text(machado.words('romance/marm05.txt'), name=\"Memórias Póstumas de Brás Cubas (1881)\")\n",
        "ptext2 = Text(machado.words('romance/marm08.txt'), name=\"Dom Casmurro (1899)\")\n",
        "ptext3 = Text(genesis.words('portuguese.txt'), name=\"Gênesis\")\n",
        "ptext4 = Text(mac_morpho.words('mu94se01.txt'), name=\"Folha de Sao Paulo (1994)\")"
      ],
      "metadata": {
        "id": "SiNl6aN0QJmZ"
      },
      "execution_count": null,
      "outputs": []
    },
    {
      "cell_type": "code",
      "source": [
        "dom_casmurro = nltk.corpus.machado.raw('romance/marm05.txt')\n",
        "\n",
        "\n",
        "# LISTA DE FREQUENCIA DE PALAVRAS\n",
        "# COLLOCATION (PALAVRAS JUNTAS QUE TEM UM SIGNIFICADO UNICO)\n",
        "# CONCORDANCE (CONTEXTO)"
      ],
      "metadata": {
        "id": "lhvYBiPcXuA1"
      },
      "execution_count": null,
      "outputs": []
    },
    {
      "cell_type": "code",
      "source": [
        "# O método concordance permite ver determinada palavra em um contexto\n",
        "ptext1.concordance('olhos')"
      ],
      "metadata": {
        "colab": {
          "base_uri": "https://localhost:8080/"
        },
        "id": "_d2JPEvoQ-cD",
        "outputId": "348ddce9-ad7c-43fa-bbf9-9a505ad99657"
      },
      "execution_count": null,
      "outputs": [
        {
          "output_type": "stream",
          "name": "stdout",
          "text": [
            "Displaying 25 of 138 matches:\n",
            "De pé , à cabeceira da cama , com os olhos estúpidos , a boca entreaberta , a t\n",
            "orelhas . Pela minha parte fechei os olhos e deixei - me ir à ventura . Já agor\n",
            "xões de cérebro enfermo . Como ia de olhos fechados , não via o caminho ; lembr\n",
            "gelos eternos . Com efeito , abri os olhos e vi que o meu animal galopava numa \n",
            "me apareceu então , fitando - me uns olhos rutilantes como o sol . Tudo nessa f\n",
            " mim mesmo . Então , encarei - a com olhos súplices , e pedi mais alguns anos .\n",
            "o alto de uma montanha . Inclinei os olhos a uma das vertentes , e contemplei ,\n",
            "ilhão , e , não obstante , porque os olhos do delírio são outros , eu via tudo \n",
            "cifração da eternidade . E fixei os olhos , e continuei a ver as idades , que \n",
            " esperto , concordava meu pai ; e os olhos babavam - se - lhe de orgulho , e el\n",
            "te , e , repetido o mote , cravar os olhos na testa de uma senhora , depois tos\n",
            "avrear de estômagos satisfeitos ; os olhos moles e úmidos , ou vivos e cálidos \n",
            "m estacado de orquestra , e todos os olhos se voltavam para o glosador . Quem f\n",
            " . Eu via isso , porque arrastava os olhos da compota para ele e dele para a co\n",
            " eu segui - os . O Vilaça levava nos olhos umas chispas de vinho e de volúpia .\n",
            "es ... D . Eusébia levou o lenço aos olhos . O glosador vasculhava na memória a\n",
            " estupefação imobilizou a todos ; os olhos espraiavam - se a uma e outra banda \n",
            "a aula , dava um pulo , circulava os olhos chamejantes , dizia - nos os últimos\n",
            ", deixava - se estar quieto , com os olhos espetados no ar . Uma flor , o Quinc\n",
            "u forcejava por trazer a bigode . Os olhos , vivos e resolutos , eram a minha f\n",
            " pensativa , ou levantou para mim os olhos cobiçosos . De todas porém a que me \n",
            "pouco ou nada comi , porque só tinha olhos para a dona da casa . Que gentil que\n",
            "erramava - se - lhe a felicidade dos olhos , e eu sentia - me feliz com vê - la\n",
            " meu amor ! Eu agradeci - lho com os olhos úmidos . No dia seguinte levei - lhe\n",
            "proposta . Marcela ouviu - me com os olhos no ar , sem responder logo ; como in\n"
          ]
        }
      ]
    },
    {
      "cell_type": "code",
      "source": [
        "import nltk\n",
        "import re\n",
        "nltk.download('stopwords')\n",
        "\n",
        "def pre_processamento(texto):\n",
        "\n",
        "    # seleciona apenas letras e coloca todas em minúsculo (NÃO PRECISOU USAR PUNCTUATION!!!)\n",
        "    letras_min =  re.findall(r'\\b[A-zÀ-úü]+\\b', texto.lower())\n",
        "\n",
        "    # remove stopwords\n",
        "    stopwords = nltk.corpus.stopwords.words('portuguese')\n",
        "    stop = set(stopwords)\n",
        "    sem_stopwords = [w for w in letras_min if w not in stop]\n",
        "\n",
        "    # juntando os tokens novamente em formato de texto\n",
        "    texto_limpo = \" \".join(sem_stopwords)\n",
        "\n",
        "    return texto_limpo"
      ],
      "metadata": {
        "colab": {
          "base_uri": "https://localhost:8080/"
        },
        "id": "OeMsqOpcYXza",
        "outputId": "a514f8f6-eb84-4c30-f20b-cfce0a9a17d1"
      },
      "execution_count": null,
      "outputs": [
        {
          "output_type": "stream",
          "name": "stderr",
          "text": [
            "[nltk_data] Downloading package stopwords to /root/nltk_data...\n",
            "[nltk_data]   Package stopwords is already up-to-date!\n"
          ]
        }
      ]
    },
    {
      "cell_type": "code",
      "source": [
        "import nltk\n",
        "nltk.download('machado')\n",
        "from nltk.probability import FreqDist\n",
        "from nltk.tokenize import word_tokenize\n",
        "nltk.download('punkt')\n",
        "\n",
        "# corpus dom casmurro\n",
        "corpus_dom_casmurro = nltk.corpus.machado.raw('romance/marm08.txt')\n",
        "\n",
        "# pre processamento\n",
        "texto = pre_processamento(corpus_dom_casmurro)\n",
        "\n",
        "# tokenizando\n",
        "tokens = word_tokenize(texto)\n",
        "\n",
        "# contagem de frequencia\n",
        "fd = FreqDist(tokens)\n",
        "print(\"20 palavras mais frequentes:\")\n",
        "print(fd.most_common(10))\n",
        "\n",
        "# plot\n",
        "import matplotlib.pyplot as plt\n",
        "plt.figure(figsize = (10, 5))\n",
        "fd.plot(10, title = \"Frequência de Palavras\")"
      ],
      "metadata": {
        "colab": {
          "base_uri": "https://localhost:8080/",
          "height": 675
        },
        "id": "C8qnLzRsYP90",
        "outputId": "f645d7a4-2bf8-40c4-a61b-af6aa6ea7a1e"
      },
      "execution_count": null,
      "outputs": [
        {
          "output_type": "stream",
          "name": "stderr",
          "text": [
            "[nltk_data] Downloading package machado to /root/nltk_data...\n",
            "[nltk_data]   Package machado is already up-to-date!\n",
            "[nltk_data] Downloading package punkt to /root/nltk_data...\n",
            "[nltk_data]   Package punkt is already up-to-date!\n"
          ]
        },
        {
          "output_type": "stream",
          "name": "stdout",
          "text": [
            "20 palavras mais frequentes:\n",
            "[('capitu', 341), ('mãe', 229), ('dias', 192), ('tudo', 189), ('capítulo', 188), ('disse', 184), ('casa', 170), ('olhos', 164), ('mim', 162), ('josé', 160)]\n"
          ]
        },
        {
          "output_type": "display_data",
          "data": {
            "text/plain": [
              "<Figure size 1000x500 with 1 Axes>"
            ],
            "image/png": "[encoded data removed]"
          },
          "metadata": {}
        },
        {
          "output_type": "execute_result",
          "data": {
            "text/plain": [
              "<Axes: title={'center': 'Frequência de Palavras'}, xlabel='Samples', ylabel='Counts'>"
            ]
          },
          "metadata": {},
          "execution_count": 54
        }
      ]
    },
    {
      "cell_type": "markdown",
      "source": [],
      "metadata": {
        "id": "d0VYqmnoQImL"
      }
    },
    {
      "cell_type": "code",
      "source": [
        "# Para uma dada palavras, é possível encontrar palavras com distribuição de texto similar\n",
        "print(f\"{ptext1.name}:\")\n",
        "ptext1.similar('chegar')"
      ],
      "metadata": {
        "colab": {
          "base_uri": "https://localhost:8080/"
        },
        "id": "badx0awoRR2f",
        "outputId": "0523107d-a259-48ab-f98b-22b9ec9d7757"
      },
      "execution_count": null,
      "outputs": [
        {
          "output_type": "stream",
          "name": "stdout",
          "text": [
            "Memórias Póstumas de Brás Cubas (1881):\n",
            "já leitor lhe dizer com menos contar deixei cheguei desferirem peito\n",
            "corpo fazer porém ver casamento soltar quebrei titubear sacrifício\n"
          ]
        }
      ]
    },
    {
      "cell_type": "code",
      "source": [
        "dom_casmurro = nltk.Text(word_tokenize(texto))\n",
        "dom_casmurro.collocations()"
      ],
      "metadata": {
        "colab": {
          "base_uri": "https://localhost:8080/"
        },
        "id": "MI8fSh7pbJhc",
        "outputId": "f8910064-9391-41a8-894b-5fe151cda5e6"
      },
      "execution_count": null,
      "outputs": [
        {
          "output_type": "stream",
          "name": "stdout",
          "text": [
            "josé dias; prima justina; tio cosme; mata cavalos; padre cabral; outra\n",
            "vez; alguma coisa; alguns instantes; outra coisa; muita vez; dia\n",
            "seguinte; engenho novo; rio janeiro; dom casmurro; protonotário\n",
            "apostólico; tique tique; ave marias; mana glória; oblíqua dissimulada;\n",
            "quinze anos\n"
          ]
        }
      ]
    },
    {
      "cell_type": "code",
      "source": [
        "#VERIFICAR COMO AUMENTAR O TAMANHO DA FRASE\n",
        "dom_casmurro.concordance('olhos')"
      ],
      "metadata": {
        "colab": {
          "base_uri": "https://localhost:8080/"
        },
        "id": "fEKkA0Bwb6H3",
        "outputId": "cdf9bf3e-cc4e-4c4e-cfc4-0009cc2df0ca"
      },
      "execution_count": null,
      "outputs": [
        {
          "output_type": "stream",
          "name": "stdout",
          "text": [
            "Displaying 25 of 164 matches:\n",
            "te maus sucedeu porém cansado fechei olhos três quatro vezes tanto bastou inter\n",
            "unicativo tal ponto bochechas dentes olhos toda cara toda pessoa todo mundo par\n",
            "suasão gordo pesado respiração curta olhos dorminhocos recordações antigas vê l\n",
            " cabeleira grande retrato mostra uns olhos redondos acompanham todos lados efei\n",
            "mente loteria pandora aborrecem ergo olhos esqueço bilhetes brancos boceta fatí\n",
            "render padre reparasse padre tirasse olhos padre casa brincava missa tanto esco\n",
            "quis insistir nada achei língua todo olhos coração coração desta vez ia sair ce\n",
            "vez ia sair certeza boca podia tirar olhos daquela criatura quatorze anos alta \n",
            "tra moda tempo desciam costas morena olhos claros grandes nariz reto comprido b\n",
            "ostos bento capitolina voltei capitu olhos chão ergueu logo devagar ficamos olh\n",
            "os deixaram cair cansadas esquecidas olhos fitavam desfitavam vagarem perto tor\n",
            "iam duas criaturas criatura seráfica olhos continuaram dizer coisas infinitas p\n",
            " pode papai quer ver séria fitou mim olhos convidando jogo susto naturalmente s\n",
            "orte cheia filha mesma cabeça mesmos olhos claros mulher disse melhor comprar c\n",
            " pois homem homem ande pádua enxugou olhos casa onde viveu prostrado alguns dia\n",
            "a chapéu cortejar vizinhança risonho olhos ar antes administração interina vier\n",
            "itu sala visitas falávamos seminário olhos mim capitu queria saber notícia afli\n",
            "capitu princípio disse nada recolheu olhos meteu si deixou pupilas vagas surdas\n",
            "ara nela conheciam ocasiões apertado olhos pediu algumas circunstâncias própria\n",
            "tia paquete ia europa dito espreitou olhos creio disseram nada agradeceram boa \n",
            "xx mil padre mil ave marias levantei olhos céu começava embruscar vê lo coberto\n",
            "quadragenária magra pálida boca fina olhos curiosos vivia conosco favor mãe int\n",
            "nfiava pensei nisso cama então senti olhos prima justina falava pareciam apalpa\n",
            "pádua todo má capitu apesar daqueles olhos diabo deu reparou olhos assim cigana\n",
            "sar daqueles olhos diabo deu reparou olhos assim cigana oblíqua dissimulada poi\n"
          ]
        }
      ]
    },
    {
      "cell_type": "code",
      "source": [
        "# É possível procurar no texto por colocações significativamente significantes\n",
        "ptext1.collocations()"
      ],
      "metadata": {
        "colab": {
          "base_uri": "https://localhost:8080/",
          "height": 197
        },
        "id": "QWWeqPDdRcct",
        "outputId": "0767cf0c-2a83-41ee-cd27-e957c005fc4c"
      },
      "execution_count": null,
      "outputs": [
        {
          "output_type": "error",
          "ename": "AttributeError",
          "evalue": "ignored",
          "traceback": [
            "\u001b[0;31m---------------------------------------------------------------------------\u001b[0m",
            "\u001b[0;31mAttributeError\u001b[0m                            Traceback (most recent call last)",
            "\u001b[0;32m<ipython-input-39-5b1cf2c643bd>\u001b[0m in \u001b[0;36m<cell line: 2>\u001b[0;34m()\u001b[0m\n\u001b[1;32m      1\u001b[0m \u001b[0;31m# É possível procurar no texto por colocações significativamente significantes\u001b[0m\u001b[0;34m\u001b[0m\u001b[0;34m\u001b[0m\u001b[0m\n\u001b[0;32m----> 2\u001b[0;31m \u001b[0mcorpus_dom_casmurro\u001b[0m\u001b[0;34m.\u001b[0m\u001b[0mcollocations\u001b[0m\u001b[0;34m(\u001b[0m\u001b[0;34m)\u001b[0m\u001b[0;34m\u001b[0m\u001b[0;34m\u001b[0m\u001b[0m\n\u001b[0m",
            "\u001b[0;31mAttributeError\u001b[0m: 'str' object has no attribute 'collocations'"
          ]
        }
      ]
    },
    {
      "cell_type": "code",
      "source": [
        "# Expressões regulares também podem ser usadas para procurar palavras em contexto\n",
        "ptext1.findall(\"<olhos> (<.*>)\")"
      ],
      "metadata": {
        "colab": {
          "base_uri": "https://localhost:8080/"
        },
        "id": "Yj5TkDx1R3Y2",
        "outputId": "40d2fc2c-c840-4aec-9ff5-6d8613e3e631"
      },
      "execution_count": null,
      "outputs": [
        {
          "output_type": "stream",
          "name": "stdout",
          "text": [
            "estúpidos; e; fechados; e; rutilantes; súplices; a; do; ,; babavam;\n",
            "na; moles; se; da; umas; .; espraiavam; chamejantes; espetados; ,;\n",
            "cobiçosos; para; ,; úmidos; no; ;; de; de; fitos; a; naquele; do; ,;\n",
            "pretos; as; estúpidos; ao; às; ...; ,; fúlgidos; de; ,; .; de; pretos;\n",
            "tão; de; para; a; chisparam; para; me; da; ,; ,; uma; no; na; para;\n",
            "se; em; .; em; .; de; ,; no; nela; tinham; ;; cintilantes; o; dos; e;\n",
            ",; de; de; dela; vermelhos; .; e; .; o; ,; constantemente; para; ,; ,;\n",
            "para; ,; ao; ,; na; na; baixos; no; mais; no; se; dela; do; no; ,;\n",
            "lampejantes; rasos; todos; ,; e; do; pelos; de; ao; .; lhe; de;\n",
            "enfermos; :; ,; .; e; da; fixos; .; fitos; ,; ,; bonitos; de; ...; .;\n",
            "de; algum; a; ;; fitos; em\n"
          ]
        }
      ]
    },
    {
      "cell_type": "code",
      "source": [
        "# Podemos inspecionar a frequências em que as palavras aparecem no texto\n",
        "fd1 = FreqDist(ptext1)\n",
        "fd1\n",
        "\n"
      ],
      "metadata": {
        "colab": {
          "base_uri": "https://localhost:8080/"
        },
        "id": "yIK6U_OTStYi",
        "outputId": "7a2524e3-e75a-433f-e15e-34b57ab054f3"
      },
      "execution_count": null,
      "outputs": [
        {
          "output_type": "execute_result",
          "data": {
            "text/plain": [
              "FreqDist({',': 6918, '.': 2921, 'a': 2430, 'que': 2133, 'de': 2063, 'e': 1823, '-': 1748, 'o': 1618, ';': 1260, 'me': 978, ...})"
            ]
          },
          "metadata": {},
          "execution_count": 23
        }
      ]
    },
    {
      "cell_type": "code",
      "source": [
        "# Qual a frequência da palavra 'olhos'?\n",
        "fd1['olhos']"
      ],
      "metadata": {
        "colab": {
          "base_uri": "https://localhost:8080/"
        },
        "id": "SCBjPCPuTZFn",
        "outputId": "a8564d0d-5e82-4ec3-d8b0-919047d097f8"
      },
      "execution_count": null,
      "outputs": [
        {
          "output_type": "execute_result",
          "data": {
            "text/plain": [
              "137"
            ]
          },
          "metadata": {},
          "execution_count": 24
        }
      ]
    },
    {
      "cell_type": "code",
      "source": [
        "# Qual a palavra mais frequente?\n",
        "fd1.max()"
      ],
      "metadata": {
        "colab": {
          "base_uri": "https://localhost:8080/",
          "height": 36
        },
        "id": "L_gQjoKrTbDL",
        "outputId": "c2e72db9-526a-4e2a-9184-6cd3e527dfe6"
      },
      "execution_count": null,
      "outputs": [
        {
          "output_type": "execute_result",
          "data": {
            "text/plain": [
              "','"
            ],
            "application/vnd.google.colaboratory.intrinsic+json": {
              "type": "string"
            }
          },
          "metadata": {},
          "execution_count": 25
        }
      ]
    },
    {
      "cell_type": "code",
      "source": [
        "text1 = machado.words('romance/marm05.txt')\n",
        "text1"
      ],
      "metadata": {
        "colab": {
          "base_uri": "https://localhost:8080/"
        },
        "id": "DsIkPyfgTudL",
        "outputId": "31bf7c42-5f2c-419c-cf6b-895f459d87f8"
      },
      "execution_count": null,
      "outputs": [
        {
          "output_type": "execute_result",
          "data": {
            "text/plain": [
              "['Romance', ',', 'Memórias', 'Póstumas', 'de', 'Brás', ...]"
            ]
          },
          "metadata": {},
          "execution_count": 55
        }
      ]
    },
    {
      "cell_type": "code",
      "source": [
        "# Procurando os ngrams mais comuns, que contenham uma palavra alvo em particular\n",
        "# NOTA: O livro usa a função ingrams, mas no NLTK 3, ela tornou-se apenas ngram\n",
        "from nltk import ngrams, FreqDist\n",
        "target_word = 'olhos'\n",
        "fd = FreqDist(ng for ng in ngrams(text1, 50) if target_word in ng)\n",
        "fd\n",
        "\n",
        "#5 tokens!!!!"
      ],
      "metadata": {
        "colab": {
          "base_uri": "https://localhost:8080/"
        },
        "id": "FnLrrDR6gITb",
        "outputId": "a35afe50-ae62-44d1-d579-51249830bb2e"
      },
      "execution_count": null,
      "outputs": [
        {
          "output_type": "execute_result",
          "data": {
            "text/plain": [
              "FreqDist({('solteirão', 'que', 'expira', 'aos', 'sessenta', 'e', 'quatro', 'anos', ',', 'não', 'parece', 'que', 'reúna', 'em', 'si', 'todos', 'os', 'elementos', 'de', 'uma', 'tragédia', '.', 'E', 'dado', 'que', 'sim', ',', 'o', 'que', 'menos', 'convinha', 'a', 'essa', 'anônima', 'era', 'aparentá', '-', 'lo', '.', 'De', 'pé', ',', 'à', 'cabeceira', 'da', 'cama', ',', 'com', 'os', 'olhos'): 1, ('que', 'expira', 'aos', 'sessenta', 'e', 'quatro', 'anos', ',', 'não', 'parece', 'que', 'reúna', 'em', 'si', 'todos', 'os', 'elementos', 'de', 'uma', 'tragédia', '.', 'E', 'dado', 'que', 'sim', ',', 'o', 'que', 'menos', 'convinha', 'a', 'essa', 'anônima', 'era', 'aparentá', '-', 'lo', '.', 'De', 'pé', ',', 'à', 'cabeceira', 'da', 'cama', ',', 'com', 'os', 'olhos', 'estúpidos'): 1, ('expira', 'aos', 'sessenta', 'e', 'quatro', 'anos', ',', 'não', 'parece', 'que', 'reúna', 'em', 'si', 'todos', 'os', 'elementos', 'de', 'uma', 'tragédia', '.', 'E', 'dado', 'que', 'sim', ',', 'o', 'que', 'menos', 'convinha', 'a', 'essa', 'anônima', 'era', 'aparentá', '-', 'lo', '.', 'De', 'pé', ',', 'à', 'cabeceira', 'da', 'cama', ',', 'com', 'os', 'olhos', 'estúpidos', ','): 1, ('aos', 'sessenta', 'e', 'quatro', 'anos', ',', 'não', 'parece', 'que', 'reúna', 'em', 'si', 'todos', 'os', 'elementos', 'de', 'uma', 'tragédia', '.', 'E', 'dado', 'que', 'sim', ',', 'o', 'que', 'menos', 'convinha', 'a', 'essa', 'anônima', 'era', 'aparentá', '-', 'lo', '.', 'De', 'pé', ',', 'à', 'cabeceira', 'da', 'cama', ',', 'com', 'os', 'olhos', 'estúpidos', ',', 'a'): 1, ('sessenta', 'e', 'quatro', 'anos', ',', 'não', 'parece', 'que', 'reúna', 'em', 'si', 'todos', 'os', 'elementos', 'de', 'uma', 'tragédia', '.', 'E', 'dado', 'que', 'sim', ',', 'o', 'que', 'menos', 'convinha', 'a', 'essa', 'anônima', 'era', 'aparentá', '-', 'lo', '.', 'De', 'pé', ',', 'à', 'cabeceira', 'da', 'cama', ',', 'com', 'os', 'olhos', 'estúpidos', ',', 'a', 'boca'): 1, ('e', 'quatro', 'anos', ',', 'não', 'parece', 'que', 'reúna', 'em', 'si', 'todos', 'os', 'elementos', 'de', 'uma', 'tragédia', '.', 'E', 'dado', 'que', 'sim', ',', 'o', 'que', 'menos', 'convinha', 'a', 'essa', 'anônima', 'era', 'aparentá', '-', 'lo', '.', 'De', 'pé', ',', 'à', 'cabeceira', 'da', 'cama', ',', 'com', 'os', 'olhos', 'estúpidos', ',', 'a', 'boca', 'entreaberta'): 1, ('quatro', 'anos', ',', 'não', 'parece', 'que', 'reúna', 'em', 'si', 'todos', 'os', 'elementos', 'de', 'uma', 'tragédia', '.', 'E', 'dado', 'que', 'sim', ',', 'o', 'que', 'menos', 'convinha', 'a', 'essa', 'anônima', 'era', 'aparentá', '-', 'lo', '.', 'De', 'pé', ',', 'à', 'cabeceira', 'da', 'cama', ',', 'com', 'os', 'olhos', 'estúpidos', ',', 'a', 'boca', 'entreaberta', ','): 1, ('anos', ',', 'não', 'parece', 'que', 'reúna', 'em', 'si', 'todos', 'os', 'elementos', 'de', 'uma', 'tragédia', '.', 'E', 'dado', 'que', 'sim', ',', 'o', 'que', 'menos', 'convinha', 'a', 'essa', 'anônima', 'era', 'aparentá', '-', 'lo', '.', 'De', 'pé', ',', 'à', 'cabeceira', 'da', 'cama', ',', 'com', 'os', 'olhos', 'estúpidos', ',', 'a', 'boca', 'entreaberta', ',', 'a'): 1, (',', 'não', 'parece', 'que', 'reúna', 'em', 'si', 'todos', 'os', 'elementos', 'de', 'uma', 'tragédia', '.', 'E', 'dado', 'que', 'sim', ',', 'o', 'que', 'menos', 'convinha', 'a', 'essa', 'anônima', 'era', 'aparentá', '-', 'lo', '.', 'De', 'pé', ',', 'à', 'cabeceira', 'da', 'cama', ',', 'com', 'os', 'olhos', 'estúpidos', ',', 'a', 'boca', 'entreaberta', ',', 'a', 'triste'): 1, ('não', 'parece', 'que', 'reúna', 'em', 'si', 'todos', 'os', 'elementos', 'de', 'uma', 'tragédia', '.', 'E', 'dado', 'que', 'sim', ',', 'o', 'que', 'menos', 'convinha', 'a', 'essa', 'anônima', 'era', 'aparentá', '-', 'lo', '.', 'De', 'pé', ',', 'à', 'cabeceira', 'da', 'cama', ',', 'com', 'os', 'olhos', 'estúpidos', ',', 'a', 'boca', 'entreaberta', ',', 'a', 'triste', 'senhora'): 1, ...})"
            ]
          },
          "metadata": {},
          "execution_count": 57
        }
      ]
    },
    {
      "cell_type": "code",
      "source": [
        "# Procurando os ngrams mais comuns, que contenham uma palavra alvo em particular\n",
        "# NOTA: O livro usa a função ingrams, mas no NLTK 3, ela tornou-se apenas ngram\n",
        "from nltk import ngrams, FreqDist\n",
        "target_word = 'olhos'\n",
        "fd = (ng for ng in ngrams(text1, 30) if target_word in ng)\n",
        "print(fd)"
      ],
      "metadata": {
        "colab": {
          "base_uri": "https://localhost:8080/"
        },
        "id": "inSIjK7SgZqF",
        "outputId": "5ca31241-a256-49eb-dabb-a6d2752b8797"
      },
      "execution_count": null,
      "outputs": [
        {
          "output_type": "stream",
          "name": "stdout",
          "text": [
            "<generator object <genexpr> at 0x7bb2b39b5d90>\n"
          ]
        }
      ]
    }
  ]
}